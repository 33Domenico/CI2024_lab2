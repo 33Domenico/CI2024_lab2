{
 "cells": [
  {
   "cell_type": "code",
   "execution_count": 63,
   "metadata": {},
   "outputs": [],
   "source": [
    "import logging\n",
    "from itertools import combinations\n",
    "import pandas as pd\n",
    "import numpy as np\n",
    "from geopy.distance import geodesic\n",
    "import networkx as nx\n",
    "import random\n",
    "from icecream import ic\n",
    "from tqdm.auto import tqdm\n",
    "from matplotlib import pyplot as plt\n",
    "from itertools import accumulate\n",
    "import functools\n"
   ]
  },
  {
   "cell_type": "code",
   "execution_count": 64,
   "metadata": {},
   "outputs": [],
   "source": [
    "logging.basicConfig(level=logging.DEBUG)"
   ]
  },
  {
   "cell_type": "markdown",
   "metadata": {},
   "source": [
    "## Nearest Neighbor (Greedy)"
   ]
  },
  {
   "cell_type": "code",
   "execution_count": 65,
   "metadata": {},
   "outputs": [],
   "source": [
    "def nearest_neighbor_tsp(start_city_index=0):\n",
    "    \"\"\"\n",
    "    Solves the TSP using the Nearest Neighbour Greedy algorithm.\n",
    "    :param start_city_index: Index of the starting city\n",
    "    :return: List of the order of the visited cities and total length of the route\n",
    "    \"\"\"\n",
    "    dist_matrix=DIST_MATRIX.copy()\n",
    "    visited = np.full(len(CITIES), False)  \n",
    "    city = start_city_index  \n",
    "    visited[city] = True\n",
    "\n",
    "    tsp = [city]  \n",
    "\n",
    "    while not np.all(visited):\n",
    "        dist_matrix[:, city] = np.inf\n",
    "        closest_city = np.argmin(dist_matrix[city])\n",
    "        visited[closest_city] = True\n",
    "        tsp.append(int(closest_city))\n",
    "        city = closest_city\n",
    "\n",
    "    tsp.append(start_city_index)\n",
    "    \n",
    "    total_distance = tsp_cost(tsp,DIST_MATRIX)\n",
    "    \n",
    "    return tsp, total_distance"
   ]
  },
  {
   "cell_type": "code",
   "execution_count": 66,
   "metadata": {},
   "outputs": [],
   "source": [
    "def counter(fn):\n",
    "    \"\"\"Simple decorator for counting number of calls\"\"\"\n",
    "\n",
    "    @functools.wraps(fn)\n",
    "    def helper(*args, **kargs):\n",
    "        helper.calls += 1\n",
    "        return fn(*args, **kargs)\n",
    "\n",
    "    helper.calls = 0\n",
    "    return helper\n"
   ]
  },
  {
   "cell_type": "code",
   "execution_count": 67,
   "metadata": {},
   "outputs": [],
   "source": [
    "def valid(tsp):\n",
    "    \"\"\"\n",
    "    It verifies the validity of a TSP route.\n",
    "    \"\"\"\n",
    "    tsp = np.array(tsp)\n",
    "    \n",
    "    if tsp[0] != tsp[-1]:\n",
    "        return False\n",
    "    \n",
    "    # Verify that all cities are visited exactly once.\n",
    "    cities_visited = tsp[:-1]\n",
    "    expected_cities = np.arange(len(CITIES))\n",
    "    \n",
    "    return (len(np.unique(cities_visited)) == len(CITIES) and \n",
    "            np.all(np.isin(expected_cities, cities_visited)))\n",
    "@counter\n",
    "def tsp_cost(route, dist_matrix):\n",
    "    \"\"\"Calculate the cost of the route and its validity.\"\"\"\n",
    "    route = np.array(route)\n",
    "    # Calculates distances between consecutive cities.\n",
    "    total_distance = np.sum([dist_matrix[route[i], route[i+1]] \n",
    "                           for i in range(len(route)-1)])\n",
    "    return (total_distance, valid(route))"
   ]
  },
  {
   "cell_type": "markdown",
   "metadata": {},
   "source": [
    "## Inversion mutation"
   ]
  },
  {
   "cell_type": "code",
   "execution_count": 68,
   "metadata": {},
   "outputs": [],
   "source": [
    "def tweak(tsp):\n",
    "    \"\"\"Performs an inversion mutation on a TSP solution\"\"\"\n",
    "    tsp = np.array(tsp)\n",
    "    # Select two random points in the path to perform the inversion.\n",
    "    a, b = sorted(np.random.choice(range(1, len(tsp) - 1), 2, replace=False))\n",
    "    # Reverses the sub-path between the two selected points.\n",
    "    tsp[a:b+1] = np.flip(tsp[a:b+1])\n",
    "    return tsp.tolist()\n"
   ]
  },
  {
   "cell_type": "markdown",
   "metadata": {},
   "source": [
    "##  Simulated Annealing (SA) by Initial Population."
   ]
  },
  {
   "cell_type": "code",
   "execution_count": 69,
   "metadata": {},
   "outputs": [],
   "source": [
    "def simulated_annealing_population(dist_matrix, initial_temp, cooling_rate, stop_temp, population_size=100):\n",
    "    \"\"\"Simulated Annealing algorithm to generate an initial population\"\"\"\n",
    "    dist_matrix = np.array(dist_matrix)\n",
    "     # Find an initial solution with the Greedy method.\n",
    "    current_solution, current_cost = nearest_neighbor_tsp(start_city_index=0)\n",
    "    best_solution = current_solution[:]\n",
    "    best_cost = current_cost\n",
    "\n",
    "    population = [(best_solution, best_cost)]\n",
    "    temperature = initial_temp\n",
    "\n",
    "    while temperature > stop_temp:\n",
    "        new_solution = tweak(current_solution[:])\n",
    "        new_cost = tsp_cost(new_solution, dist_matrix)\n",
    "\n",
    "        if (new_cost[0] < current_cost[0] or \n",
    "            np.random.random() < np.exp((current_cost[0] - new_cost[0]) / temperature)):\n",
    "            current_solution = new_solution\n",
    "            current_cost = new_cost\n",
    "\n",
    "            if new_cost[0] < best_cost[0]:\n",
    "                best_solution = new_solution\n",
    "                best_cost = new_cost\n",
    "    \n",
    "            population.append((current_solution, current_cost))\n",
    "            \n",
    "        temperature *= cooling_rate\n",
    "    # Sort the population by cost and return the best 'population_size' individuals    \n",
    "    population = np.array(population, dtype=object)\n",
    "    sorted_indices = np.argsort([cost[0] for _, cost in population])\n",
    "    population = population[sorted_indices]\n",
    "    \n",
    "    return population[:population_size].tolist()"
   ]
  },
  {
   "cell_type": "code",
   "execution_count": 70,
   "metadata": {},
   "outputs": [],
   "source": [
    "def initial_population(pop_size):\n",
    "    \"\"\"Initialises the population using predefined parameters.\"\"\"\n",
    "    initial_temp = 1000\n",
    "    cooling_rate = 0.992\n",
    "    stop_temp = 1e-200\n",
    "    # Generate initial population with Simulated Annealing.\n",
    "    return simulated_annealing_population(DIST_MATRIX, initial_temp,\n",
    "                                        cooling_rate, stop_temp, pop_size)\n"
   ]
  },
  {
   "cell_type": "markdown",
   "metadata": {},
   "source": [
    "##  Crossover Inver-Over"
   ]
  },
  {
   "cell_type": "code",
   "execution_count": 71,
   "metadata": {},
   "outputs": [],
   "source": [
    "def inver_over_crossover(parent1, parent2, num_iterations=1):\n",
    "    \"\"\"Apply inver-over crossover \"\"\"\n",
    "    parent1, parent2 = np.array(parent1), np.array(parent2)\n",
    "    child = parent1.copy()\n",
    " # Perform a series of crossover iterations to create the child\n",
    "    for _ in range(num_iterations):\n",
    "        start_index = np.random.randint(1, len(child) - 2)\n",
    "        start_city = child[start_index]\n",
    "        # Randomly select a destination city from one of the parents.\n",
    "        if np.random.random() < 0.5:\n",
    "            valid_cities = child[1:-1][child[1:-1] != start_city]\n",
    "            end_city = np.random.choice(valid_cities)\n",
    "        else:\n",
    "            valid_cities = parent2[1:-1][parent2[1:-1] != start_city]\n",
    "            end_city = np.random.choice(valid_cities)\n",
    "        # Get start and destination city locations in the son.\n",
    "        start_pos = np.where(child == start_city)[0][0]\n",
    "        end_pos = np.where(child == end_city)[0][0]\n",
    "        \n",
    "        if start_pos > end_pos:\n",
    "            start_pos, end_pos = end_pos, start_pos\n",
    "          # Reverse the sub-path between the two positions.\n",
    "        child[start_pos:end_pos + 1] = np.flip(child[start_pos:end_pos + 1])\n",
    "    # The child ends up in the same city as the starting city.\n",
    "    if child[0] != child[-1]:\n",
    "        child = np.append(child, child[0])\n",
    "    \n",
    "    return child.tolist()"
   ]
  },
  {
   "cell_type": "code",
   "execution_count": 72,
   "metadata": {},
   "outputs": [],
   "source": [
    "def tournament_selection(population, k=5):\n",
    "    \"\"\"Tournament selection using NumPy.\"\"\"\n",
    "    # Randomly selects 'k' individuals from the population.\n",
    "    \n",
    "    selected_indices = np.random.choice(len(population), k, replace=False)\n",
    "    selected = np.array(population, dtype=object)[selected_indices]\n",
    "    # Returns the individual with the lowest cost among those selected.\n",
    "    return min(selected, key=lambda x: x[1][0])  # x[1][0] accede al costo\n"
   ]
  },
  {
   "cell_type": "markdown",
   "metadata": {},
   "source": [
    "## Inversion mutation"
   ]
  },
  {
   "cell_type": "code",
   "execution_count": 73,
   "metadata": {},
   "outputs": [],
   "source": [
    "def inversion_mutation(tsp):\n",
    "    \"\"\"Performs an inversion mutation \"\"\"\n",
    "    tsp = np.array(tsp)\n",
    "    a, b = sorted(np.random.choice(range(1, len(tsp) - 1), 2, replace=False))\n",
    "    tsp[a:b+1] = np.flip(tsp[a:b+1])\n",
    "    return tsp.tolist()\n"
   ]
  },
  {
   "cell_type": "markdown",
   "metadata": {},
   "source": [
    "## EA with adaptive mutation and multiple restart with simulated anneling."
   ]
  },
  {
   "cell_type": "code",
   "execution_count": 74,
   "metadata": {},
   "outputs": [],
   "source": [
    "def calculate_population_diversity(pop):\n",
    "        \"\"\"\n",
    "        Calculates diversity by comparing unique solutions.\n",
    "        Converts each path into a tuple to make it hashable.\n",
    "        \"\"\"\n",
    "        # Extracts only paths (not costs) and converts them into tuples\n",
    "        solutions = [tuple(individual[0]) for individual in pop]\n",
    "        unique_solutions = set(solutions)\n",
    "        \n",
    "        # Calculate the proportion of unique solutions\n",
    "        diversity = len(unique_solutions) / len(pop)\n",
    "        return diversity\n",
    "\n",
    "    \n",
    "def generate_diverse_individual(dist_matrix):\n",
    "        \"\"\"Generate a completely new random solution\"\"\"\n",
    "        cities_r = list(range(len(dist_matrix)))\n",
    "        np.random.shuffle(cities_r)\n",
    "        solution = cities_r + [cities_r[0]]  # Add the return to start\n",
    "        return solution, tsp_cost(solution, dist_matrix)\n"
   ]
  },
  {
   "cell_type": "code",
   "execution_count": null,
   "metadata": {},
   "outputs": [],
   "source": [
    "def evolutionary_algorithm_tsp_adaptive_mutation(\n",
    "    dist_matrix,\n",
    "    population_size=150,\n",
    "    tournament_size=10,\n",
    "    num_generations=10000,\n",
    "    initial_mutation_rate=0.1,\n",
    "    crossover_iterations=1,\n",
    "    max_generations_without_improvement=500,\n",
    "    mutation_increase_factor=1.5,\n",
    "    mutation_decrease_factor=0.7,\n",
    "    mutation_threshold=1.3,\n",
    "    initial_temp=1000,\n",
    "    cooling_rate=0.992,\n",
    "    stop_temp=1e-200,\n",
    "    diversity_threshold=0.3  \n",
    "):\n",
    "    \"\"\"It solves the TSP using a Evolutionary Algorithm with adaptive mutation and diversity maintenance.\"\"\"\n",
    "    dist_matrix = np.array(dist_matrix)\n",
    "    population = initial_population(population_size)\n",
    "    current_mutation_rate = initial_mutation_rate\n",
    "    \n",
    "    best_solution, best_cost = min(population, key=lambda x: x[1][0])\n",
    "    all_time_best_solution = best_solution\n",
    "    all_time_best_cost = best_cost\n",
    "    generations_without_improvement = 0\n",
    "    \n",
    "\n",
    "    \n",
    "    for generation in tqdm(range(num_generations)):\n",
    "        # Calculate current population diversity\n",
    "        diversity = calculate_population_diversity(population)\n",
    "        \n",
    "        # If diversity is too low, inject new random solutions\n",
    "        if diversity < diversity_threshold:\n",
    "            num_new_solutions = population_size // 4  # Replace 25% of population\n",
    "            new_solutions = [generate_diverse_individual(dist_matrix) for _ in range(num_new_solutions)]\n",
    "            \n",
    "            # Replace worst solutions with new random ones\n",
    "            population = sorted(population, key=lambda x: x[1][0])\n",
    "            population = population[:-num_new_solutions] + new_solutions\n",
    "        \n",
    "        \n",
    "        # Check if it is necessary to reboot with SA\n",
    "        if current_mutation_rate > mutation_threshold:\n",
    "            print(f\"\\nMutation rate ({current_mutation_rate:.3f}) exceeded threshold ({mutation_threshold})\")\n",
    "            print(\"Restarting with Simulated Annealing...\")\n",
    "            \n",
    "            new_population = simulated_annealing_population(\n",
    "                dist_matrix,\n",
    "                initial_temp,\n",
    "                cooling_rate,\n",
    "                stop_temp,\n",
    "                population_size\n",
    "            )\n",
    "            num_new_solutions = int(population_size * 0.7)\n",
    "            population = sorted(new_population, key=lambda x: x[1][0])[:population_size]\n",
    "            population = population[:-num_new_solutions] + new_population\n",
    "            current_mutation_rate = initial_mutation_rate\n",
    "            print(\"Population refreshed and mutation rate reset\")\n",
    "        \n",
    "        new_population = []\n",
    "        \n",
    "        # Modified selection to maintain diversity\n",
    "        while len(new_population) < population_size:\n",
    "            parent1 = tournament_selection(population, tournament_size)\n",
    "            parent2 = tournament_selection(population, tournament_size)\n",
    "            \n",
    "            child = inver_over_crossover(parent1[0], parent2[0], crossover_iterations)\n",
    "            \n",
    "            if np.random.random() < current_mutation_rate:\n",
    "                child = inversion_mutation(child)\n",
    "\n",
    "            child_cost = tsp_cost(child, dist_matrix)\n",
    "            new_population.append((child, child_cost))\n",
    "\n",
    "        combined_population = np.array(new_population + population, dtype=object)\n",
    "        sorted_indices = np.argsort([cost[0] for _, cost in combined_population])\n",
    "        population = combined_population[sorted_indices][:population_size].tolist()\n",
    "\n",
    "        new_best_solution, new_best_cost = min(population, key=lambda x: x[1][0])\n",
    "\n",
    "         # Update the best result ever if needed\n",
    "        if new_best_cost[0] < all_time_best_cost[0]:\n",
    "            all_time_best_solution = new_best_solution\n",
    "            all_time_best_cost = new_best_cost\n",
    "\n",
    "        if new_best_cost[0] < best_cost[0]:\n",
    "            best_solution, best_cost = new_best_solution, new_best_cost\n",
    "            generations_without_improvement = 0\n",
    "            current_mutation_rate = max(initial_mutation_rate, \n",
    "                                     current_mutation_rate * mutation_decrease_factor)\n",
    "        else:\n",
    "            generations_without_improvement += 1\n",
    "\n",
    "        if generations_without_improvement > max_generations_without_improvement:\n",
    "            current_mutation_rate *= mutation_increase_factor\n",
    "            generations_without_improvement = 0\n",
    "\n",
    "        if generation % 1000 == 0:\n",
    "            print(f\"Generation {generation}: \"\n",
    "                  f\"Absolute best cost = {all_time_best_cost[0]:.2f} | \"\n",
    "                  f\"Mutation rate = {current_mutation_rate:.3f} | \"\n",
    "                  f\"Diversity = {diversity:.3f} | \"\n",
    "                  f\"Valid = {best_cost[1]}\")\n",
    "    return all_time_best_cost"
   ]
  },
  {
   "cell_type": "markdown",
   "metadata": {},
   "source": [
    "## Vanuatu"
   ]
  },
  {
   "cell_type": "code",
   "execution_count": 76,
   "metadata": {},
   "outputs": [
    {
     "name": "stderr",
     "output_type": "stream",
     "text": [
      "0it [00:00, ?it/s]\n",
      "ic| best_cost: (np.float64(1345.5449564733112), np.True_)\n",
      "    tsp_cost.calls: 58196\n"
     ]
    },
    {
     "data": {
      "text/plain": [
       "((np.float64(1345.5449564733112), np.True_), 58196)"
      ]
     },
     "execution_count": 76,
     "metadata": {},
     "output_type": "execute_result"
    }
   ],
   "source": [
    "\n",
    "CITIES = pd.read_csv('./cities/vanuatu.csv', header=None, names=['name', 'lat', 'lon'])\n",
    "DIST_MATRIX = np.zeros((len(CITIES), len(CITIES)))\n",
    "for c1, c2 in combinations(CITIES.itertuples(), 2):\n",
    "    DIST_MATRIX[c1.Index, c2.Index] = DIST_MATRIX[c2.Index, c1.Index] = geodesic(\n",
    "        (c1.lat, c1.lon), (c2.lat, c2.lon)\n",
    "    ).km\n",
    "\n",
    "best_cost=evolutionary_algorithm_tsp_adaptive_mutation(\n",
    "    DIST_MATRIX,\n",
    "    num_generations=0, \n",
    ")\n",
    "ic(best_cost,tsp_cost.calls)\n",
    "\n"
   ]
  },
  {
   "cell_type": "markdown",
   "metadata": {},
   "source": [
    "For vanuatu just applying simulated anneling to get the best solution is enough"
   ]
  },
  {
   "cell_type": "markdown",
   "metadata": {},
   "source": [
    "## Italy"
   ]
  },
  {
   "cell_type": "code",
   "execution_count": 83,
   "metadata": {},
   "outputs": [
    {
     "name": "stderr",
     "output_type": "stream",
     "text": [
      "  0%|          | 10/10000 [00:00<04:02, 41.22it/s]"
     ]
    },
    {
     "name": "stdout",
     "output_type": "stream",
     "text": [
      "Generation 0: Absolute best cost = 4436.03 | Mutation rate = 0.100 | Diversity = 0.987 | Valid = True\n"
     ]
    },
    {
     "name": "stderr",
     "output_type": "stream",
     "text": [
      " 10%|█         | 1005/10000 [00:24<03:49, 39.17it/s]"
     ]
    },
    {
     "name": "stdout",
     "output_type": "stream",
     "text": [
      "Generation 1000: Absolute best cost = 4258.07 | Mutation rate = 0.130 | Diversity = 0.273 | Valid = True\n"
     ]
    },
    {
     "name": "stderr",
     "output_type": "stream",
     "text": [
      " 20%|██        | 2007/10000 [00:49<03:20, 39.77it/s]"
     ]
    },
    {
     "name": "stdout",
     "output_type": "stream",
     "text": [
      "Generation 2000: Absolute best cost = 4258.07 | Mutation rate = 0.220 | Diversity = 0.253 | Valid = True\n"
     ]
    },
    {
     "name": "stderr",
     "output_type": "stream",
     "text": [
      " 30%|███       | 3005/10000 [01:15<03:08, 37.13it/s]"
     ]
    },
    {
     "name": "stdout",
     "output_type": "stream",
     "text": [
      "Generation 3000: Absolute best cost = 4258.07 | Mutation rate = 0.371 | Diversity = 0.253 | Valid = True\n"
     ]
    },
    {
     "name": "stderr",
     "output_type": "stream",
     "text": [
      " 40%|████      | 4005/10000 [01:41<02:39, 37.61it/s]"
     ]
    },
    {
     "name": "stdout",
     "output_type": "stream",
     "text": [
      "Generation 4000: Absolute best cost = 4258.07 | Mutation rate = 0.627 | Diversity = 0.240 | Valid = True\n"
     ]
    },
    {
     "name": "stderr",
     "output_type": "stream",
     "text": [
      " 50%|█████     | 5008/10000 [02:08<02:19, 35.70it/s]"
     ]
    },
    {
     "name": "stdout",
     "output_type": "stream",
     "text": [
      "Generation 5000: Absolute best cost = 4258.07 | Mutation rate = 1.060 | Diversity = 0.253 | Valid = True\n"
     ]
    },
    {
     "name": "stderr",
     "output_type": "stream",
     "text": [
      " 51%|█████▏    | 5145/10000 [02:12<02:10, 37.21it/s]"
     ]
    },
    {
     "name": "stdout",
     "output_type": "stream",
     "text": [
      "\n",
      "Mutation rate (1.379) exceeded threshold (1.3)\n",
      "Restarting with Simulated Annealing...\n"
     ]
    },
    {
     "name": "stderr",
     "output_type": "stream",
     "text": [
      " 52%|█████▏    | 5154/10000 [02:15<14:12,  5.68it/s]"
     ]
    },
    {
     "name": "stdout",
     "output_type": "stream",
     "text": [
      "Population refreshed and mutation rate reset\n"
     ]
    },
    {
     "name": "stderr",
     "output_type": "stream",
     "text": [
      " 60%|██████    | 6006/10000 [02:35<02:08, 31.17it/s]"
     ]
    },
    {
     "name": "stdout",
     "output_type": "stream",
     "text": [
      "Generation 6000: Absolute best cost = 4181.62 | Mutation rate = 0.100 | Diversity = 0.273 | Valid = True\n"
     ]
    },
    {
     "name": "stderr",
     "output_type": "stream",
     "text": [
      " 70%|███████   | 7007/10000 [03:02<01:17, 38.76it/s]"
     ]
    },
    {
     "name": "stdout",
     "output_type": "stream",
     "text": [
      "Generation 7000: Absolute best cost = 4181.62 | Mutation rate = 0.169 | Diversity = 0.213 | Valid = True\n"
     ]
    },
    {
     "name": "stderr",
     "output_type": "stream",
     "text": [
      " 80%|████████  | 8007/10000 [03:28<00:57, 34.50it/s]"
     ]
    },
    {
     "name": "stdout",
     "output_type": "stream",
     "text": [
      "Generation 8000: Absolute best cost = 4172.76 | Mutation rate = 0.140 | Diversity = 0.267 | Valid = True\n"
     ]
    },
    {
     "name": "stderr",
     "output_type": "stream",
     "text": [
      " 90%|█████████ | 9008/10000 [03:54<00:26, 37.54it/s]"
     ]
    },
    {
     "name": "stdout",
     "output_type": "stream",
     "text": [
      "Generation 9000: Absolute best cost = 4172.76 | Mutation rate = 0.237 | Diversity = 0.240 | Valid = True\n"
     ]
    },
    {
     "name": "stderr",
     "output_type": "stream",
     "text": [
      "100%|██████████| 10000/10000 [04:20<00:00, 38.33it/s]\n",
      "ic| best_cost: (np.float64(4172.7626139164095), np.True_)\n",
      "    tsp_cost.calls: 17225581\n"
     ]
    },
    {
     "data": {
      "text/plain": [
       "((np.float64(4172.7626139164095), np.True_), 17225581)"
      ]
     },
     "execution_count": 83,
     "metadata": {},
     "output_type": "execute_result"
    }
   ],
   "source": [
    "\n",
    "CITIES = pd.read_csv('./cities/italy.csv', header=None, names=['name', 'lat', 'lon'])\n",
    "DIST_MATRIX = np.zeros((len(CITIES), len(CITIES)))\n",
    "for c1, c2 in combinations(CITIES.itertuples(), 2):\n",
    "    DIST_MATRIX[c1.Index, c2.Index] = DIST_MATRIX[c2.Index, c1.Index] = geodesic(\n",
    "        (c1.lat, c1.lon), (c2.lat, c2.lon)\n",
    "    ).km\n",
    "best_cost=evolutionary_algorithm_tsp_adaptive_mutation(\n",
    "    DIST_MATRIX,\n",
    "    mutation_increase_factor=1.3,\n",
    "    mutation_decrease_factor=0.7\n",
    ")\n",
    "ic(best_cost,tsp_cost.calls)\n"
   ]
  },
  {
   "cell_type": "markdown",
   "metadata": {},
   "source": [
    "## Russia"
   ]
  },
  {
   "cell_type": "code",
   "execution_count": 86,
   "metadata": {},
   "outputs": [
    {
     "name": "stderr",
     "output_type": "stream",
     "text": [
      "  0%|          | 4/10000 [00:00<05:27, 30.49it/s]"
     ]
    },
    {
     "name": "stdout",
     "output_type": "stream",
     "text": [
      "Generation 0: Absolute best cost = 35920.20 | Mutation rate = 0.100 | Diversity = 1.000 | Valid = True\n"
     ]
    },
    {
     "name": "stderr",
     "output_type": "stream",
     "text": [
      " 10%|█         | 1007/10000 [00:37<04:58, 30.09it/s]"
     ]
    },
    {
     "name": "stdout",
     "output_type": "stream",
     "text": [
      "Generation 1000: Absolute best cost = 35279.71 | Mutation rate = 0.100 | Diversity = 0.960 | Valid = True\n"
     ]
    },
    {
     "name": "stderr",
     "output_type": "stream",
     "text": [
      " 20%|██        | 2004/10000 [01:23<04:03, 32.81it/s]"
     ]
    },
    {
     "name": "stdout",
     "output_type": "stream",
     "text": [
      "Generation 2000: Absolute best cost = 35244.93 | Mutation rate = 0.100 | Diversity = 0.873 | Valid = True\n"
     ]
    },
    {
     "name": "stderr",
     "output_type": "stream",
     "text": [
      " 30%|███       | 3005/10000 [01:56<04:07, 28.31it/s]"
     ]
    },
    {
     "name": "stdout",
     "output_type": "stream",
     "text": [
      "Generation 3000: Absolute best cost = 35241.69 | Mutation rate = 0.150 | Diversity = 0.720 | Valid = True\n"
     ]
    },
    {
     "name": "stderr",
     "output_type": "stream",
     "text": [
      " 40%|████      | 4003/10000 [02:39<03:38, 27.40it/s]"
     ]
    },
    {
     "name": "stdout",
     "output_type": "stream",
     "text": [
      "Generation 4000: Absolute best cost = 35241.69 | Mutation rate = 0.338 | Diversity = 0.533 | Valid = True\n"
     ]
    },
    {
     "name": "stderr",
     "output_type": "stream",
     "text": [
      " 50%|█████     | 5004/10000 [03:13<02:54, 28.59it/s]"
     ]
    },
    {
     "name": "stdout",
     "output_type": "stream",
     "text": [
      "Generation 5000: Absolute best cost = 35241.69 | Mutation rate = 0.759 | Diversity = 0.327 | Valid = True\n"
     ]
    },
    {
     "name": "stderr",
     "output_type": "stream",
     "text": [
      " 54%|█████▍    | 5413/10000 [03:27<02:31, 30.29it/s]"
     ]
    },
    {
     "name": "stdout",
     "output_type": "stream",
     "text": [
      "\n",
      "Mutation rate (1.139) exceeded threshold (1)\n",
      "Restarting with Simulated Annealing...\n"
     ]
    },
    {
     "name": "stderr",
     "output_type": "stream",
     "text": [
      " 54%|█████▍    | 5417/10000 [03:35<47:22,  1.61it/s]"
     ]
    },
    {
     "name": "stdout",
     "output_type": "stream",
     "text": [
      "Population refreshed and mutation rate reset\n"
     ]
    },
    {
     "name": "stderr",
     "output_type": "stream",
     "text": [
      " 60%|██████    | 6006/10000 [03:55<02:15, 29.49it/s]"
     ]
    },
    {
     "name": "stdout",
     "output_type": "stream",
     "text": [
      "Generation 6000: Absolute best cost = 34563.60 | Mutation rate = 0.100 | Diversity = 0.933 | Valid = True\n"
     ]
    },
    {
     "name": "stderr",
     "output_type": "stream",
     "text": [
      " 70%|███████   | 7005/10000 [04:27<01:37, 30.72it/s]"
     ]
    },
    {
     "name": "stdout",
     "output_type": "stream",
     "text": [
      "Generation 7000: Absolute best cost = 34503.82 | Mutation rate = 0.100 | Diversity = 0.860 | Valid = True\n"
     ]
    },
    {
     "name": "stderr",
     "output_type": "stream",
     "text": [
      " 80%|████████  | 8007/10000 [04:59<01:01, 32.19it/s]"
     ]
    },
    {
     "name": "stdout",
     "output_type": "stream",
     "text": [
      "Generation 8000: Absolute best cost = 34500.09 | Mutation rate = 0.100 | Diversity = 0.673 | Valid = True\n"
     ]
    },
    {
     "name": "stderr",
     "output_type": "stream",
     "text": [
      " 90%|█████████ | 9003/10000 [05:31<00:32, 30.77it/s]"
     ]
    },
    {
     "name": "stdout",
     "output_type": "stream",
     "text": [
      "Generation 9000: Absolute best cost = 34500.09 | Mutation rate = 0.225 | Diversity = 0.487 | Valid = True\n"
     ]
    },
    {
     "name": "stderr",
     "output_type": "stream",
     "text": [
      "100%|██████████| 10000/10000 [06:05<00:00, 27.33it/s]\n",
      "ic| best_cost: (np.float64(34500.0850090654), np.True_)\n",
      "    tsp_cost.calls: 20516709\n"
     ]
    },
    {
     "data": {
      "text/plain": [
       "((np.float64(34500.0850090654), np.True_), 20516709)"
      ]
     },
     "execution_count": 86,
     "metadata": {},
     "output_type": "execute_result"
    }
   ],
   "source": [
    "\n",
    "CITIES = pd.read_csv('./cities/russia.csv', header=None, names=['name', 'lat', 'lon'])\n",
    "DIST_MATRIX = np.zeros((len(CITIES), len(CITIES)))\n",
    "for c1, c2 in combinations(CITIES.itertuples(), 2):\n",
    "    DIST_MATRIX[c1.Index, c2.Index] = DIST_MATRIX[c2.Index, c1.Index] = geodesic(\n",
    "        (c1.lat, c1.lon), (c2.lat, c2.lon)\n",
    "    ).km\n",
    "best_cost=evolutionary_algorithm_tsp_adaptive_mutation(DIST_MATRIX,mutation_threshold=1)\n",
    "ic(best_cost,tsp_cost.calls)\n"
   ]
  },
  {
   "cell_type": "markdown",
   "metadata": {},
   "source": [
    "## Us"
   ]
  },
  {
   "cell_type": "code",
   "execution_count": 79,
   "metadata": {},
   "outputs": [
    {
     "name": "stderr",
     "output_type": "stream",
     "text": [
      "  0%|          | 3/20000 [00:00<13:33, 24.60it/s]"
     ]
    },
    {
     "name": "stdout",
     "output_type": "stream",
     "text": [
      "Generation 0: Absolute best cost = 46171.34 | Mutation rate = 0.100 | Diversity = 1.000 | Valid = True\n"
     ]
    },
    {
     "name": "stderr",
     "output_type": "stream",
     "text": [
      "  5%|▌         | 1005/20000 [00:42<13:23, 23.64it/s]"
     ]
    },
    {
     "name": "stdout",
     "output_type": "stream",
     "text": [
      "Generation 1000: Absolute best cost = 42900.16 | Mutation rate = 0.100 | Diversity = 0.987 | Valid = True\n"
     ]
    },
    {
     "name": "stderr",
     "output_type": "stream",
     "text": [
      " 10%|█         | 2004/20000 [01:24<12:57, 23.16it/s]"
     ]
    },
    {
     "name": "stdout",
     "output_type": "stream",
     "text": [
      "Generation 2000: Absolute best cost = 41672.85 | Mutation rate = 0.100 | Diversity = 0.993 | Valid = True\n"
     ]
    },
    {
     "name": "stderr",
     "output_type": "stream",
     "text": [
      " 15%|█▌        | 3003/20000 [02:05<11:58, 23.65it/s]"
     ]
    },
    {
     "name": "stdout",
     "output_type": "stream",
     "text": [
      "Generation 3000: Absolute best cost = 41122.62 | Mutation rate = 0.100 | Diversity = 1.000 | Valid = True\n"
     ]
    },
    {
     "name": "stderr",
     "output_type": "stream",
     "text": [
      " 20%|██        | 4005/20000 [02:48<11:36, 22.95it/s]"
     ]
    },
    {
     "name": "stdout",
     "output_type": "stream",
     "text": [
      "Generation 4000: Absolute best cost = 40981.50 | Mutation rate = 0.100 | Diversity = 0.967 | Valid = True\n"
     ]
    },
    {
     "name": "stderr",
     "output_type": "stream",
     "text": [
      " 25%|██▌       | 5004/20000 [03:30<10:10, 24.56it/s]"
     ]
    },
    {
     "name": "stdout",
     "output_type": "stream",
     "text": [
      "Generation 5000: Absolute best cost = 40868.11 | Mutation rate = 0.100 | Diversity = 0.980 | Valid = True\n"
     ]
    },
    {
     "name": "stderr",
     "output_type": "stream",
     "text": [
      " 30%|███       | 6002/20000 [04:44<31:44,  7.35it/s]"
     ]
    },
    {
     "name": "stdout",
     "output_type": "stream",
     "text": [
      "Generation 6000: Absolute best cost = 40822.70 | Mutation rate = 0.100 | Diversity = 0.993 | Valid = True\n"
     ]
    },
    {
     "name": "stderr",
     "output_type": "stream",
     "text": [
      " 35%|███▌      | 7004/20000 [07:04<08:53, 24.38it/s]"
     ]
    },
    {
     "name": "stdout",
     "output_type": "stream",
     "text": [
      "Generation 7000: Absolute best cost = 40738.75 | Mutation rate = 0.100 | Diversity = 0.993 | Valid = True\n"
     ]
    },
    {
     "name": "stderr",
     "output_type": "stream",
     "text": [
      " 40%|████      | 8003/20000 [07:55<08:37, 23.18it/s]"
     ]
    },
    {
     "name": "stdout",
     "output_type": "stream",
     "text": [
      "Generation 8000: Absolute best cost = 40710.40 | Mutation rate = 0.100 | Diversity = 0.980 | Valid = True\n"
     ]
    },
    {
     "name": "stderr",
     "output_type": "stream",
     "text": [
      " 45%|████▌     | 9002/20000 [08:46<22:49,  8.03it/s]"
     ]
    },
    {
     "name": "stdout",
     "output_type": "stream",
     "text": [
      "Generation 9000: Absolute best cost = 40689.78 | Mutation rate = 0.100 | Diversity = 0.947 | Valid = True\n"
     ]
    },
    {
     "name": "stderr",
     "output_type": "stream",
     "text": [
      " 50%|█████     | 10002/20000 [09:59<22:38,  7.36it/s]"
     ]
    },
    {
     "name": "stdout",
     "output_type": "stream",
     "text": [
      "Generation 10000: Absolute best cost = 40688.07 | Mutation rate = 0.110 | Diversity = 0.907 | Valid = True\n"
     ]
    },
    {
     "name": "stderr",
     "output_type": "stream",
     "text": [
      " 55%|█████▌    | 11004/20000 [11:06<06:20, 23.62it/s]"
     ]
    },
    {
     "name": "stdout",
     "output_type": "stream",
     "text": [
      "Generation 11000: Absolute best cost = 40683.46 | Mutation rate = 0.150 | Diversity = 0.907 | Valid = True\n"
     ]
    },
    {
     "name": "stderr",
     "output_type": "stream",
     "text": [
      " 60%|██████    | 12005/20000 [12:06<05:53, 22.63it/s]"
     ]
    },
    {
     "name": "stdout",
     "output_type": "stream",
     "text": [
      "Generation 12000: Absolute best cost = 40678.38 | Mutation rate = 0.150 | Diversity = 0.880 | Valid = True\n"
     ]
    },
    {
     "name": "stderr",
     "output_type": "stream",
     "text": [
      " 65%|██████▌   | 13004/20000 [12:50<05:14, 22.23it/s]"
     ]
    },
    {
     "name": "stdout",
     "output_type": "stream",
     "text": [
      "Generation 13000: Absolute best cost = 40666.47 | Mutation rate = 0.100 | Diversity = 0.940 | Valid = True\n"
     ]
    },
    {
     "name": "stderr",
     "output_type": "stream",
     "text": [
      " 70%|███████   | 14002/20000 [14:48<13:23,  7.46it/s]"
     ]
    },
    {
     "name": "stdout",
     "output_type": "stream",
     "text": [
      "Generation 14000: Absolute best cost = 40659.81 | Mutation rate = 0.100 | Diversity = 0.927 | Valid = True\n"
     ]
    },
    {
     "name": "stderr",
     "output_type": "stream",
     "text": [
      " 75%|███████▌  | 15002/20000 [16:56<13:44,  6.06it/s]"
     ]
    },
    {
     "name": "stdout",
     "output_type": "stream",
     "text": [
      "Generation 15000: Absolute best cost = 40658.51 | Mutation rate = 0.105 | Diversity = 0.827 | Valid = True\n"
     ]
    },
    {
     "name": "stderr",
     "output_type": "stream",
     "text": [
      " 80%|████████  | 16001/20000 [19:02<12:22,  5.39it/s]"
     ]
    },
    {
     "name": "stdout",
     "output_type": "stream",
     "text": [
      "Generation 16000: Absolute best cost = 40658.51 | Mutation rate = 0.236 | Diversity = 0.820 | Valid = True\n"
     ]
    },
    {
     "name": "stderr",
     "output_type": "stream",
     "text": [
      " 85%|████████▌ | 17002/20000 [20:58<07:14,  6.90it/s]"
     ]
    },
    {
     "name": "stdout",
     "output_type": "stream",
     "text": [
      "Generation 17000: Absolute best cost = 40657.45 | Mutation rate = 0.372 | Diversity = 0.767 | Valid = True\n"
     ]
    },
    {
     "name": "stderr",
     "output_type": "stream",
     "text": [
      " 90%|█████████ | 18002/20000 [22:53<06:06,  5.46it/s]"
     ]
    },
    {
     "name": "stdout",
     "output_type": "stream",
     "text": [
      "Generation 18000: Absolute best cost = 40657.45 | Mutation rate = 0.837 | Diversity = 0.800 | Valid = True\n"
     ]
    },
    {
     "name": "stderr",
     "output_type": "stream",
     "text": [
      " 94%|█████████▍| 18782/20000 [25:08<01:06, 18.28it/s]"
     ]
    },
    {
     "name": "stdout",
     "output_type": "stream",
     "text": [
      "\n",
      "Mutation rate (1.884) exceeded threshold (1.3)\n",
      "Restarting with Simulated Annealing...\n"
     ]
    },
    {
     "name": "stderr",
     "output_type": "stream",
     "text": [
      " 94%|█████████▍| 18784/20000 [25:19<34:18,  1.69s/it]"
     ]
    },
    {
     "name": "stdout",
     "output_type": "stream",
     "text": [
      "Population refreshed and mutation rate reset\n"
     ]
    },
    {
     "name": "stderr",
     "output_type": "stream",
     "text": [
      " 95%|█████████▌| 19004/20000 [25:29<00:46, 21.58it/s]"
     ]
    },
    {
     "name": "stdout",
     "output_type": "stream",
     "text": [
      "Generation 19000: Absolute best cost = 40657.45 | Mutation rate = 0.100 | Diversity = 0.993 | Valid = True\n"
     ]
    },
    {
     "name": "stderr",
     "output_type": "stream",
     "text": [
      "100%|██████████| 20000/20000 [26:15<00:00, 12.69it/s]\n",
      "ic| best_cost: (np.float64(40657.4481932187), np.True_)\n",
      "    tsp_cost.calls: 6748142\n"
     ]
    },
    {
     "data": {
      "text/plain": [
       "((np.float64(40657.4481932187), np.True_), 6748142)"
      ]
     },
     "execution_count": 79,
     "metadata": {},
     "output_type": "execute_result"
    }
   ],
   "source": [
    "\n",
    "CITIES = pd.read_csv('./cities/us.csv', header=None, names=['name', 'lat', 'lon'])\n",
    "DIST_MATRIX = np.zeros((len(CITIES), len(CITIES)))\n",
    "for c1, c2 in combinations(CITIES.itertuples(), 2):\n",
    "    DIST_MATRIX[c1.Index, c2.Index] = DIST_MATRIX[c2.Index, c1.Index] = geodesic(\n",
    "        (c1.lat, c1.lon), (c2.lat, c2.lon)\n",
    "    ).km\n",
    "best_cost=evolutionary_algorithm_tsp_adaptive_mutation(\n",
    "    DIST_MATRIX,\n",
    "    num_generations=20000)\n",
    "ic(best_cost,tsp_cost.calls)"
   ]
  },
  {
   "cell_type": "markdown",
   "metadata": {},
   "source": [
    "## China"
   ]
  },
  {
   "cell_type": "code",
   "execution_count": 80,
   "metadata": {},
   "outputs": [
    {
     "name": "stderr",
     "output_type": "stream",
     "text": [
      "  0%|          | 2/30000 [00:00<34:55, 14.32it/s]"
     ]
    },
    {
     "name": "stdout",
     "output_type": "stream",
     "text": [
      "Generation 0: Absolute best cost = 63962.92 | Mutation rate = 0.100 | Diversity = 1.000 | Valid = True\n"
     ]
    },
    {
     "name": "stderr",
     "output_type": "stream",
     "text": [
      "  3%|▎         | 1002/30000 [02:55<37:20, 12.94it/s] "
     ]
    },
    {
     "name": "stdout",
     "output_type": "stream",
     "text": [
      "Generation 1000: Absolute best cost = 62312.90 | Mutation rate = 0.100 | Diversity = 1.000 | Valid = True\n"
     ]
    },
    {
     "name": "stderr",
     "output_type": "stream",
     "text": [
      "  7%|▋         | 2001/30000 [04:14<1:35:18,  4.90it/s]"
     ]
    },
    {
     "name": "stdout",
     "output_type": "stream",
     "text": [
      "Generation 2000: Absolute best cost = 59895.61 | Mutation rate = 0.100 | Diversity = 1.000 | Valid = True\n"
     ]
    },
    {
     "name": "stderr",
     "output_type": "stream",
     "text": [
      " 10%|█         | 3001/30000 [08:25<2:01:58,  3.69it/s]"
     ]
    },
    {
     "name": "stdout",
     "output_type": "stream",
     "text": [
      "Generation 3000: Absolute best cost = 58286.72 | Mutation rate = 0.100 | Diversity = 0.993 | Valid = True\n"
     ]
    },
    {
     "name": "stderr",
     "output_type": "stream",
     "text": [
      " 13%|█▎        | 4003/30000 [11:15<35:42, 12.13it/s]  "
     ]
    },
    {
     "name": "stdout",
     "output_type": "stream",
     "text": [
      "Generation 4000: Absolute best cost = 57090.34 | Mutation rate = 0.100 | Diversity = 0.993 | Valid = True\n"
     ]
    },
    {
     "name": "stderr",
     "output_type": "stream",
     "text": [
      " 17%|█▋        | 5001/30000 [15:15<1:31:47,  4.54it/s]"
     ]
    },
    {
     "name": "stdout",
     "output_type": "stream",
     "text": [
      "Generation 5000: Absolute best cost = 56517.28 | Mutation rate = 0.100 | Diversity = 0.993 | Valid = True\n"
     ]
    },
    {
     "name": "stderr",
     "output_type": "stream",
     "text": [
      " 20%|██        | 6001/30000 [19:22<1:35:13,  4.20it/s]"
     ]
    },
    {
     "name": "stdout",
     "output_type": "stream",
     "text": [
      "Generation 6000: Absolute best cost = 56173.17 | Mutation rate = 0.100 | Diversity = 1.000 | Valid = True\n"
     ]
    },
    {
     "name": "stderr",
     "output_type": "stream",
     "text": [
      " 23%|██▎       | 7001/30000 [23:19<1:24:27,  4.54it/s]"
     ]
    },
    {
     "name": "stdout",
     "output_type": "stream",
     "text": [
      "Generation 7000: Absolute best cost = 55687.83 | Mutation rate = 0.100 | Diversity = 1.000 | Valid = True\n"
     ]
    },
    {
     "name": "stderr",
     "output_type": "stream",
     "text": [
      " 27%|██▋       | 8003/30000 [26:07<26:16, 13.95it/s]  "
     ]
    },
    {
     "name": "stdout",
     "output_type": "stream",
     "text": [
      "Generation 8000: Absolute best cost = 55187.92 | Mutation rate = 0.100 | Diversity = 1.000 | Valid = True\n"
     ]
    },
    {
     "name": "stderr",
     "output_type": "stream",
     "text": [
      " 30%|███       | 9003/30000 [27:20<26:25, 13.24it/s]"
     ]
    },
    {
     "name": "stdout",
     "output_type": "stream",
     "text": [
      "Generation 9000: Absolute best cost = 54920.46 | Mutation rate = 0.100 | Diversity = 0.993 | Valid = True\n"
     ]
    },
    {
     "name": "stderr",
     "output_type": "stream",
     "text": [
      " 33%|███▎      | 10003/30000 [28:33<23:47, 14.01it/s]"
     ]
    },
    {
     "name": "stdout",
     "output_type": "stream",
     "text": [
      "Generation 10000: Absolute best cost = 54609.74 | Mutation rate = 0.100 | Diversity = 0.987 | Valid = True\n"
     ]
    },
    {
     "name": "stderr",
     "output_type": "stream",
     "text": [
      " 37%|███▋      | 11003/30000 [29:46<21:49, 14.50it/s]"
     ]
    },
    {
     "name": "stdout",
     "output_type": "stream",
     "text": [
      "Generation 11000: Absolute best cost = 54395.40 | Mutation rate = 0.100 | Diversity = 0.987 | Valid = True\n"
     ]
    },
    {
     "name": "stderr",
     "output_type": "stream",
     "text": [
      " 40%|████      | 12003/30000 [31:06<23:31, 12.75it/s]"
     ]
    },
    {
     "name": "stdout",
     "output_type": "stream",
     "text": [
      "Generation 12000: Absolute best cost = 54175.57 | Mutation rate = 0.100 | Diversity = 1.000 | Valid = True\n"
     ]
    },
    {
     "name": "stderr",
     "output_type": "stream",
     "text": [
      " 43%|████▎     | 13003/30000 [32:27<21:33, 13.14it/s]"
     ]
    },
    {
     "name": "stdout",
     "output_type": "stream",
     "text": [
      "Generation 13000: Absolute best cost = 54104.84 | Mutation rate = 0.100 | Diversity = 0.987 | Valid = True\n"
     ]
    },
    {
     "name": "stderr",
     "output_type": "stream",
     "text": [
      " 47%|████▋     | 14003/30000 [33:47<21:46, 12.24it/s]"
     ]
    },
    {
     "name": "stdout",
     "output_type": "stream",
     "text": [
      "Generation 14000: Absolute best cost = 53995.83 | Mutation rate = 0.100 | Diversity = 1.000 | Valid = True\n"
     ]
    },
    {
     "name": "stderr",
     "output_type": "stream",
     "text": [
      " 50%|█████     | 15003/30000 [35:08<20:07, 12.42it/s]"
     ]
    },
    {
     "name": "stdout",
     "output_type": "stream",
     "text": [
      "Generation 15000: Absolute best cost = 53880.54 | Mutation rate = 0.100 | Diversity = 0.987 | Valid = True\n"
     ]
    },
    {
     "name": "stderr",
     "output_type": "stream",
     "text": [
      " 53%|█████▎    | 16003/30000 [36:26<16:44, 13.94it/s]"
     ]
    },
    {
     "name": "stdout",
     "output_type": "stream",
     "text": [
      "Generation 16000: Absolute best cost = 53762.54 | Mutation rate = 0.100 | Diversity = 0.987 | Valid = True\n"
     ]
    },
    {
     "name": "stderr",
     "output_type": "stream",
     "text": [
      " 57%|█████▋    | 17003/30000 [37:39<15:59, 13.55it/s]"
     ]
    },
    {
     "name": "stdout",
     "output_type": "stream",
     "text": [
      "Generation 17000: Absolute best cost = 53668.51 | Mutation rate = 0.100 | Diversity = 1.000 | Valid = True\n"
     ]
    },
    {
     "name": "stderr",
     "output_type": "stream",
     "text": [
      " 60%|██████    | 18003/30000 [38:52<14:34, 13.71it/s]"
     ]
    },
    {
     "name": "stdout",
     "output_type": "stream",
     "text": [
      "Generation 18000: Absolute best cost = 53591.07 | Mutation rate = 0.100 | Diversity = 1.000 | Valid = True\n"
     ]
    },
    {
     "name": "stderr",
     "output_type": "stream",
     "text": [
      " 63%|██████▎   | 19003/30000 [40:07<13:31, 13.55it/s]"
     ]
    },
    {
     "name": "stdout",
     "output_type": "stream",
     "text": [
      "Generation 19000: Absolute best cost = 53500.19 | Mutation rate = 0.100 | Diversity = 0.993 | Valid = True\n"
     ]
    },
    {
     "name": "stderr",
     "output_type": "stream",
     "text": [
      " 67%|██████▋   | 20003/30000 [41:20<12:01, 13.85it/s]"
     ]
    },
    {
     "name": "stdout",
     "output_type": "stream",
     "text": [
      "Generation 20000: Absolute best cost = 53384.11 | Mutation rate = 0.100 | Diversity = 0.993 | Valid = True\n"
     ]
    },
    {
     "name": "stderr",
     "output_type": "stream",
     "text": [
      " 70%|███████   | 21003/30000 [42:33<11:16, 13.30it/s]"
     ]
    },
    {
     "name": "stdout",
     "output_type": "stream",
     "text": [
      "Generation 21000: Absolute best cost = 53224.29 | Mutation rate = 0.100 | Diversity = 1.000 | Valid = True\n"
     ]
    },
    {
     "name": "stderr",
     "output_type": "stream",
     "text": [
      " 73%|███████▎  | 22003/30000 [43:46<09:46, 13.63it/s]"
     ]
    },
    {
     "name": "stdout",
     "output_type": "stream",
     "text": [
      "Generation 22000: Absolute best cost = 53158.47 | Mutation rate = 0.100 | Diversity = 0.993 | Valid = True\n"
     ]
    },
    {
     "name": "stderr",
     "output_type": "stream",
     "text": [
      " 77%|███████▋  | 23003/30000 [45:00<08:34, 13.61it/s]"
     ]
    },
    {
     "name": "stdout",
     "output_type": "stream",
     "text": [
      "Generation 23000: Absolute best cost = 53120.41 | Mutation rate = 0.100 | Diversity = 0.987 | Valid = True\n"
     ]
    },
    {
     "name": "stderr",
     "output_type": "stream",
     "text": [
      " 80%|████████  | 24003/30000 [46:13<07:02, 14.21it/s]"
     ]
    },
    {
     "name": "stdout",
     "output_type": "stream",
     "text": [
      "Generation 24000: Absolute best cost = 53066.06 | Mutation rate = 0.105 | Diversity = 1.000 | Valid = True\n"
     ]
    },
    {
     "name": "stderr",
     "output_type": "stream",
     "text": [
      " 83%|████████▎ | 25003/30000 [47:25<05:59, 13.90it/s]"
     ]
    },
    {
     "name": "stdout",
     "output_type": "stream",
     "text": [
      "Generation 25000: Absolute best cost = 53050.91 | Mutation rate = 0.100 | Diversity = 0.993 | Valid = True\n"
     ]
    },
    {
     "name": "stderr",
     "output_type": "stream",
     "text": [
      " 87%|████████▋ | 26003/30000 [48:37<04:39, 14.32it/s]"
     ]
    },
    {
     "name": "stdout",
     "output_type": "stream",
     "text": [
      "Generation 26000: Absolute best cost = 53014.61 | Mutation rate = 0.100 | Diversity = 0.993 | Valid = True\n"
     ]
    },
    {
     "name": "stderr",
     "output_type": "stream",
     "text": [
      " 90%|█████████ | 27003/30000 [49:50<03:39, 13.65it/s]"
     ]
    },
    {
     "name": "stdout",
     "output_type": "stream",
     "text": [
      "Generation 27000: Absolute best cost = 52966.47 | Mutation rate = 0.150 | Diversity = 0.980 | Valid = True\n"
     ]
    },
    {
     "name": "stderr",
     "output_type": "stream",
     "text": [
      " 93%|█████████▎| 28003/30000 [51:01<02:18, 14.44it/s]"
     ]
    },
    {
     "name": "stdout",
     "output_type": "stream",
     "text": [
      "Generation 28000: Absolute best cost = 52923.22 | Mutation rate = 0.100 | Diversity = 0.993 | Valid = True\n"
     ]
    },
    {
     "name": "stderr",
     "output_type": "stream",
     "text": [
      " 97%|█████████▋| 29003/30000 [52:12<01:08, 14.55it/s]"
     ]
    },
    {
     "name": "stdout",
     "output_type": "stream",
     "text": [
      "Generation 29000: Absolute best cost = 52923.22 | Mutation rate = 0.225 | Diversity = 0.993 | Valid = True\n"
     ]
    },
    {
     "name": "stderr",
     "output_type": "stream",
     "text": [
      "100%|██████████| 30000/30000 [53:21<00:00,  9.37it/s]\n",
      "ic| best_cost: (np.float64(52913.04630995), np.True_)\n",
      "    tsp_cost.calls: 11306338\n"
     ]
    },
    {
     "data": {
      "text/plain": [
       "((np.float64(52913.04630995), np.True_), 11306338)"
      ]
     },
     "execution_count": 80,
     "metadata": {},
     "output_type": "execute_result"
    }
   ],
   "source": [
    "\n",
    "CITIES = pd.read_csv('./cities/china.csv', header=None, names=['name', 'lat', 'lon'])\n",
    "DIST_MATRIX = np.zeros((len(CITIES), len(CITIES)))\n",
    "for c1, c2 in combinations(CITIES.itertuples(), 2):\n",
    "    DIST_MATRIX[c1.Index, c2.Index] = DIST_MATRIX[c2.Index, c1.Index] = geodesic(\n",
    "        (c1.lat, c1.lon), (c2.lat, c2.lon)\n",
    "    ).km\n",
    "best_cost=evolutionary_algorithm_tsp_adaptive_mutation(\n",
    "    DIST_MATRIX,\n",
    "    num_generations=30000, \n",
    ")\n",
    "ic(best_cost,tsp_cost.calls)\n"
   ]
  },
  {
   "cell_type": "markdown",
   "metadata": {},
   "source": [
    "The proposed evolutionary algorithm addresses the traveling salesman problem (TSP) by integrating an adaptive mutation strategy and a restart mechanism based on Simulated Annealing (SA). Mutation is dynamically regulated: the rate increases if no improvement is observed for a given number of generations and decreases if progress is made, thus promoting a balance between exploration and exploitation.\n",
    "Unlike the first version I published now, I also take into account the diversity of the population by inserting random solutions if the population has too many equal solutions.\n",
    "However, I did not achieve any major changes compared to the first version, obtaining similar results\n",
    "\n",
    "When the mutation rate exceeds a predefined threshold, the algorithm initiates a restart phase via SA, regenerating the population to avoid convergence to local minima. The approach uses tournament selection, permutation-specific crossover techniques of the TSP (inver-over), and an inversion-based mutation. This combination allows the algorithm to progressively improve the quality of the solution."
   ]
  },
  {
   "cell_type": "markdown",
   "metadata": {},
   "source": [
    "Note: in order to obtain the same results, it may be necessary to restart the algorithm several times or to increase the gender number. The results shown on the screen are the highest values I obtained after several attempts"
   ]
  }
 ],
 "metadata": {
  "kernelspec": {
   "display_name": ".venv",
   "language": "python",
   "name": "python3"
  },
  "language_info": {
   "codemirror_mode": {
    "name": "ipython",
    "version": 3
   },
   "file_extension": ".py",
   "mimetype": "text/x-python",
   "name": "python",
   "nbconvert_exporter": "python",
   "pygments_lexer": "ipython3",
   "version": "3.12.4"
  }
 },
 "nbformat": 4,
 "nbformat_minor": 2
}
