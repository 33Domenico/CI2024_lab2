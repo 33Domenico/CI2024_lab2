{
 "cells": [
  {
   "cell_type": "code",
   "execution_count": 63,
   "metadata": {},
   "outputs": [],
   "source": [
    "import logging\n",
    "from itertools import combinations\n",
    "import pandas as pd\n",
    "import numpy as np\n",
    "from geopy.distance import geodesic\n",
    "import networkx as nx\n",
    "import random\n",
    "from icecream import ic\n",
    "from tqdm.auto import tqdm\n",
    "from matplotlib import pyplot as plt\n",
    "from itertools import accumulate\n",
    "import functools\n"
   ]
  },
  {
   "cell_type": "code",
   "execution_count": 64,
   "metadata": {},
   "outputs": [],
   "source": [
    "logging.basicConfig(level=logging.DEBUG)"
   ]
  },
  {
   "cell_type": "markdown",
   "metadata": {},
   "source": [
    "## Nearest Neighbor (Greedy)"
   ]
  },
  {
   "cell_type": "code",
   "execution_count": 65,
   "metadata": {},
   "outputs": [],
   "source": [
    "def nearest_neighbor_tsp(start_city_index=0):\n",
    "    \"\"\"\n",
    "    Solves the TSP using the Nearest Neighbour Greedy algorithm.\n",
    "    :param start_city_index: Index of the starting city\n",
    "    :return: List of the order of the visited cities and total length of the route\n",
    "    \"\"\"\n",
    "    dist_matrix=DIST_MATRIX.copy()\n",
    "    visited = np.full(len(CITIES), False)  \n",
    "    city = start_city_index  \n",
    "    visited[city] = True\n",
    "\n",
    "    tsp = [city]  \n",
    "\n",
    "    while not np.all(visited):\n",
    "        dist_matrix[:, city] = np.inf\n",
    "        closest_city = np.argmin(dist_matrix[city])\n",
    "        visited[closest_city] = True\n",
    "        tsp.append(int(closest_city))\n",
    "        city = closest_city\n",
    "\n",
    "    tsp.append(start_city_index)\n",
    "    \n",
    "    total_distance = tsp_cost(tsp,DIST_MATRIX)\n",
    "    \n",
    "    return tsp, total_distance"
   ]
  },
  {
   "cell_type": "code",
   "execution_count": 66,
   "metadata": {},
   "outputs": [],
   "source": [
    "def counter(fn):\n",
    "    \"\"\"Simple decorator for counting number of calls\"\"\"\n",
    "\n",
    "    @functools.wraps(fn)\n",
    "    def helper(*args, **kargs):\n",
    "        helper.calls += 1\n",
    "        return fn(*args, **kargs)\n",
    "\n",
    "    helper.calls = 0\n",
    "    return helper\n"
   ]
  },
  {
   "cell_type": "code",
   "execution_count": null,
   "metadata": {},
   "outputs": [],
   "source": [
    "def valid(tsp):\n",
    "    \"\"\"\n",
    "    It verifies the validity of a TSP route.\n",
    "    \"\"\"\n",
    "    tsp = np.array(tsp)\n",
    "    \n",
    "    if tsp[0] != tsp[-1]:\n",
    "        return False\n",
    "    \n",
    "    # Verify that all cities are visited exactly once.\n",
    "    cities_visited = tsp[:-1]\n",
    "    expected_cities = np.arange(len(CITIES))\n",
    "    \n",
    "    return (len(np.unique(cities_visited)) == len(CITIES) and \n",
    "            np.all(np.isin(expected_cities, cities_visited)))\n",
    "@counter\n",
    "def tsp_cost(route, dist_matrix):\n",
    "    \"\"\"It calculates the cost of the route and its validity.\"\"\"\n",
    "    route = np.array(route)\n",
    "    # Calculates distances between consecutive cities.\n",
    "    total_distance = np.sum([dist_matrix[route[i], route[i+1]] \n",
    "                           for i in range(len(route)-1)])\n",
    "    return (total_distance, valid(route))"
   ]
  },
  {
   "cell_type": "markdown",
   "metadata": {},
   "source": [
    "## Inversion mutation"
   ]
  },
  {
   "cell_type": "code",
   "execution_count": 68,
   "metadata": {},
   "outputs": [],
   "source": [
    "def tweak(tsp):\n",
    "    \"\"\"Performs an inversion mutation on a TSP solution\"\"\"\n",
    "    tsp = np.array(tsp)\n",
    "    # Select two random points in the path to perform the inversion.\n",
    "    a, b = sorted(np.random.choice(range(1, len(tsp) - 1), 2, replace=False))\n",
    "    # Reverses the sub-path between the two selected points.\n",
    "    tsp[a:b+1] = np.flip(tsp[a:b+1])\n",
    "    return tsp.tolist()\n"
   ]
  },
  {
   "cell_type": "markdown",
   "metadata": {},
   "source": [
    "##  Simulated Annealing (SA) by Initial Population."
   ]
  },
  {
   "cell_type": "code",
   "execution_count": 69,
   "metadata": {},
   "outputs": [],
   "source": [
    "def simulated_annealing_population(dist_matrix, initial_temp, cooling_rate, stop_temp, population_size=100):\n",
    "    \"\"\"Simulated Annealing algorithm to generate an initial population\"\"\"\n",
    "    dist_matrix = np.array(dist_matrix)\n",
    "     # Find an initial solution with the Greedy method.\n",
    "    current_solution, current_cost = nearest_neighbor_tsp(start_city_index=0)\n",
    "    best_solution = current_solution[:]\n",
    "    best_cost = current_cost\n",
    "\n",
    "    population = [(best_solution, best_cost)]\n",
    "    temperature = initial_temp\n",
    "\n",
    "    while temperature > stop_temp:\n",
    "        new_solution = tweak(current_solution[:])\n",
    "        new_cost = tsp_cost(new_solution, dist_matrix)\n",
    "\n",
    "        if (new_cost[0] < current_cost[0] or \n",
    "            np.random.random() < np.exp((current_cost[0] - new_cost[0]) / temperature)):\n",
    "            current_solution = new_solution\n",
    "            current_cost = new_cost\n",
    "\n",
    "            if new_cost[0] < best_cost[0]:\n",
    "                best_solution = new_solution\n",
    "                best_cost = new_cost\n",
    "    \n",
    "            population.append((current_solution, current_cost))\n",
    "            \n",
    "        temperature *= cooling_rate\n",
    "    # Sort the population by cost and return the best 'population_size' individuals    \n",
    "    population = np.array(population, dtype=object)\n",
    "    sorted_indices = np.argsort([cost[0] for _, cost in population])\n",
    "    population = population[sorted_indices]\n",
    "    \n",
    "    return population[:population_size].tolist()"
   ]
  },
  {
   "cell_type": "code",
   "execution_count": 70,
   "metadata": {},
   "outputs": [],
   "source": [
    "def initial_population(pop_size):\n",
    "    \"\"\"Initialises the population using predefined parameters.\"\"\"\n",
    "    initial_temp = 1000\n",
    "    cooling_rate = 0.992\n",
    "    stop_temp = 1e-200\n",
    "    # Generate initial population with Simulated Annealing.\n",
    "    return simulated_annealing_population(DIST_MATRIX, initial_temp,\n",
    "                                        cooling_rate, stop_temp, pop_size)\n"
   ]
  },
  {
   "cell_type": "markdown",
   "metadata": {},
   "source": [
    "##  Crossover Inver-Over"
   ]
  },
  {
   "cell_type": "code",
   "execution_count": 71,
   "metadata": {},
   "outputs": [],
   "source": [
    "def inver_over_crossover(parent1, parent2, num_iterations=1):\n",
    "    \"\"\"Apply inver-over crossover \"\"\"\n",
    "    parent1, parent2 = np.array(parent1), np.array(parent2)\n",
    "    child = parent1.copy()\n",
    " # Perform a series of crossover iterations to create the child\n",
    "    for _ in range(num_iterations):\n",
    "        start_index = np.random.randint(1, len(child) - 2)\n",
    "        start_city = child[start_index]\n",
    "        # Randomly select a destination city from one of the parents.\n",
    "        if np.random.random() < 0.5:\n",
    "            valid_cities = child[1:-1][child[1:-1] != start_city]\n",
    "            end_city = np.random.choice(valid_cities)\n",
    "        else:\n",
    "            valid_cities = parent2[1:-1][parent2[1:-1] != start_city]\n",
    "            end_city = np.random.choice(valid_cities)\n",
    "        # Get start and destination city locations in the son.\n",
    "        start_pos = np.where(child == start_city)[0][0]\n",
    "        end_pos = np.where(child == end_city)[0][0]\n",
    "        \n",
    "        if start_pos > end_pos:\n",
    "            start_pos, end_pos = end_pos, start_pos\n",
    "          # Reverse the sub-path between the two positions.\n",
    "        child[start_pos:end_pos + 1] = np.flip(child[start_pos:end_pos + 1])\n",
    "    # The child ends up in the same city as the starting city.\n",
    "    if child[0] != child[-1]:\n",
    "        child = np.append(child, child[0])\n",
    "    \n",
    "    return child.tolist()"
   ]
  },
  {
   "cell_type": "code",
   "execution_count": 72,
   "metadata": {},
   "outputs": [],
   "source": [
    "def tournament_selection(population, k=5):\n",
    "    \"\"\"Tournament selection using NumPy.\"\"\"\n",
    "    # Randomly selects 'k' individuals from the population.\n",
    "    selected_indices = np.random.choice(len(population), k, replace=False)\n",
    "    selected = np.array(population, dtype=object)[selected_indices]\n",
    "    # Returns the individual with the lowest cost among those selected.\n",
    "    return min(selected, key=lambda x: x[1][0])  # x[1][0] accede al costo\n"
   ]
  },
  {
   "cell_type": "markdown",
   "metadata": {},
   "source": [
    "## Inversion mutation"
   ]
  },
  {
   "cell_type": "code",
   "execution_count": null,
   "metadata": {},
   "outputs": [],
   "source": [
    "def inversion_mutation(tsp):\n",
    "    \"\"\"Performs an inversion mutation \"\"\"\n",
    "    tsp = np.array(tsp)\n",
    "    a, b = sorted(np.random.choice(range(1, len(tsp) - 1), 2, replace=False))\n",
    "    tsp[a:b+1] = np.flip(tsp[a:b+1])\n",
    "    return tsp.tolist()\n"
   ]
  },
  {
   "cell_type": "markdown",
   "metadata": {},
   "source": [
    "## EA with adaptive mutation and multiple restart with simulated anneling."
   ]
  },
  {
   "cell_type": "code",
   "execution_count": null,
   "metadata": {},
   "outputs": [],
   "source": [
    "\n",
    "def evolutionary_algorithm_tsp_adaptive_mutation(\n",
    "    \n",
    "    dist_matrix,\n",
    "    population_size=100, \n",
    "    tournament_size=10, \n",
    "    num_generations=10000, \n",
    "    initial_mutation_rate=0.1, \n",
    "    crossover_iterations=1,\n",
    "    max_generations_without_improvement=500,\n",
    "    mutation_increase_factor=1.5,\n",
    "    mutation_decrease_factor=0.7,\n",
    "    mutation_threshold=1.3, # Threshold for restarting\n",
    "    initial_temp=1000,      \n",
    "    cooling_rate=0.992,\n",
    "    stop_temp=1e-200,\n",
    "\n",
    "):\n",
    "    \"\"\"It solves the TSP using a Evolutionary Algorithm with adaptive mutation.\"\"\"\n",
    "    dist_matrix = np.array(dist_matrix)\n",
    "    population = initial_population(population_size)\n",
    "    current_mutation_rate = initial_mutation_rate\n",
    "\n",
    "    best_solution, best_cost = min(population, key=lambda x: x[1][0])\n",
    "    all_time_best_solution = best_solution\n",
    "    all_time_best_cost = best_cost\n",
    "    generations_without_improvement = 0\n",
    "    \n",
    "\n",
    "    for generation in tqdm(range(num_generations)):\n",
    "        # Check if it is necessary to reboot with SA.\n",
    "        if current_mutation_rate > mutation_threshold:\n",
    "            print(f\"\\nMutation rate ({current_mutation_rate:.3f}) exceeded threshold ({mutation_threshold})\")\n",
    "            print(\"Restarting with Simulated Annealing...\")\n",
    "            \n",
    "             # Run SA and get new population\n",
    "            new_population = simulated_annealing_population(\n",
    "                dist_matrix, \n",
    "                initial_temp, \n",
    "                cooling_rate, \n",
    "                stop_temp, \n",
    "                population_size\n",
    "            )\n",
    "            population = sorted(new_population, key=lambda x: x[1][0])[:population_size]\n",
    "             # Mutation rate reset\n",
    "            current_mutation_rate = initial_mutation_rate\n",
    "            print(\"Population refreshed and mutation rate reset\")\n",
    "\n",
    "        new_population = []\n",
    "\n",
    "        while len(new_population) < population_size:\n",
    "            parent1 = tournament_selection(population, tournament_size)\n",
    "            parent2 = tournament_selection(population, tournament_size)\n",
    "            \n",
    "            child = inver_over_crossover(parent1[0], parent2[0], crossover_iterations)\n",
    "            \n",
    "            if np.random.random() < current_mutation_rate:\n",
    "                child = inversion_mutation(child)\n",
    "\n",
    "            child_cost = tsp_cost(child, dist_matrix)\n",
    "            new_population.append((child, child_cost))\n",
    "\n",
    "        combined_population = np.array(new_population + population, dtype=object)\n",
    "        sorted_indices = np.argsort([cost[0] for _, cost in combined_population])\n",
    "        population = combined_population[sorted_indices][:population_size].tolist()\n",
    "\n",
    "        new_best_solution, new_best_cost = min(population, key=lambda x: x[1][0])\n",
    "\n",
    "         # Update the best result ever if needed\n",
    "        if new_best_cost[0] < all_time_best_cost[0]:\n",
    "            all_time_best_solution = new_best_solution\n",
    "            all_time_best_cost = new_best_cost\n",
    "\n",
    "        if new_best_cost[0] < best_cost[0]:\n",
    "            best_solution, best_cost = new_best_solution, new_best_cost\n",
    "            generations_without_improvement = 0\n",
    "            current_mutation_rate = max(initial_mutation_rate, \n",
    "                                     current_mutation_rate * mutation_decrease_factor)\n",
    "        else:\n",
    "            generations_without_improvement += 1\n",
    "\n",
    "        if generations_without_improvement > max_generations_without_improvement:\n",
    "            current_mutation_rate *= mutation_increase_factor\n",
    "            generations_without_improvement = 0\n",
    "\n",
    "        if generation % 1000 == 0:\n",
    "            print(f\"Generation {generation}: \"\n",
    "                  f\"Best current cost = {new_best_cost[0]:.2f} | \"\n",
    "                  f\"Absolute best cost = {all_time_best_cost[0]:.2f} | \"\n",
    "                  f\"Mutation rate = {current_mutation_rate:.3f} | \"\n",
    "                  f\"Valid = {best_cost[1]}\")\n",
    "    \n",
    "    return all_time_best_cost\n"
   ]
  },
  {
   "cell_type": "markdown",
   "metadata": {},
   "source": [
    "## Vanuatu"
   ]
  },
  {
   "cell_type": "code",
   "execution_count": null,
   "metadata": {},
   "outputs": [
    {
     "name": "stderr",
     "output_type": "stream",
     "text": [
      "0it [00:00, ?it/s]\n",
      "ic| best_cost: (np.float64(1345.5449564733112), np.True_)\n",
      "    tsp_cost.calls: 58196\n"
     ]
    },
    {
     "data": {
      "text/plain": [
       "((np.float64(1345.5449564733112), np.True_), 58196)"
      ]
     },
     "execution_count": 54,
     "metadata": {},
     "output_type": "execute_result"
    }
   ],
   "source": [
    "\n",
    "CITIES = pd.read_csv('./cities/vanuatu.csv', header=None, names=['name', 'lat', 'lon'])\n",
    "DIST_MATRIX = np.zeros((len(CITIES), len(CITIES)))\n",
    "for c1, c2 in combinations(CITIES.itertuples(), 2):\n",
    "    DIST_MATRIX[c1.Index, c2.Index] = DIST_MATRIX[c2.Index, c1.Index] = geodesic(\n",
    "        (c1.lat, c1.lon), (c2.lat, c2.lon)\n",
    "    ).km\n",
    "\n",
    "best_cost=evolutionary_algorithm_tsp_adaptive_mutation(\n",
    "    DIST_MATRIX,\n",
    "    num_generations=0, \n",
    ")\n",
    "ic(best_cost,tsp_cost.calls)\n",
    "\n"
   ]
  },
  {
   "cell_type": "markdown",
   "metadata": {},
   "source": [
    "For vanuatu just applying simulated anneling to get the best solution is enough"
   ]
  },
  {
   "cell_type": "markdown",
   "metadata": {},
   "source": [
    "## Italy"
   ]
  },
  {
   "cell_type": "code",
   "execution_count": null,
   "metadata": {},
   "outputs": [
    {
     "name": "stderr",
     "output_type": "stream",
     "text": [
      "  0%|          | 10/10000 [00:00<03:37, 46.03it/s]"
     ]
    },
    {
     "name": "stdout",
     "output_type": "stream",
     "text": [
      "Generation 0: Best current cost = 4433.76 | Absolute best cost = 4433.76 | Mutation rate = 0.100 | Valid = True\n"
     ]
    },
    {
     "name": "stderr",
     "output_type": "stream",
     "text": [
      " 10%|█         | 1008/10000 [00:20<03:16, 45.71it/s]"
     ]
    },
    {
     "name": "stdout",
     "output_type": "stream",
     "text": [
      "Generation 1000: Best current cost = 4258.07 | Absolute best cost = 4258.07 | Mutation rate = 0.130 | Valid = True\n"
     ]
    },
    {
     "name": "stderr",
     "output_type": "stream",
     "text": [
      " 20%|██        | 2009/10000 [00:37<01:58, 67.36it/s]"
     ]
    },
    {
     "name": "stdout",
     "output_type": "stream",
     "text": [
      "Generation 2000: Best current cost = 4258.07 | Absolute best cost = 4258.07 | Mutation rate = 0.220 | Valid = True\n"
     ]
    },
    {
     "name": "stderr",
     "output_type": "stream",
     "text": [
      " 30%|███       | 3009/10000 [00:54<02:09, 54.03it/s]"
     ]
    },
    {
     "name": "stdout",
     "output_type": "stream",
     "text": [
      "Generation 3000: Best current cost = 4258.07 | Absolute best cost = 4258.07 | Mutation rate = 0.371 | Valid = True\n"
     ]
    },
    {
     "name": "stderr",
     "output_type": "stream",
     "text": [
      " 40%|████      | 4007/10000 [01:12<02:02, 48.97it/s]"
     ]
    },
    {
     "name": "stdout",
     "output_type": "stream",
     "text": [
      "Generation 4000: Best current cost = 4258.07 | Absolute best cost = 4258.07 | Mutation rate = 0.627 | Valid = True\n"
     ]
    },
    {
     "name": "stderr",
     "output_type": "stream",
     "text": [
      " 50%|█████     | 5010/10000 [01:30<01:38, 50.80it/s]"
     ]
    },
    {
     "name": "stdout",
     "output_type": "stream",
     "text": [
      "Generation 5000: Best current cost = 4258.07 | Absolute best cost = 4258.07 | Mutation rate = 1.060 | Valid = True\n"
     ]
    },
    {
     "name": "stderr",
     "output_type": "stream",
     "text": [
      " 51%|█████     | 5101/10000 [01:32<01:33, 52.44it/s]"
     ]
    },
    {
     "name": "stdout",
     "output_type": "stream",
     "text": [
      "\n",
      "Mutation rate (1.379) exceeded threshold (1.3)\n",
      "Restarting with Simulated Annealing...\n"
     ]
    },
    {
     "name": "stderr",
     "output_type": "stream",
     "text": [
      " 51%|█████     | 5113/10000 [01:36<13:23,  6.08it/s]"
     ]
    },
    {
     "name": "stdout",
     "output_type": "stream",
     "text": [
      "Population refreshed and mutation rate reset\n"
     ]
    },
    {
     "name": "stderr",
     "output_type": "stream",
     "text": [
      " 60%|██████    | 6007/10000 [01:52<01:14, 53.72it/s]"
     ]
    },
    {
     "name": "stdout",
     "output_type": "stream",
     "text": [
      "Generation 6000: Best current cost = 4195.99 | Absolute best cost = 4195.99 | Mutation rate = 0.130 | Valid = True\n"
     ]
    },
    {
     "name": "stderr",
     "output_type": "stream",
     "text": [
      " 70%|███████   | 7012/10000 [02:10<00:47, 63.14it/s]"
     ]
    },
    {
     "name": "stdout",
     "output_type": "stream",
     "text": [
      "Generation 7000: Best current cost = 4175.23 | Absolute best cost = 4175.23 | Mutation rate = 0.154 | Valid = True\n"
     ]
    },
    {
     "name": "stderr",
     "output_type": "stream",
     "text": [
      " 80%|████████  | 8008/10000 [02:27<00:34, 58.05it/s]"
     ]
    },
    {
     "name": "stdout",
     "output_type": "stream",
     "text": [
      "Generation 8000: Best current cost = 4175.23 | Absolute best cost = 4175.23 | Mutation rate = 0.260 | Valid = True\n"
     ]
    },
    {
     "name": "stderr",
     "output_type": "stream",
     "text": [
      " 90%|█████████ | 9012/10000 [02:44<00:16, 60.62it/s]"
     ]
    },
    {
     "name": "stdout",
     "output_type": "stream",
     "text": [
      "Generation 9000: Best current cost = 4175.23 | Absolute best cost = 4175.23 | Mutation rate = 0.439 | Valid = True\n"
     ]
    },
    {
     "name": "stderr",
     "output_type": "stream",
     "text": [
      "100%|██████████| 10000/10000 [03:01<00:00, 55.24it/s]\n",
      "ic| best_cost: (np.float64(4172.7626139164095), np.True_)\n",
      "    tsp_cost.calls: 10872940\n"
     ]
    },
    {
     "data": {
      "text/plain": [
       "((np.float64(4172.7626139164095), np.True_), 10872940)"
      ]
     },
     "execution_count": 61,
     "metadata": {},
     "output_type": "execute_result"
    }
   ],
   "source": [
    "\n",
    "CITIES = pd.read_csv('./cities/italy.csv', header=None, names=['name', 'lat', 'lon'])\n",
    "DIST_MATRIX = np.zeros((len(CITIES), len(CITIES)))\n",
    "for c1, c2 in combinations(CITIES.itertuples(), 2):\n",
    "    DIST_MATRIX[c1.Index, c2.Index] = DIST_MATRIX[c2.Index, c1.Index] = geodesic(\n",
    "        (c1.lat, c1.lon), (c2.lat, c2.lon)\n",
    "    ).km\n",
    "best_cost=evolutionary_algorithm_tsp_adaptive_mutation(\n",
    "    DIST_MATRIX,\n",
    "    mutation_increase_factor=1.3,\n",
    "    mutation_decrease_factor=0.7\n",
    ")\n",
    "ic(best_cost,tsp_cost.calls)\n"
   ]
  },
  {
   "cell_type": "markdown",
   "metadata": {},
   "source": [
    "## Russia"
   ]
  },
  {
   "cell_type": "code",
   "execution_count": null,
   "metadata": {},
   "outputs": [
    {
     "name": "stderr",
     "output_type": "stream",
     "text": [
      "  0%|          | 4/10000 [00:00<04:18, 38.63it/s]"
     ]
    },
    {
     "name": "stdout",
     "output_type": "stream",
     "text": [
      "Generation 0: Best current cost = 34150.88 | Absolute best cost = 34150.88 | Mutation rate = 0.100 | Valid = True\n"
     ]
    },
    {
     "name": "stderr",
     "output_type": "stream",
     "text": [
      " 10%|█         | 1006/10000 [00:23<03:20, 44.85it/s]"
     ]
    },
    {
     "name": "stdout",
     "output_type": "stream",
     "text": [
      "Generation 1000: Best current cost = 34029.74 | Absolute best cost = 34029.74 | Mutation rate = 0.100 | Valid = True\n"
     ]
    },
    {
     "name": "stderr",
     "output_type": "stream",
     "text": [
      " 20%|██        | 2004/10000 [00:45<03:10, 41.94it/s]"
     ]
    },
    {
     "name": "stdout",
     "output_type": "stream",
     "text": [
      "Generation 2000: Best current cost = 34027.71 | Absolute best cost = 34027.71 | Mutation rate = 0.150 | Valid = True\n"
     ]
    },
    {
     "name": "stderr",
     "output_type": "stream",
     "text": [
      " 30%|███       | 3006/10000 [01:10<02:25, 48.14it/s]"
     ]
    },
    {
     "name": "stdout",
     "output_type": "stream",
     "text": [
      "Generation 3000: Best current cost = 33989.93 | Absolute best cost = 33989.93 | Mutation rate = 0.100 | Valid = True\n"
     ]
    },
    {
     "name": "stderr",
     "output_type": "stream",
     "text": [
      " 40%|████      | 4011/10000 [01:32<02:07, 46.94it/s]"
     ]
    },
    {
     "name": "stdout",
     "output_type": "stream",
     "text": [
      "Generation 4000: Best current cost = 33955.71 | Absolute best cost = 33955.71 | Mutation rate = 0.100 | Valid = True\n"
     ]
    },
    {
     "name": "stderr",
     "output_type": "stream",
     "text": [
      " 50%|█████     | 5005/10000 [01:53<01:47, 46.39it/s]"
     ]
    },
    {
     "name": "stdout",
     "output_type": "stream",
     "text": [
      "Generation 5000: Best current cost = 33954.59 | Absolute best cost = 33954.59 | Mutation rate = 0.158 | Valid = True\n"
     ]
    },
    {
     "name": "stderr",
     "output_type": "stream",
     "text": [
      " 60%|██████    | 6005/10000 [02:14<01:25, 46.89it/s]"
     ]
    },
    {
     "name": "stdout",
     "output_type": "stream",
     "text": [
      "Generation 6000: Best current cost = 33954.59 | Absolute best cost = 33954.59 | Mutation rate = 0.165 | Valid = True\n"
     ]
    },
    {
     "name": "stderr",
     "output_type": "stream",
     "text": [
      " 70%|███████   | 7006/10000 [02:35<01:07, 44.47it/s]"
     ]
    },
    {
     "name": "stdout",
     "output_type": "stream",
     "text": [
      "Generation 7000: Best current cost = 33954.59 | Absolute best cost = 33954.59 | Mutation rate = 0.372 | Valid = True\n"
     ]
    },
    {
     "name": "stderr",
     "output_type": "stream",
     "text": [
      " 80%|████████  | 8008/10000 [02:58<00:43, 46.06it/s]"
     ]
    },
    {
     "name": "stdout",
     "output_type": "stream",
     "text": [
      "Generation 8000: Best current cost = 33954.59 | Absolute best cost = 33954.59 | Mutation rate = 0.837 | Valid = True\n"
     ]
    },
    {
     "name": "stderr",
     "output_type": "stream",
     "text": [
      " 88%|████████▊ | 8785/10000 [03:16<00:27, 43.49it/s]"
     ]
    },
    {
     "name": "stdout",
     "output_type": "stream",
     "text": [
      "\n",
      "Mutation rate (1.884) exceeded threshold (1.3)\n",
      "Restarting with Simulated Annealing...\n"
     ]
    },
    {
     "name": "stderr",
     "output_type": "stream",
     "text": [
      " 88%|████████▊ | 8790/10000 [03:23<08:28,  2.38it/s]"
     ]
    },
    {
     "name": "stdout",
     "output_type": "stream",
     "text": [
      "Population refreshed and mutation rate reset\n"
     ]
    },
    {
     "name": "stderr",
     "output_type": "stream",
     "text": [
      " 90%|█████████ | 9008/10000 [03:27<00:19, 51.52it/s]"
     ]
    },
    {
     "name": "stdout",
     "output_type": "stream",
     "text": [
      "Generation 9000: Best current cost = 34756.34 | Absolute best cost = 33954.59 | Mutation rate = 0.100 | Valid = True\n"
     ]
    },
    {
     "name": "stderr",
     "output_type": "stream",
     "text": [
      "100%|██████████| 10000/10000 [03:47<00:00, 43.90it/s]\n",
      "ic| best_cost: (np.float64(33882.626394758365), np.True_)\n",
      "    tsp_cost.calls: 2290980\n"
     ]
    },
    {
     "data": {
      "text/plain": [
       "((np.float64(33882.626394758365), np.True_), 2290980)"
      ]
     },
     "execution_count": 56,
     "metadata": {},
     "output_type": "execute_result"
    }
   ],
   "source": [
    "\n",
    "CITIES = pd.read_csv('./cities/russia.csv', header=None, names=['name', 'lat', 'lon'])\n",
    "DIST_MATRIX = np.zeros((len(CITIES), len(CITIES)))\n",
    "for c1, c2 in combinations(CITIES.itertuples(), 2):\n",
    "    DIST_MATRIX[c1.Index, c2.Index] = DIST_MATRIX[c2.Index, c1.Index] = geodesic(\n",
    "        (c1.lat, c1.lon), (c2.lat, c2.lon)\n",
    "    ).km\n",
    "best_cost=evolutionary_algorithm_tsp_adaptive_mutation(DIST_MATRIX,mutation_threshold=1)\n",
    "ic(best_cost,tsp_cost.calls)\n"
   ]
  },
  {
   "cell_type": "markdown",
   "metadata": {},
   "source": [
    "## Us"
   ]
  },
  {
   "cell_type": "code",
   "execution_count": null,
   "metadata": {},
   "outputs": [
    {
     "name": "stderr",
     "output_type": "stream",
     "text": [
      "  0%|          | 4/20000 [00:00<09:20, 35.66it/s]"
     ]
    },
    {
     "name": "stdout",
     "output_type": "stream",
     "text": [
      "Generation 0: Best current cost = 42437.24 | Absolute best cost = 42437.24 | Mutation rate = 0.100 | Valid = True\n"
     ]
    },
    {
     "name": "stderr",
     "output_type": "stream",
     "text": [
      "  5%|▌         | 1004/20000 [00:31<09:17, 34.05it/s]"
     ]
    },
    {
     "name": "stdout",
     "output_type": "stream",
     "text": [
      "Generation 1000: Best current cost = 40735.15 | Absolute best cost = 40735.15 | Mutation rate = 0.100 | Valid = True\n"
     ]
    },
    {
     "name": "stderr",
     "output_type": "stream",
     "text": [
      " 10%|█         | 2005/20000 [01:01<10:39, 28.16it/s]"
     ]
    },
    {
     "name": "stdout",
     "output_type": "stream",
     "text": [
      "Generation 2000: Best current cost = 40147.29 | Absolute best cost = 40147.29 | Mutation rate = 0.100 | Valid = True\n"
     ]
    },
    {
     "name": "stderr",
     "output_type": "stream",
     "text": [
      " 15%|█▌        | 3006/20000 [01:32<08:21, 33.87it/s]"
     ]
    },
    {
     "name": "stdout",
     "output_type": "stream",
     "text": [
      "Generation 3000: Best current cost = 39910.73 | Absolute best cost = 39910.73 | Mutation rate = 0.100 | Valid = True\n"
     ]
    },
    {
     "name": "stderr",
     "output_type": "stream",
     "text": [
      " 20%|██        | 4005/20000 [02:02<09:17, 28.68it/s]"
     ]
    },
    {
     "name": "stdout",
     "output_type": "stream",
     "text": [
      "Generation 4000: Best current cost = 39776.77 | Absolute best cost = 39776.77 | Mutation rate = 0.100 | Valid = True\n"
     ]
    },
    {
     "name": "stderr",
     "output_type": "stream",
     "text": [
      " 25%|██▌       | 5007/20000 [02:31<07:23, 33.84it/s]"
     ]
    },
    {
     "name": "stdout",
     "output_type": "stream",
     "text": [
      "Generation 5000: Best current cost = 39723.63 | Absolute best cost = 39723.63 | Mutation rate = 0.100 | Valid = True\n"
     ]
    },
    {
     "name": "stderr",
     "output_type": "stream",
     "text": [
      " 30%|███       | 6007/20000 [03:01<06:48, 34.25it/s]"
     ]
    },
    {
     "name": "stdout",
     "output_type": "stream",
     "text": [
      "Generation 6000: Best current cost = 39674.10 | Absolute best cost = 39674.10 | Mutation rate = 0.100 | Valid = True\n"
     ]
    },
    {
     "name": "stderr",
     "output_type": "stream",
     "text": [
      " 35%|███▌      | 7004/20000 [03:30<06:03, 35.78it/s]"
     ]
    },
    {
     "name": "stdout",
     "output_type": "stream",
     "text": [
      "Generation 7000: Best current cost = 39649.55 | Absolute best cost = 39649.55 | Mutation rate = 0.100 | Valid = True\n"
     ]
    },
    {
     "name": "stderr",
     "output_type": "stream",
     "text": [
      " 40%|████      | 8007/20000 [03:59<05:56, 33.66it/s]"
     ]
    },
    {
     "name": "stdout",
     "output_type": "stream",
     "text": [
      "Generation 8000: Best current cost = 39628.51 | Absolute best cost = 39628.51 | Mutation rate = 0.100 | Valid = True\n"
     ]
    },
    {
     "name": "stderr",
     "output_type": "stream",
     "text": [
      " 45%|████▌     | 9005/20000 [04:28<05:04, 36.14it/s]"
     ]
    },
    {
     "name": "stdout",
     "output_type": "stream",
     "text": [
      "Generation 9000: Best current cost = 39621.54 | Absolute best cost = 39621.54 | Mutation rate = 0.100 | Valid = True\n"
     ]
    },
    {
     "name": "stderr",
     "output_type": "stream",
     "text": [
      " 50%|█████     | 10005/20000 [04:57<04:40, 35.63it/s]"
     ]
    },
    {
     "name": "stdout",
     "output_type": "stream",
     "text": [
      "Generation 10000: Best current cost = 39621.54 | Absolute best cost = 39621.54 | Mutation rate = 0.225 | Valid = True\n"
     ]
    },
    {
     "name": "stderr",
     "output_type": "stream",
     "text": [
      " 55%|█████▌    | 11004/20000 [05:27<04:08, 36.19it/s]"
     ]
    },
    {
     "name": "stdout",
     "output_type": "stream",
     "text": [
      "Generation 11000: Best current cost = 39616.45 | Absolute best cost = 39616.45 | Mutation rate = 0.165 | Valid = True\n"
     ]
    },
    {
     "name": "stderr",
     "output_type": "stream",
     "text": [
      " 60%|██████    | 12008/20000 [05:57<03:51, 34.55it/s]"
     ]
    },
    {
     "name": "stdout",
     "output_type": "stream",
     "text": [
      "Generation 12000: Best current cost = 39616.45 | Absolute best cost = 39616.45 | Mutation rate = 0.372 | Valid = True\n"
     ]
    },
    {
     "name": "stderr",
     "output_type": "stream",
     "text": [
      " 65%|██████▌   | 13005/20000 [06:28<04:19, 27.00it/s]"
     ]
    },
    {
     "name": "stdout",
     "output_type": "stream",
     "text": [
      "Generation 13000: Best current cost = 39614.05 | Absolute best cost = 39614.05 | Mutation rate = 0.586 | Valid = True\n"
     ]
    },
    {
     "name": "stderr",
     "output_type": "stream",
     "text": [
      " 68%|██████▊   | 13646/20000 [06:51<03:44, 28.33it/s]"
     ]
    },
    {
     "name": "stdout",
     "output_type": "stream",
     "text": [
      "\n",
      "Mutation rate (1.319) exceeded threshold (1.3)\n",
      "Restarting with Simulated Annealing...\n"
     ]
    },
    {
     "name": "stderr",
     "output_type": "stream",
     "text": [
      " 68%|██████▊   | 13652/20000 [07:03<1:27:35,  1.21it/s]"
     ]
    },
    {
     "name": "stdout",
     "output_type": "stream",
     "text": [
      "Population refreshed and mutation rate reset\n"
     ]
    },
    {
     "name": "stderr",
     "output_type": "stream",
     "text": [
      " 70%|███████   | 14007/20000 [07:13<02:58, 33.62it/s]  "
     ]
    },
    {
     "name": "stdout",
     "output_type": "stream",
     "text": [
      "Generation 14000: Best current cost = 45081.20 | Absolute best cost = 39614.05 | Mutation rate = 0.100 | Valid = True\n"
     ]
    },
    {
     "name": "stderr",
     "output_type": "stream",
     "text": [
      " 75%|███████▌  | 15005/20000 [07:45<02:39, 31.39it/s]"
     ]
    },
    {
     "name": "stdout",
     "output_type": "stream",
     "text": [
      "Generation 15000: Best current cost = 42901.42 | Absolute best cost = 39614.05 | Mutation rate = 0.225 | Valid = True\n"
     ]
    },
    {
     "name": "stderr",
     "output_type": "stream",
     "text": [
      " 80%|████████  | 16006/20000 [08:20<02:20, 28.48it/s]"
     ]
    },
    {
     "name": "stdout",
     "output_type": "stream",
     "text": [
      "Generation 16000: Best current cost = 42584.45 | Absolute best cost = 39614.05 | Mutation rate = 0.506 | Valid = True\n"
     ]
    },
    {
     "name": "stderr",
     "output_type": "stream",
     "text": [
      " 85%|████████▌ | 17005/20000 [08:55<01:46, 28.11it/s]"
     ]
    },
    {
     "name": "stdout",
     "output_type": "stream",
     "text": [
      "Generation 17000: Best current cost = 42473.90 | Absolute best cost = 39614.05 | Mutation rate = 1.139 | Valid = True\n"
     ]
    },
    {
     "name": "stderr",
     "output_type": "stream",
     "text": [
      " 86%|████████▌ | 17152/20000 [09:00<01:39, 28.65it/s]"
     ]
    },
    {
     "name": "stdout",
     "output_type": "stream",
     "text": [
      "\n",
      "Mutation rate (1.709) exceeded threshold (1.3)\n",
      "Restarting with Simulated Annealing...\n"
     ]
    },
    {
     "name": "stderr",
     "output_type": "stream",
     "text": [
      " 86%|████████▌ | 17159/20000 [09:12<38:42,  1.22it/s]"
     ]
    },
    {
     "name": "stdout",
     "output_type": "stream",
     "text": [
      "Population refreshed and mutation rate reset\n"
     ]
    },
    {
     "name": "stderr",
     "output_type": "stream",
     "text": [
      " 90%|█████████ | 18005/20000 [09:39<01:03, 31.26it/s]"
     ]
    },
    {
     "name": "stdout",
     "output_type": "stream",
     "text": [
      "Generation 18000: Best current cost = 41287.06 | Absolute best cost = 39614.05 | Mutation rate = 0.150 | Valid = True\n"
     ]
    },
    {
     "name": "stderr",
     "output_type": "stream",
     "text": [
      " 95%|█████████▌| 19005/20000 [10:12<00:31, 31.94it/s]"
     ]
    },
    {
     "name": "stdout",
     "output_type": "stream",
     "text": [
      "Generation 19000: Best current cost = 40149.29 | Absolute best cost = 39614.05 | Mutation rate = 0.338 | Valid = True\n"
     ]
    },
    {
     "name": "stderr",
     "output_type": "stream",
     "text": [
      "100%|██████████| 20000/20000 [10:47<00:00, 30.89it/s]\n",
      "ic| best_cost: (np.float64(39614.05149170428), np.True_)\n",
      "    tsp_cost.calls: 4465568\n"
     ]
    },
    {
     "data": {
      "text/plain": [
       "((np.float64(39614.05149170428), np.True_), 4465568)"
      ]
     },
     "execution_count": 57,
     "metadata": {},
     "output_type": "execute_result"
    }
   ],
   "source": [
    "\n",
    "CITIES = pd.read_csv('./cities/us.csv', header=None, names=['name', 'lat', 'lon'])\n",
    "DIST_MATRIX = np.zeros((len(CITIES), len(CITIES)))\n",
    "for c1, c2 in combinations(CITIES.itertuples(), 2):\n",
    "    DIST_MATRIX[c1.Index, c2.Index] = DIST_MATRIX[c2.Index, c1.Index] = geodesic(\n",
    "        (c1.lat, c1.lon), (c2.lat, c2.lon)\n",
    "    ).km\n",
    "best_cost=evolutionary_algorithm_tsp_adaptive_mutation(\n",
    "    DIST_MATRIX,\n",
    "    num_generations=20000)\n",
    "ic(best_cost,tsp_cost.calls)"
   ]
  },
  {
   "cell_type": "markdown",
   "metadata": {},
   "source": [
    "## China"
   ]
  },
  {
   "cell_type": "code",
   "execution_count": null,
   "metadata": {},
   "outputs": [
    {
     "name": "stderr",
     "output_type": "stream",
     "text": [
      "  0%|          | 4/30000 [00:00<33:56, 14.73it/s]"
     ]
    },
    {
     "name": "stdout",
     "output_type": "stream",
     "text": [
      "Generation 0: Best current cost = 63962.92 | Absolute best cost = 63962.92 | Mutation rate = 0.100 | Valid = True\n"
     ]
    },
    {
     "name": "stderr",
     "output_type": "stream",
     "text": [
      "  3%|▎         | 1004/30000 [01:11<25:26, 19.00it/s] "
     ]
    },
    {
     "name": "stdout",
     "output_type": "stream",
     "text": [
      "Generation 1000: Best current cost = 61241.38 | Absolute best cost = 61241.38 | Mutation rate = 0.100 | Valid = True\n"
     ]
    },
    {
     "name": "stderr",
     "output_type": "stream",
     "text": [
      "  7%|▋         | 2004/30000 [02:05<23:16, 20.05it/s]"
     ]
    },
    {
     "name": "stdout",
     "output_type": "stream",
     "text": [
      "Generation 2000: Best current cost = 59869.01 | Absolute best cost = 59869.01 | Mutation rate = 0.100 | Valid = True\n"
     ]
    },
    {
     "name": "stderr",
     "output_type": "stream",
     "text": [
      " 10%|█         | 3003/30000 [02:52<20:30, 21.93it/s]"
     ]
    },
    {
     "name": "stdout",
     "output_type": "stream",
     "text": [
      "Generation 3000: Best current cost = 58342.61 | Absolute best cost = 58342.61 | Mutation rate = 0.100 | Valid = True\n"
     ]
    },
    {
     "name": "stderr",
     "output_type": "stream",
     "text": [
      " 13%|█▎        | 4003/30000 [03:38<18:58, 22.84it/s]"
     ]
    },
    {
     "name": "stdout",
     "output_type": "stream",
     "text": [
      "Generation 4000: Best current cost = 57225.44 | Absolute best cost = 57225.44 | Mutation rate = 0.100 | Valid = True\n"
     ]
    },
    {
     "name": "stderr",
     "output_type": "stream",
     "text": [
      " 17%|█▋        | 5003/30000 [04:23<19:22, 21.51it/s]"
     ]
    },
    {
     "name": "stdout",
     "output_type": "stream",
     "text": [
      "Generation 5000: Best current cost = 56403.14 | Absolute best cost = 56403.14 | Mutation rate = 0.100 | Valid = True\n"
     ]
    },
    {
     "name": "stderr",
     "output_type": "stream",
     "text": [
      " 20%|██        | 6004/30000 [05:13<22:00, 18.18it/s]"
     ]
    },
    {
     "name": "stdout",
     "output_type": "stream",
     "text": [
      "Generation 6000: Best current cost = 55889.86 | Absolute best cost = 55889.86 | Mutation rate = 0.100 | Valid = True\n"
     ]
    },
    {
     "name": "stderr",
     "output_type": "stream",
     "text": [
      " 23%|██▎       | 7004/30000 [06:10<22:22, 17.13it/s]"
     ]
    },
    {
     "name": "stdout",
     "output_type": "stream",
     "text": [
      "Generation 7000: Best current cost = 55404.47 | Absolute best cost = 55404.47 | Mutation rate = 0.100 | Valid = True\n"
     ]
    },
    {
     "name": "stderr",
     "output_type": "stream",
     "text": [
      " 27%|██▋       | 8005/30000 [07:07<17:27, 21.00it/s]"
     ]
    },
    {
     "name": "stdout",
     "output_type": "stream",
     "text": [
      "Generation 8000: Best current cost = 55161.29 | Absolute best cost = 55161.29 | Mutation rate = 0.100 | Valid = True\n"
     ]
    },
    {
     "name": "stderr",
     "output_type": "stream",
     "text": [
      " 30%|███       | 9002/30000 [08:16<26:55, 12.99it/s]"
     ]
    },
    {
     "name": "stdout",
     "output_type": "stream",
     "text": [
      "Generation 9000: Best current cost = 54749.15 | Absolute best cost = 54749.15 | Mutation rate = 0.100 | Valid = True\n"
     ]
    },
    {
     "name": "stderr",
     "output_type": "stream",
     "text": [
      " 33%|███▎      | 10003/30000 [09:50<33:57,  9.82it/s]"
     ]
    },
    {
     "name": "stdout",
     "output_type": "stream",
     "text": [
      "Generation 10000: Best current cost = 54359.13 | Absolute best cost = 54359.13 | Mutation rate = 0.100 | Valid = True\n"
     ]
    },
    {
     "name": "stderr",
     "output_type": "stream",
     "text": [
      " 37%|███▋      | 11003/30000 [11:02<18:10, 17.42it/s]"
     ]
    },
    {
     "name": "stdout",
     "output_type": "stream",
     "text": [
      "Generation 11000: Best current cost = 54142.49 | Absolute best cost = 54142.49 | Mutation rate = 0.100 | Valid = True\n"
     ]
    },
    {
     "name": "stderr",
     "output_type": "stream",
     "text": [
      " 40%|████      | 12005/30000 [12:03<15:37, 19.20it/s]"
     ]
    },
    {
     "name": "stdout",
     "output_type": "stream",
     "text": [
      "Generation 12000: Best current cost = 53789.45 | Absolute best cost = 53789.45 | Mutation rate = 0.100 | Valid = True\n"
     ]
    },
    {
     "name": "stderr",
     "output_type": "stream",
     "text": [
      " 43%|████▎     | 13003/30000 [13:03<14:43, 19.23it/s]"
     ]
    },
    {
     "name": "stdout",
     "output_type": "stream",
     "text": [
      "Generation 13000: Best current cost = 53689.46 | Absolute best cost = 53689.46 | Mutation rate = 0.100 | Valid = True\n"
     ]
    },
    {
     "name": "stderr",
     "output_type": "stream",
     "text": [
      " 47%|████▋     | 14004/30000 [13:57<13:28, 19.80it/s]"
     ]
    },
    {
     "name": "stdout",
     "output_type": "stream",
     "text": [
      "Generation 14000: Best current cost = 53460.85 | Absolute best cost = 53460.85 | Mutation rate = 0.100 | Valid = True\n"
     ]
    },
    {
     "name": "stderr",
     "output_type": "stream",
     "text": [
      " 50%|█████     | 15004/30000 [14:49<13:53, 17.99it/s]"
     ]
    },
    {
     "name": "stdout",
     "output_type": "stream",
     "text": [
      "Generation 15000: Best current cost = 53361.80 | Absolute best cost = 53361.80 | Mutation rate = 0.100 | Valid = True\n"
     ]
    },
    {
     "name": "stderr",
     "output_type": "stream",
     "text": [
      " 53%|█████▎    | 16002/30000 [16:02<15:33, 15.00it/s]"
     ]
    },
    {
     "name": "stdout",
     "output_type": "stream",
     "text": [
      "Generation 16000: Best current cost = 53306.78 | Absolute best cost = 53306.78 | Mutation rate = 0.100 | Valid = True\n"
     ]
    },
    {
     "name": "stderr",
     "output_type": "stream",
     "text": [
      " 57%|█████▋    | 17005/30000 [17:08<10:25, 20.77it/s]"
     ]
    },
    {
     "name": "stdout",
     "output_type": "stream",
     "text": [
      "Generation 17000: Best current cost = 53206.94 | Absolute best cost = 53206.94 | Mutation rate = 0.100 | Valid = True\n"
     ]
    },
    {
     "name": "stderr",
     "output_type": "stream",
     "text": [
      " 60%|██████    | 18004/30000 [18:14<14:14, 14.04it/s]"
     ]
    },
    {
     "name": "stdout",
     "output_type": "stream",
     "text": [
      "Generation 18000: Best current cost = 53068.68 | Absolute best cost = 53068.68 | Mutation rate = 0.100 | Valid = True\n"
     ]
    },
    {
     "name": "stderr",
     "output_type": "stream",
     "text": [
      " 63%|██████▎   | 19002/30000 [19:33<19:46,  9.27it/s]"
     ]
    },
    {
     "name": "stdout",
     "output_type": "stream",
     "text": [
      "Generation 19000: Best current cost = 52994.33 | Absolute best cost = 52994.33 | Mutation rate = 0.100 | Valid = True\n"
     ]
    },
    {
     "name": "stderr",
     "output_type": "stream",
     "text": [
      " 67%|██████▋   | 20003/30000 [20:53<08:42, 19.15it/s]"
     ]
    },
    {
     "name": "stdout",
     "output_type": "stream",
     "text": [
      "Generation 20000: Best current cost = 52940.90 | Absolute best cost = 52940.90 | Mutation rate = 0.105 | Valid = True\n"
     ]
    },
    {
     "name": "stderr",
     "output_type": "stream",
     "text": [
      " 70%|███████   | 21003/30000 [22:03<10:47, 13.89it/s]"
     ]
    },
    {
     "name": "stdout",
     "output_type": "stream",
     "text": [
      "Generation 21000: Best current cost = 52882.07 | Absolute best cost = 52882.07 | Mutation rate = 0.100 | Valid = True\n"
     ]
    },
    {
     "name": "stderr",
     "output_type": "stream",
     "text": [
      " 73%|███████▎  | 22002/30000 [23:24<12:37, 10.56it/s]"
     ]
    },
    {
     "name": "stdout",
     "output_type": "stream",
     "text": [
      "Generation 22000: Best current cost = 52765.22 | Absolute best cost = 52765.22 | Mutation rate = 0.100 | Valid = True\n"
     ]
    },
    {
     "name": "stderr",
     "output_type": "stream",
     "text": [
      " 77%|███████▋  | 23002/30000 [24:56<09:21, 12.46it/s]"
     ]
    },
    {
     "name": "stdout",
     "output_type": "stream",
     "text": [
      "Generation 23000: Best current cost = 52701.02 | Absolute best cost = 52701.02 | Mutation rate = 0.100 | Valid = True\n"
     ]
    },
    {
     "name": "stderr",
     "output_type": "stream",
     "text": [
      " 80%|████████  | 24002/30000 [26:13<08:37, 11.59it/s]"
     ]
    },
    {
     "name": "stdout",
     "output_type": "stream",
     "text": [
      "Generation 24000: Best current cost = 52644.59 | Absolute best cost = 52644.59 | Mutation rate = 0.100 | Valid = True\n"
     ]
    },
    {
     "name": "stderr",
     "output_type": "stream",
     "text": [
      " 83%|████████▎ | 25003/30000 [27:37<07:40, 10.86it/s]"
     ]
    },
    {
     "name": "stdout",
     "output_type": "stream",
     "text": [
      "Generation 25000: Best current cost = 52605.59 | Absolute best cost = 52605.59 | Mutation rate = 0.100 | Valid = True\n"
     ]
    },
    {
     "name": "stderr",
     "output_type": "stream",
     "text": [
      " 87%|████████▋ | 26003/30000 [28:46<04:20, 15.32it/s]"
     ]
    },
    {
     "name": "stdout",
     "output_type": "stream",
     "text": [
      "Generation 26000: Best current cost = 52549.20 | Absolute best cost = 52549.20 | Mutation rate = 0.100 | Valid = True\n"
     ]
    },
    {
     "name": "stderr",
     "output_type": "stream",
     "text": [
      " 90%|█████████ | 27003/30000 [30:04<04:46, 10.46it/s]"
     ]
    },
    {
     "name": "stdout",
     "output_type": "stream",
     "text": [
      "Generation 27000: Best current cost = 52503.13 | Absolute best cost = 52503.13 | Mutation rate = 0.150 | Valid = True\n"
     ]
    },
    {
     "name": "stderr",
     "output_type": "stream",
     "text": [
      " 93%|█████████▎| 28004/30000 [31:16<01:50, 18.08it/s]"
     ]
    },
    {
     "name": "stdout",
     "output_type": "stream",
     "text": [
      "Generation 28000: Best current cost = 52463.86 | Absolute best cost = 52463.86 | Mutation rate = 0.100 | Valid = True\n"
     ]
    },
    {
     "name": "stderr",
     "output_type": "stream",
     "text": [
      " 97%|█████████▋| 29005/30000 [32:41<00:49, 20.25it/s]"
     ]
    },
    {
     "name": "stdout",
     "output_type": "stream",
     "text": [
      "Generation 29000: Best current cost = 52390.68 | Absolute best cost = 52390.68 | Mutation rate = 0.100 | Valid = True\n"
     ]
    },
    {
     "name": "stderr",
     "output_type": "stream",
     "text": [
      "100%|██████████| 30000/30000 [33:43<00:00, 14.83it/s]\n",
      "ic| best_cost: (np.float64(52353.584217571246), np.True_)\n",
      "    tsp_cost.calls: 13931136\n"
     ]
    },
    {
     "data": {
      "text/plain": [
       "((np.float64(52353.584217571246), np.True_), 13931136)"
      ]
     },
     "execution_count": 62,
     "metadata": {},
     "output_type": "execute_result"
    }
   ],
   "source": [
    "\n",
    "CITIES = pd.read_csv('./cities/china.csv', header=None, names=['name', 'lat', 'lon'])\n",
    "DIST_MATRIX = np.zeros((len(CITIES), len(CITIES)))\n",
    "for c1, c2 in combinations(CITIES.itertuples(), 2):\n",
    "    DIST_MATRIX[c1.Index, c2.Index] = DIST_MATRIX[c2.Index, c1.Index] = geodesic(\n",
    "        (c1.lat, c1.lon), (c2.lat, c2.lon)\n",
    "    ).km\n",
    "best_cost=evolutionary_algorithm_tsp_adaptive_mutation(\n",
    "    DIST_MATRIX,\n",
    "    num_generations=30000, \n",
    ")\n",
    "ic(best_cost,tsp_cost.calls)\n"
   ]
  },
  {
   "cell_type": "markdown",
   "metadata": {},
   "source": [
    "The proposed evolutionary algorithm addresses the traveling salesman problem (TSP) by integrating an adaptive mutation strategy and a restart mechanism based on Simulated Annealing (SA). Mutation is dynamically regulated: the rate increases if no improvement is observed for a given number of generations and decreases if progress is made, thus promoting a balance between exploration and exploitation.\n",
    "\n",
    "When the mutation rate exceeds a predefined threshold, the algorithm initiates a restart phase via SA, regenerating the population to avoid convergence to local minima. The approach uses tournament selection, permutation-specific crossover techniques of the TSP (inver-over), and an inversion-based mutation. This combination allows the algorithm to progressively improve the quality of the solution."
   ]
  },
  {
   "cell_type": "markdown",
   "metadata": {},
   "source": [
    "Note: in order to obtain the same results, it may be necessary to restart the algorithm several times or to increase the gender number. The results shown on the screen are the highest values I obtained after several attempts"
   ]
  }
 ],
 "metadata": {
  "kernelspec": {
   "display_name": ".venv",
   "language": "python",
   "name": "python3"
  },
  "language_info": {
   "codemirror_mode": {
    "name": "ipython",
    "version": 3
   },
   "file_extension": ".py",
   "mimetype": "text/x-python",
   "name": "python",
   "nbconvert_exporter": "python",
   "pygments_lexer": "ipython3",
   "version": "3.12.4"
  }
 },
 "nbformat": 4,
 "nbformat_minor": 2
}
