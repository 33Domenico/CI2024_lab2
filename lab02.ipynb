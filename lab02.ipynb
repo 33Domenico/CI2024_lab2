{
 "cells": [
  {
   "cell_type": "code",
   "execution_count": 17,
   "metadata": {},
   "outputs": [],
   "source": [
    "import logging\n",
    "from itertools import combinations\n",
    "import pandas as pd\n",
    "import numpy as np\n",
    "from geopy.distance import geodesic\n",
    "import networkx as nx\n",
    "import random\n",
    "from icecream import ic\n",
    "from tqdm.auto import tqdm\n",
    "from matplotlib import pyplot as plt\n",
    "from itertools import accumulate\n",
    "import functools\n"
   ]
  },
  {
   "cell_type": "code",
   "execution_count": 18,
   "metadata": {},
   "outputs": [],
   "source": [
    "logging.basicConfig(level=logging.DEBUG)"
   ]
  },
  {
   "cell_type": "markdown",
   "metadata": {},
   "source": [
    "## Nearest Neighbor (Greedy)"
   ]
  },
  {
   "cell_type": "code",
   "execution_count": 19,
   "metadata": {},
   "outputs": [],
   "source": [
    "def nearest_neighbor_tsp(start_city_index=0):\n",
    "    \"\"\"\n",
    "    Risolve il TSP utilizzando l'algoritmo Greedy di Nearest Neighbor.\n",
    "    :param start_city_index: Indice della città di partenza\n",
    "    :return: Lista dell'ordine delle città visitate e lunghezza totale del percorso\n",
    "    \"\"\"\n",
    "    dist_matrix=DIST_MATRIX.copy()\n",
    "    visited = np.full(len(CITIES), False)  \n",
    "    city = start_city_index  \n",
    "    visited[city] = True\n",
    "\n",
    "    tsp = [city]  \n",
    "\n",
    "    while not np.all(visited):\n",
    "        dist_matrix[:, city] = np.inf\n",
    "        closest_city = np.argmin(dist_matrix[city])\n",
    "        visited[closest_city] = True\n",
    "        tsp.append(int(closest_city))\n",
    "        city = closest_city\n",
    "\n",
    "    tsp.append(start_city_index)\n",
    "    \n",
    "    total_distance = tsp_cost(tsp,DIST_MATRIX)\n",
    "    \n",
    "    return tsp, total_distance"
   ]
  },
  {
   "cell_type": "code",
   "execution_count": 20,
   "metadata": {},
   "outputs": [],
   "source": [
    "def counter(fn):\n",
    "    \"\"\"Simple decorator for counting number of calls\"\"\"\n",
    "\n",
    "    @functools.wraps(fn)\n",
    "    def helper(*args, **kargs):\n",
    "        helper.calls += 1\n",
    "        return fn(*args, **kargs)\n",
    "\n",
    "    helper.calls = 0\n",
    "    return helper\n"
   ]
  },
  {
   "cell_type": "code",
   "execution_count": 21,
   "metadata": {},
   "outputs": [],
   "source": [
    "def valid(tsp):\n",
    "    \"\"\"\n",
    "    Verifica la validità di un percorso TSP.\n",
    "    \"\"\"\n",
    "    tsp = np.array(tsp)\n",
    "    \n",
    "    if tsp[0] != tsp[-1]:\n",
    "        return False\n",
    "    \n",
    "    # Verify that all cities are visited exactly once.\n",
    "    cities_visited = tsp[:-1]\n",
    "    expected_cities = np.arange(len(CITIES))\n",
    "    \n",
    "    return (len(np.unique(cities_visited)) == len(CITIES) and \n",
    "            np.all(np.isin(expected_cities, cities_visited)))\n",
    "@counter\n",
    "def tsp_cost(route, dist_matrix):\n",
    "    \"\"\"Calcola il costo del percorso e la sua validità.\"\"\"\n",
    "    route = np.array(route)\n",
    "    # Calculates distances between consecutive cities.\n",
    "    total_distance = np.sum([dist_matrix[route[i], route[i+1]] \n",
    "                           for i in range(len(route)-1)])\n",
    "    return (total_distance, valid(route))"
   ]
  },
  {
   "cell_type": "markdown",
   "metadata": {},
   "source": [
    "## Inversion mutation"
   ]
  },
  {
   "cell_type": "code",
   "execution_count": 22,
   "metadata": {},
   "outputs": [],
   "source": [
    "def tweak(tsp):\n",
    "    \"\"\"Esegue un'inversion mutation su una soluzione TSP\"\"\"\n",
    "    tsp = np.array(tsp)\n",
    "    # Select two random points in the path to perform the inversion.\n",
    "    a, b = sorted(np.random.choice(range(1, len(tsp) - 1), 2, replace=False))\n",
    "    # Reverses the sub-path between the two selected points.\n",
    "    tsp[a:b+1] = np.flip(tsp[a:b+1])\n",
    "    return tsp.tolist()\n"
   ]
  },
  {
   "cell_type": "markdown",
   "metadata": {},
   "source": [
    "##  Simulated Annealing (SA) by Initial Population."
   ]
  },
  {
   "cell_type": "code",
   "execution_count": 23,
   "metadata": {},
   "outputs": [],
   "source": [
    "def simulated_annealing_population(dist_matrix, initial_temp, cooling_rate, stop_temp, population_size=100):\n",
    "    \"\"\"Algoritmo di Simulated Annealing per generare una popolazione iniziale\"\"\"\n",
    "    dist_matrix = np.array(dist_matrix)\n",
    "     # Find an initial solution with the Greedy method.\n",
    "    current_solution, current_cost = nearest_neighbor_tsp(start_city_index=0)\n",
    "    best_solution = current_solution[:]\n",
    "    best_cost = current_cost\n",
    "\n",
    "    population = [(best_solution, best_cost)]\n",
    "    temperature = initial_temp\n",
    "\n",
    "    while temperature > stop_temp:\n",
    "        new_solution = tweak(current_solution[:])\n",
    "        new_cost = tsp_cost(new_solution, dist_matrix)\n",
    "\n",
    "        if (new_cost[0] < current_cost[0] or \n",
    "            np.random.random() < np.exp((current_cost[0] - new_cost[0]) / temperature)):\n",
    "            current_solution = new_solution\n",
    "            current_cost = new_cost\n",
    "\n",
    "            if new_cost[0] < best_cost[0]:\n",
    "                best_solution = new_solution\n",
    "                best_cost = new_cost\n",
    "    \n",
    "            population.append((current_solution, current_cost))\n",
    "            \n",
    "        temperature *= cooling_rate\n",
    "    # Sort the population by cost and return the best 'population_size' individuals    \n",
    "    population = np.array(population, dtype=object)\n",
    "    sorted_indices = np.argsort([cost[0] for _, cost in population])\n",
    "    population = population[sorted_indices]\n",
    "    \n",
    "    return population[:population_size].tolist()"
   ]
  },
  {
   "cell_type": "code",
   "execution_count": 24,
   "metadata": {},
   "outputs": [],
   "source": [
    "def initial_population(pop_size):\n",
    "    \"\"\"Inizializza la popolazione usando parametri predefiniti.\"\"\"\n",
    "    initial_temp = 1000\n",
    "    cooling_rate = 0.992\n",
    "    stop_temp = 1e-200\n",
    "    # Generate initial population with Simulated Annealing.\n",
    "    return simulated_annealing_population(DIST_MATRIX, initial_temp,\n",
    "                                        cooling_rate, stop_temp, pop_size)\n"
   ]
  },
  {
   "cell_type": "markdown",
   "metadata": {},
   "source": [
    "##  Crossover Inver-Over"
   ]
  },
  {
   "cell_type": "code",
   "execution_count": 25,
   "metadata": {},
   "outputs": [],
   "source": [
    "def inver_over_crossover(parent1, parent2, num_iterations=1):\n",
    "    \"\"\"Applica il crossover inver-over \"\"\"\n",
    "    parent1, parent2 = np.array(parent1), np.array(parent2)\n",
    "    child = parent1.copy()\n",
    " # Perform a series of crossover iterations to create the child\n",
    "    for _ in range(num_iterations):\n",
    "        start_index = np.random.randint(1, len(child) - 2)\n",
    "        start_city = child[start_index]\n",
    "        # Randomly select a destination city from one of the parents.\n",
    "        if np.random.random() < 0.5:\n",
    "            valid_cities = child[1:-1][child[1:-1] != start_city]\n",
    "            end_city = np.random.choice(valid_cities)\n",
    "        else:\n",
    "            valid_cities = parent2[1:-1][parent2[1:-1] != start_city]\n",
    "            end_city = np.random.choice(valid_cities)\n",
    "        # Get start and destination city locations in the son.\n",
    "        start_pos = np.where(child == start_city)[0][0]\n",
    "        end_pos = np.where(child == end_city)[0][0]\n",
    "        \n",
    "        if start_pos > end_pos:\n",
    "            start_pos, end_pos = end_pos, start_pos\n",
    "          # Reverse the sub-path between the two positions.\n",
    "        child[start_pos:end_pos + 1] = np.flip(child[start_pos:end_pos + 1])\n",
    "    # The child ends up in the same city as the starting city.\n",
    "    if child[0] != child[-1]:\n",
    "        child = np.append(child, child[0])\n",
    "    \n",
    "    return child.tolist()"
   ]
  },
  {
   "cell_type": "code",
   "execution_count": 26,
   "metadata": {},
   "outputs": [],
   "source": [
    "def tournament_selection(population, k=5):\n",
    "    \"\"\"Selezione torneo usando NumPy.\"\"\"\n",
    "    # Randomly selects 'k' individuals from the population.\n",
    "    selected_indices = np.random.choice(len(population), k, replace=False)\n",
    "    selected = np.array(population, dtype=object)[selected_indices]\n",
    "    # Returns the individual with the lowest cost among those selected.\n",
    "    return min(selected, key=lambda x: x[1][0])  # x[1][0] accede al costo\n"
   ]
  },
  {
   "cell_type": "markdown",
   "metadata": {},
   "source": [
    "## Inversion mutation"
   ]
  },
  {
   "cell_type": "code",
   "execution_count": 27,
   "metadata": {},
   "outputs": [],
   "source": [
    "def inversion_mutation(tsp):\n",
    "    \"\"\"Esegue un'inversion mutation \"\"\"\n",
    "    tsp = np.array(tsp)\n",
    "    a, b = sorted(np.random.choice(range(1, len(tsp) - 1), 2, replace=False))\n",
    "    tsp[a:b+1] = np.flip(tsp[a:b+1])\n",
    "    return tsp.tolist()\n"
   ]
  },
  {
   "cell_type": "markdown",
   "metadata": {},
   "source": [
    "## EA with adaptive mutation and multiple restart with simulated anneling."
   ]
  },
  {
   "cell_type": "code",
   "execution_count": 28,
   "metadata": {},
   "outputs": [],
   "source": [
    "\n",
    "\n",
    "def genetic_algorithm_tsp_adaptive_mutation(\n",
    "    \n",
    "    dist_matrix,\n",
    "    population_size=100, \n",
    "    tournament_size=10, \n",
    "    num_generations=10000, \n",
    "    initial_mutation_rate=0.1, \n",
    "    crossover_iterations=1,\n",
    "    max_generations_without_improvement=500,\n",
    "    mutation_increase_factor=1.5,\n",
    "    mutation_decrease_factor=0.7,\n",
    "    mutation_threshold=1.3, # Threshold for restarting\n",
    "    initial_temp=1000,      \n",
    "    cooling_rate=0.992,\n",
    "    stop_temp=1e-200,\n",
    "\n",
    "):\n",
    "    \"\"\"Risolve il TSP utilizzando un Algoritmo Genetico con mutazione adattiva.\"\"\"\n",
    "    dist_matrix = np.array(dist_matrix)\n",
    "    population = initial_population(population_size)\n",
    "    current_mutation_rate = initial_mutation_rate\n",
    "\n",
    "    best_solution, best_cost = min(population, key=lambda x: x[1][0])\n",
    "    all_time_best_solution = best_solution\n",
    "    all_time_best_cost = best_cost\n",
    "    generations_without_improvement = 0\n",
    "    \n",
    "\n",
    "    for generation in tqdm(range(num_generations)):\n",
    "        # Check if it is necessary to reboot with SA.\n",
    "        if current_mutation_rate > mutation_threshold:\n",
    "            print(f\"\\nMutation rate ({current_mutation_rate:.3f}) exceeded threshold ({mutation_threshold})\")\n",
    "            print(\"Restarting with Simulated Annealing...\")\n",
    "            \n",
    "             # Run SA and get new population\n",
    "            new_population = simulated_annealing_population(\n",
    "                dist_matrix, \n",
    "                initial_temp, \n",
    "                cooling_rate, \n",
    "                stop_temp, \n",
    "                population_size\n",
    "            )\n",
    "            population = sorted(new_population, key=lambda x: x[1][0])[:population_size]\n",
    "             # Mutation rate reset\n",
    "            current_mutation_rate = initial_mutation_rate\n",
    "            print(\"Population refreshed and mutation rate reset\")\n",
    "\n",
    "        new_population = []\n",
    "\n",
    "        while len(new_population) < population_size:\n",
    "            parent1 = tournament_selection(population, tournament_size)\n",
    "            parent2 = tournament_selection(population, tournament_size)\n",
    "            \n",
    "            child = inver_over_crossover(parent1[0], parent2[0], crossover_iterations)\n",
    "            \n",
    "            if np.random.random() < current_mutation_rate:\n",
    "                child = inversion_mutation(child)\n",
    "\n",
    "            child_cost = tsp_cost(child, dist_matrix)\n",
    "            new_population.append((child, child_cost))\n",
    "\n",
    "        combined_population = np.array(new_population + population, dtype=object)\n",
    "        sorted_indices = np.argsort([cost[0] for _, cost in combined_population])\n",
    "        population = combined_population[sorted_indices][:population_size].tolist()\n",
    "\n",
    "        new_best_solution, new_best_cost = min(population, key=lambda x: x[1][0])\n",
    "\n",
    "         # Update the best result ever if needed\n",
    "        if new_best_cost[0] < all_time_best_cost[0]:\n",
    "            all_time_best_solution = new_best_solution\n",
    "            all_time_best_cost = new_best_cost\n",
    "\n",
    "        if new_best_cost[0] < best_cost[0]:\n",
    "            best_solution, best_cost = new_best_solution, new_best_cost\n",
    "            generations_without_improvement = 0\n",
    "            current_mutation_rate = max(initial_mutation_rate, \n",
    "                                     current_mutation_rate * mutation_decrease_factor)\n",
    "        else:\n",
    "            generations_without_improvement += 1\n",
    "\n",
    "        if generations_without_improvement > max_generations_without_improvement:\n",
    "            current_mutation_rate *= mutation_increase_factor\n",
    "            generations_without_improvement = 0\n",
    "\n",
    "        if generation % 1000 == 0:\n",
    "            print(f\"Generazione {generation}: \"\n",
    "                  f\"Costo migliore corrente = {best_cost[0]:.2f} | \"\n",
    "                  f\"Costo migliore assoluto = {all_time_best_cost[0]:.2f} | \"\n",
    "                  f\"Tasso di mutazione = {current_mutation_rate:.3f} | \"\n",
    "                  f\"Valido = {best_cost[1]}\")\n",
    "    \n",
    "    return all_time_best_cost\n"
   ]
  },
  {
   "cell_type": "markdown",
   "metadata": {},
   "source": [
    "## Vanuatu"
   ]
  },
  {
   "cell_type": "code",
   "execution_count": 29,
   "metadata": {},
   "outputs": [
    {
     "name": "stderr",
     "output_type": "stream",
     "text": [
      "0it [00:00, ?it/s]\n",
      "ic| best_cost: (np.float64(1345.5449564733112), np.True_)\n",
      "    tsp_cost.calls: 58196\n"
     ]
    },
    {
     "data": {
      "text/plain": [
       "((np.float64(1345.5449564733112), np.True_), 58196)"
      ]
     },
     "execution_count": 29,
     "metadata": {},
     "output_type": "execute_result"
    }
   ],
   "source": [
    "\n",
    "CITIES = pd.read_csv('./cities/vanuatu.csv', header=None, names=['name', 'lat', 'lon'])\n",
    "DIST_MATRIX = np.zeros((len(CITIES), len(CITIES)))\n",
    "for c1, c2 in combinations(CITIES.itertuples(), 2):\n",
    "    DIST_MATRIX[c1.Index, c2.Index] = DIST_MATRIX[c2.Index, c1.Index] = geodesic(\n",
    "        (c1.lat, c1.lon), (c2.lat, c2.lon)\n",
    "    ).km\n",
    "\n",
    "best_cost=genetic_algorithm_tsp_adaptive_mutation(\n",
    "    DIST_MATRIX,\n",
    "    num_generations=0, \n",
    ")\n",
    "ic(best_cost,tsp_cost.calls)\n",
    "\n"
   ]
  },
  {
   "cell_type": "markdown",
   "metadata": {},
   "source": [
    "For vanuatu just applying simulated anneling to get the best solution is enough"
   ]
  },
  {
   "cell_type": "markdown",
   "metadata": {},
   "source": [
    "## Italy"
   ]
  },
  {
   "cell_type": "code",
   "execution_count": 39,
   "metadata": {},
   "outputs": [
    {
     "name": "stderr",
     "output_type": "stream",
     "text": [
      "  0%|          | 13/10000 [00:00<02:52, 57.88it/s]"
     ]
    },
    {
     "name": "stdout",
     "output_type": "stream",
     "text": [
      "Generazione 0: Costo migliore corrente = 4436.03 | Costo migliore assoluto = 4436.03 | Tasso di mutazione = 0.100 | Valido = True\n"
     ]
    },
    {
     "name": "stderr",
     "output_type": "stream",
     "text": [
      " 10%|█         | 1004/10000 [00:26<08:07, 18.45it/s]"
     ]
    },
    {
     "name": "stdout",
     "output_type": "stream",
     "text": [
      "Generazione 1000: Costo migliore corrente = 4258.07 | Costo migliore assoluto = 4258.07 | Tasso di mutazione = 0.130 | Valido = True\n"
     ]
    },
    {
     "name": "stderr",
     "output_type": "stream",
     "text": [
      " 20%|██        | 2004/10000 [01:22<07:31, 17.69it/s]"
     ]
    },
    {
     "name": "stdout",
     "output_type": "stream",
     "text": [
      "Generazione 2000: Costo migliore corrente = 4258.07 | Costo migliore assoluto = 4258.07 | Tasso di mutazione = 0.220 | Valido = True\n"
     ]
    },
    {
     "name": "stderr",
     "output_type": "stream",
     "text": [
      " 30%|███       | 3003/10000 [02:16<03:39, 31.87it/s]"
     ]
    },
    {
     "name": "stdout",
     "output_type": "stream",
     "text": [
      "Generazione 3000: Costo migliore corrente = 4258.07 | Costo migliore assoluto = 4258.07 | Tasso di mutazione = 0.371 | Valido = True\n"
     ]
    },
    {
     "name": "stderr",
     "output_type": "stream",
     "text": [
      " 40%|████      | 4004/10000 [03:14<05:32, 18.01it/s]"
     ]
    },
    {
     "name": "stdout",
     "output_type": "stream",
     "text": [
      "Generazione 4000: Costo migliore corrente = 4258.07 | Costo migliore assoluto = 4258.07 | Tasso di mutazione = 0.627 | Valido = True\n"
     ]
    },
    {
     "name": "stderr",
     "output_type": "stream",
     "text": [
      " 50%|█████     | 5004/10000 [04:14<05:17, 15.72it/s]"
     ]
    },
    {
     "name": "stdout",
     "output_type": "stream",
     "text": [
      "Generazione 5000: Costo migliore corrente = 4258.07 | Costo migliore assoluto = 4258.07 | Tasso di mutazione = 1.060 | Valido = True\n"
     ]
    },
    {
     "name": "stderr",
     "output_type": "stream",
     "text": [
      " 52%|█████▏    | 5213/10000 [04:27<05:09, 15.45it/s]"
     ]
    },
    {
     "name": "stdout",
     "output_type": "stream",
     "text": [
      "\n",
      "Mutation rate (1.379) exceeded threshold (1.3)\n",
      "Restarting with Simulated Annealing...\n"
     ]
    },
    {
     "name": "stderr",
     "output_type": "stream",
     "text": [
      " 52%|█████▏    | 5215/10000 [04:42<3:01:24,  2.27s/it]"
     ]
    },
    {
     "name": "stdout",
     "output_type": "stream",
     "text": [
      "Population refreshed and mutation rate reset\n"
     ]
    },
    {
     "name": "stderr",
     "output_type": "stream",
     "text": [
      " 60%|██████    | 6004/10000 [05:22<03:36, 18.45it/s]  "
     ]
    },
    {
     "name": "stdout",
     "output_type": "stream",
     "text": [
      "Generazione 6000: Costo migliore corrente = 4172.76 | Costo migliore assoluto = 4172.76 | Tasso di mutazione = 0.100 | Valido = True\n"
     ]
    },
    {
     "name": "stderr",
     "output_type": "stream",
     "text": [
      " 70%|███████   | 7011/10000 [06:14<00:41, 72.22it/s]"
     ]
    },
    {
     "name": "stdout",
     "output_type": "stream",
     "text": [
      "Generazione 7000: Costo migliore corrente = 4172.76 | Costo migliore assoluto = 4172.76 | Tasso di mutazione = 0.169 | Valido = True\n"
     ]
    },
    {
     "name": "stderr",
     "output_type": "stream",
     "text": [
      " 80%|████████  | 8008/10000 [06:29<00:31, 62.63it/s]"
     ]
    },
    {
     "name": "stdout",
     "output_type": "stream",
     "text": [
      "Generazione 8000: Costo migliore corrente = 4172.76 | Costo migliore assoluto = 4172.76 | Tasso di mutazione = 0.286 | Valido = True\n"
     ]
    },
    {
     "name": "stderr",
     "output_type": "stream",
     "text": [
      " 90%|█████████ | 9013/10000 [06:46<00:15, 65.24it/s]"
     ]
    },
    {
     "name": "stdout",
     "output_type": "stream",
     "text": [
      "Generazione 9000: Costo migliore corrente = 4172.76 | Costo migliore assoluto = 4172.76 | Tasso di mutazione = 0.483 | Valido = True\n"
     ]
    },
    {
     "name": "stderr",
     "output_type": "stream",
     "text": [
      "100%|██████████| 10000/10000 [07:02<00:00, 23.68it/s]\n",
      "ic| best_cost: (np.float64(4172.7626139164095), np.True_)\n",
      "    tsp_cost.calls: 14163920\n"
     ]
    },
    {
     "data": {
      "text/plain": [
       "((np.float64(4172.7626139164095), np.True_), 14163920)"
      ]
     },
     "execution_count": 39,
     "metadata": {},
     "output_type": "execute_result"
    }
   ],
   "source": [
    "\n",
    "CITIES = pd.read_csv('./cities/italy.csv', header=None, names=['name', 'lat', 'lon'])\n",
    "DIST_MATRIX = np.zeros((len(CITIES), len(CITIES)))\n",
    "for c1, c2 in combinations(CITIES.itertuples(), 2):\n",
    "    DIST_MATRIX[c1.Index, c2.Index] = DIST_MATRIX[c2.Index, c1.Index] = geodesic(\n",
    "        (c1.lat, c1.lon), (c2.lat, c2.lon)\n",
    "    ).km\n",
    "best_cost=genetic_algorithm_tsp_adaptive_mutation(\n",
    "    DIST_MATRIX,\n",
    "    mutation_increase_factor=1.3,\n",
    "    mutation_decrease_factor=0.7\n",
    ")\n",
    "ic(best_cost,tsp_cost.calls)\n"
   ]
  },
  {
   "cell_type": "markdown",
   "metadata": {},
   "source": [
    "## Russia"
   ]
  },
  {
   "cell_type": "code",
   "execution_count": 41,
   "metadata": {},
   "outputs": [
    {
     "name": "stderr",
     "output_type": "stream",
     "text": [
      "  0%|          | 5/10000 [00:00<03:38, 45.73it/s]"
     ]
    },
    {
     "name": "stdout",
     "output_type": "stream",
     "text": [
      "Generazione 0: Costo migliore corrente = 35167.10 | Costo migliore assoluto = 35167.10 | Tasso di mutazione = 0.100 | Valido = True\n"
     ]
    },
    {
     "name": "stderr",
     "output_type": "stream",
     "text": [
      " 10%|█         | 1007/10000 [00:32<04:14, 35.29it/s]"
     ]
    },
    {
     "name": "stdout",
     "output_type": "stream",
     "text": [
      "Generazione 1000: Costo migliore corrente = 34920.67 | Costo migliore assoluto = 34920.67 | Tasso di mutazione = 0.100 | Valido = True\n"
     ]
    },
    {
     "name": "stderr",
     "output_type": "stream",
     "text": [
      " 20%|██        | 2007/10000 [01:16<02:34, 51.74it/s]"
     ]
    },
    {
     "name": "stdout",
     "output_type": "stream",
     "text": [
      "Generazione 2000: Costo migliore corrente = 34643.65 | Costo migliore assoluto = 34643.65 | Tasso di mutazione = 0.100 | Valido = True\n"
     ]
    },
    {
     "name": "stderr",
     "output_type": "stream",
     "text": [
      " 30%|███       | 3007/10000 [01:36<02:12, 52.88it/s]"
     ]
    },
    {
     "name": "stdout",
     "output_type": "stream",
     "text": [
      "Generazione 3000: Costo migliore corrente = 34618.79 | Costo migliore assoluto = 34618.79 | Tasso di mutazione = 0.150 | Valido = True\n"
     ]
    },
    {
     "name": "stderr",
     "output_type": "stream",
     "text": [
      " 40%|████      | 4006/10000 [02:20<01:52, 53.39it/s]"
     ]
    },
    {
     "name": "stdout",
     "output_type": "stream",
     "text": [
      "Generazione 4000: Costo migliore corrente = 34603.28 | Costo migliore assoluto = 34603.28 | Tasso di mutazione = 0.100 | Valido = True\n"
     ]
    },
    {
     "name": "stderr",
     "output_type": "stream",
     "text": [
      " 50%|█████     | 5008/10000 [02:38<01:36, 51.55it/s]"
     ]
    },
    {
     "name": "stdout",
     "output_type": "stream",
     "text": [
      "Generazione 5000: Costo migliore corrente = 34603.28 | Costo migliore assoluto = 34603.28 | Tasso di mutazione = 0.225 | Valido = True\n"
     ]
    },
    {
     "name": "stderr",
     "output_type": "stream",
     "text": [
      " 60%|██████    | 6002/10000 [03:21<04:40, 14.25it/s]"
     ]
    },
    {
     "name": "stdout",
     "output_type": "stream",
     "text": [
      "Generazione 6000: Costo migliore corrente = 34603.28 | Costo migliore assoluto = 34603.28 | Tasso di mutazione = 0.506 | Valido = True\n"
     ]
    },
    {
     "name": "stderr",
     "output_type": "stream",
     "text": [
      " 70%|███████   | 7007/10000 [04:32<01:25, 34.95it/s]"
     ]
    },
    {
     "name": "stdout",
     "output_type": "stream",
     "text": [
      "Generazione 7000: Costo migliore corrente = 34603.28 | Costo migliore assoluto = 34603.28 | Tasso di mutazione = 1.139 | Valido = True\n"
     ]
    },
    {
     "name": "stderr",
     "output_type": "stream",
     "text": [
      " 71%|███████   | 7060/10000 [04:34<01:06, 43.96it/s]"
     ]
    },
    {
     "name": "stdout",
     "output_type": "stream",
     "text": [
      "\n",
      "Mutation rate (1.709) exceeded threshold (1.3)\n",
      "Restarting with Simulated Annealing...\n"
     ]
    },
    {
     "name": "stderr",
     "output_type": "stream",
     "text": [
      " 71%|███████   | 7069/10000 [04:40<15:53,  3.07it/s]"
     ]
    },
    {
     "name": "stdout",
     "output_type": "stream",
     "text": [
      "Population refreshed and mutation rate reset\n"
     ]
    },
    {
     "name": "stderr",
     "output_type": "stream",
     "text": [
      " 80%|████████  | 8004/10000 [05:32<02:02, 16.30it/s]"
     ]
    },
    {
     "name": "stdout",
     "output_type": "stream",
     "text": [
      "Generazione 8000: Costo migliore corrente = 34146.28 | Costo migliore assoluto = 34146.28 | Tasso di mutazione = 0.100 | Valido = True\n"
     ]
    },
    {
     "name": "stderr",
     "output_type": "stream",
     "text": [
      " 90%|█████████ | 9003/10000 [06:24<00:24, 40.19it/s]"
     ]
    },
    {
     "name": "stdout",
     "output_type": "stream",
     "text": [
      "Generazione 9000: Costo migliore corrente = 34146.28 | Costo migliore assoluto = 34146.28 | Tasso di mutazione = 0.225 | Valido = True\n"
     ]
    },
    {
     "name": "stderr",
     "output_type": "stream",
     "text": [
      "100%|██████████| 10000/10000 [06:45<00:00, 24.66it/s]\n",
      "ic| best_cost: (np.float64(34146.27869437402), np.True_)\n",
      "    tsp_cost.calls: 16396704\n"
     ]
    },
    {
     "data": {
      "text/plain": [
       "((np.float64(34146.27869437402), np.True_), 16396704)"
      ]
     },
     "execution_count": 41,
     "metadata": {},
     "output_type": "execute_result"
    }
   ],
   "source": [
    "\n",
    "CITIES = pd.read_csv('./cities/russia.csv', header=None, names=['name', 'lat', 'lon'])\n",
    "DIST_MATRIX = np.zeros((len(CITIES), len(CITIES)))\n",
    "for c1, c2 in combinations(CITIES.itertuples(), 2):\n",
    "    DIST_MATRIX[c1.Index, c2.Index] = DIST_MATRIX[c2.Index, c1.Index] = geodesic(\n",
    "        (c1.lat, c1.lon), (c2.lat, c2.lon)\n",
    "    ).km\n",
    "best_cost=genetic_algorithm_tsp_adaptive_mutation(DIST_MATRIX)\n",
    "ic(best_cost,tsp_cost.calls)\n"
   ]
  },
  {
   "cell_type": "markdown",
   "metadata": {},
   "source": [
    "## Us"
   ]
  },
  {
   "cell_type": "code",
   "execution_count": 32,
   "metadata": {},
   "outputs": [
    {
     "name": "stderr",
     "output_type": "stream",
     "text": [
      "  0%|          | 9/20000 [00:00<08:36, 38.71it/s]"
     ]
    },
    {
     "name": "stdout",
     "output_type": "stream",
     "text": [
      "Generazione 0: Costo migliore corrente = 45867.54 | Costo migliore assoluto = 45867.54 | Tasso di mutazione = 0.100 | Valido = True\n"
     ]
    },
    {
     "name": "stderr",
     "output_type": "stream",
     "text": [
      "  5%|▌         | 1008/20000 [00:27<08:53, 35.60it/s]"
     ]
    },
    {
     "name": "stdout",
     "output_type": "stream",
     "text": [
      "Generazione 1000: Costo migliore corrente = 43361.78 | Costo migliore assoluto = 43361.78 | Tasso di mutazione = 0.100 | Valido = True\n"
     ]
    },
    {
     "name": "stderr",
     "output_type": "stream",
     "text": [
      " 10%|█         | 2006/20000 [01:17<08:06, 36.98it/s]"
     ]
    },
    {
     "name": "stdout",
     "output_type": "stream",
     "text": [
      "Generazione 2000: Costo migliore corrente = 42585.49 | Costo migliore assoluto = 42585.49 | Tasso di mutazione = 0.100 | Valido = True\n"
     ]
    },
    {
     "name": "stderr",
     "output_type": "stream",
     "text": [
      " 15%|█▌        | 3008/20000 [01:45<07:28, 37.90it/s]"
     ]
    },
    {
     "name": "stdout",
     "output_type": "stream",
     "text": [
      "Generazione 3000: Costo migliore corrente = 42352.92 | Costo migliore assoluto = 42352.92 | Tasso di mutazione = 0.100 | Valido = True\n"
     ]
    },
    {
     "name": "stderr",
     "output_type": "stream",
     "text": [
      " 20%|██        | 4007/20000 [02:12<07:09, 37.25it/s]"
     ]
    },
    {
     "name": "stdout",
     "output_type": "stream",
     "text": [
      "Generazione 4000: Costo migliore corrente = 42190.41 | Costo migliore assoluto = 42190.41 | Tasso di mutazione = 0.100 | Valido = True\n"
     ]
    },
    {
     "name": "stderr",
     "output_type": "stream",
     "text": [
      " 25%|██▌       | 5007/20000 [02:39<06:22, 39.24it/s]"
     ]
    },
    {
     "name": "stdout",
     "output_type": "stream",
     "text": [
      "Generazione 5000: Costo migliore corrente = 42067.75 | Costo migliore assoluto = 42067.75 | Tasso di mutazione = 0.100 | Valido = True\n"
     ]
    },
    {
     "name": "stderr",
     "output_type": "stream",
     "text": [
      " 30%|███       | 6005/20000 [03:06<06:20, 36.83it/s]"
     ]
    },
    {
     "name": "stdout",
     "output_type": "stream",
     "text": [
      "Generazione 6000: Costo migliore corrente = 41941.52 | Costo migliore assoluto = 41941.52 | Tasso di mutazione = 0.100 | Valido = True\n"
     ]
    },
    {
     "name": "stderr",
     "output_type": "stream",
     "text": [
      " 35%|███▌      | 7007/20000 [03:34<06:00, 36.04it/s]"
     ]
    },
    {
     "name": "stdout",
     "output_type": "stream",
     "text": [
      "Generazione 7000: Costo migliore corrente = 41807.70 | Costo migliore assoluto = 41807.70 | Tasso di mutazione = 0.100 | Valido = True\n"
     ]
    },
    {
     "name": "stderr",
     "output_type": "stream",
     "text": [
      " 40%|████      | 8007/20000 [04:00<05:45, 34.72it/s]"
     ]
    },
    {
     "name": "stdout",
     "output_type": "stream",
     "text": [
      "Generazione 8000: Costo migliore corrente = 41794.51 | Costo migliore assoluto = 41794.51 | Tasso di mutazione = 0.100 | Valido = True\n"
     ]
    },
    {
     "name": "stderr",
     "output_type": "stream",
     "text": [
      " 45%|████▌     | 9002/20000 [04:54<16:28, 11.13it/s]"
     ]
    },
    {
     "name": "stdout",
     "output_type": "stream",
     "text": [
      "Generazione 9000: Costo migliore corrente = 41760.47 | Costo migliore assoluto = 41760.47 | Tasso di mutazione = 0.100 | Valido = True\n"
     ]
    },
    {
     "name": "stderr",
     "output_type": "stream",
     "text": [
      " 50%|█████     | 10003/20000 [06:22<14:15, 11.69it/s]"
     ]
    },
    {
     "name": "stdout",
     "output_type": "stream",
     "text": [
      "Generazione 10000: Costo migliore corrente = 41746.32 | Costo migliore assoluto = 41746.32 | Tasso di mutazione = 0.100 | Valido = True\n"
     ]
    },
    {
     "name": "stderr",
     "output_type": "stream",
     "text": [
      " 55%|█████▌    | 11003/20000 [07:41<12:23, 12.10it/s]"
     ]
    },
    {
     "name": "stdout",
     "output_type": "stream",
     "text": [
      "Generazione 11000: Costo migliore corrente = 41740.31 | Costo migliore assoluto = 41740.31 | Tasso di mutazione = 0.100 | Valido = True\n"
     ]
    },
    {
     "name": "stderr",
     "output_type": "stream",
     "text": [
      " 60%|██████    | 12002/20000 [08:50<15:10,  8.79it/s]"
     ]
    },
    {
     "name": "stdout",
     "output_type": "stream",
     "text": [
      "Generazione 12000: Costo migliore corrente = 41736.62 | Costo migliore assoluto = 41736.62 | Tasso di mutazione = 0.100 | Valido = True\n"
     ]
    },
    {
     "name": "stderr",
     "output_type": "stream",
     "text": [
      " 65%|██████▌   | 13005/20000 [10:20<03:13, 36.08it/s]"
     ]
    },
    {
     "name": "stdout",
     "output_type": "stream",
     "text": [
      "Generazione 13000: Costo migliore corrente = 41732.09 | Costo migliore assoluto = 41732.09 | Tasso di mutazione = 0.150 | Valido = True\n"
     ]
    },
    {
     "name": "stderr",
     "output_type": "stream",
     "text": [
      " 70%|███████   | 14009/20000 [10:47<02:33, 38.91it/s]"
     ]
    },
    {
     "name": "stdout",
     "output_type": "stream",
     "text": [
      "Generazione 14000: Costo migliore corrente = 41728.93 | Costo migliore assoluto = 41728.93 | Tasso di mutazione = 0.158 | Valido = True\n"
     ]
    },
    {
     "name": "stderr",
     "output_type": "stream",
     "text": [
      " 75%|███████▌  | 15007/20000 [11:13<02:18, 36.08it/s]"
     ]
    },
    {
     "name": "stdout",
     "output_type": "stream",
     "text": [
      "Generazione 15000: Costo migliore corrente = 41727.29 | Costo migliore assoluto = 41727.29 | Tasso di mutazione = 0.248 | Valido = True\n"
     ]
    },
    {
     "name": "stderr",
     "output_type": "stream",
     "text": [
      " 80%|████████  | 16005/20000 [11:40<01:44, 38.37it/s]"
     ]
    },
    {
     "name": "stdout",
     "output_type": "stream",
     "text": [
      "Generazione 16000: Costo migliore corrente = 41723.30 | Costo migliore assoluto = 41723.30 | Tasso di mutazione = 0.182 | Valido = True\n"
     ]
    },
    {
     "name": "stderr",
     "output_type": "stream",
     "text": [
      " 85%|████████▌ | 17007/20000 [12:06<01:20, 37.32it/s]"
     ]
    },
    {
     "name": "stdout",
     "output_type": "stream",
     "text": [
      "Generazione 17000: Costo migliore corrente = 41723.30 | Costo migliore assoluto = 41723.30 | Tasso di mutazione = 0.410 | Valido = True\n"
     ]
    },
    {
     "name": "stderr",
     "output_type": "stream",
     "text": [
      " 90%|█████████ | 18006/20000 [12:36<00:58, 34.27it/s]"
     ]
    },
    {
     "name": "stdout",
     "output_type": "stream",
     "text": [
      "Generazione 18000: Costo migliore corrente = 41723.30 | Costo migliore assoluto = 41723.30 | Tasso di mutazione = 0.923 | Valido = True\n"
     ]
    },
    {
     "name": "stderr",
     "output_type": "stream",
     "text": [
      " 92%|█████████▏| 18337/20000 [12:46<00:49, 33.49it/s]"
     ]
    },
    {
     "name": "stdout",
     "output_type": "stream",
     "text": [
      "\n",
      "Mutation rate (1.385) exceeded threshold (1.3)\n",
      "Restarting with Simulated Annealing...\n"
     ]
    },
    {
     "name": "stderr",
     "output_type": "stream",
     "text": [
      " 92%|█████████▏| 18345/20000 [12:57<15:35,  1.77it/s]"
     ]
    },
    {
     "name": "stdout",
     "output_type": "stream",
     "text": [
      "Population refreshed and mutation rate reset\n"
     ]
    },
    {
     "name": "stderr",
     "output_type": "stream",
     "text": [
      " 95%|█████████▌| 19007/20000 [13:15<00:27, 35.57it/s]"
     ]
    },
    {
     "name": "stdout",
     "output_type": "stream",
     "text": [
      "Generazione 19000: Costo migliore corrente = 41723.30 | Costo migliore assoluto = 41723.30 | Tasso di mutazione = 0.150 | Valido = True\n"
     ]
    },
    {
     "name": "stderr",
     "output_type": "stream",
     "text": [
      "100%|██████████| 20000/20000 [13:43<00:00, 24.30it/s]\n",
      "ic| best_cost: (np.float64(41723.295155113214), np.True_)\n",
      "    tsp_cost.calls: 4407372\n"
     ]
    },
    {
     "data": {
      "text/plain": [
       "((np.float64(41723.295155113214), np.True_), 4407372)"
      ]
     },
     "execution_count": 32,
     "metadata": {},
     "output_type": "execute_result"
    }
   ],
   "source": [
    "\n",
    "CITIES = pd.read_csv('./cities/us.csv', header=None, names=['name', 'lat', 'lon'])\n",
    "DIST_MATRIX = np.zeros((len(CITIES), len(CITIES)))\n",
    "for c1, c2 in combinations(CITIES.itertuples(), 2):\n",
    "    DIST_MATRIX[c1.Index, c2.Index] = DIST_MATRIX[c2.Index, c1.Index] = geodesic(\n",
    "        (c1.lat, c1.lon), (c2.lat, c2.lon)\n",
    "    ).km\n",
    "best_cost=genetic_algorithm_tsp_adaptive_mutation(\n",
    "    DIST_MATRIX,\n",
    "    num_generations=20000)\n",
    "ic(best_cost,tsp_cost.calls)"
   ]
  },
  {
   "cell_type": "markdown",
   "metadata": {},
   "source": [
    "## China"
   ]
  },
  {
   "cell_type": "code",
   "execution_count": 33,
   "metadata": {},
   "outputs": [
    {
     "name": "stderr",
     "output_type": "stream",
     "text": [
      "  0%|          | 3/30000 [00:00<23:02, 21.70it/s]"
     ]
    },
    {
     "name": "stdout",
     "output_type": "stream",
     "text": [
      "Generazione 0: Costo migliore corrente = 63962.92 | Costo migliore assoluto = 63962.92 | Tasso di mutazione = 0.100 | Valido = True\n"
     ]
    },
    {
     "name": "stderr",
     "output_type": "stream",
     "text": [
      "  3%|▎         | 1004/30000 [00:48<20:58, 23.03it/s]"
     ]
    },
    {
     "name": "stdout",
     "output_type": "stream",
     "text": [
      "Generazione 1000: Costo migliore corrente = 61604.59 | Costo migliore assoluto = 61604.59 | Tasso di mutazione = 0.100 | Valido = True\n"
     ]
    },
    {
     "name": "stderr",
     "output_type": "stream",
     "text": [
      "  7%|▋         | 2004/30000 [01:46<23:49, 19.59it/s]  "
     ]
    },
    {
     "name": "stdout",
     "output_type": "stream",
     "text": [
      "Generazione 2000: Costo migliore corrente = 60021.15 | Costo migliore assoluto = 60021.15 | Tasso di mutazione = 0.100 | Valido = True\n"
     ]
    },
    {
     "name": "stderr",
     "output_type": "stream",
     "text": [
      " 10%|█         | 3002/30000 [03:48<50:15,  8.95it/s]  "
     ]
    },
    {
     "name": "stdout",
     "output_type": "stream",
     "text": [
      "Generazione 3000: Costo migliore corrente = 59399.10 | Costo migliore assoluto = 59399.10 | Tasso di mutazione = 0.100 | Valido = True\n"
     ]
    },
    {
     "name": "stderr",
     "output_type": "stream",
     "text": [
      " 13%|█▎        | 4005/30000 [04:40<22:53, 18.93it/s]"
     ]
    },
    {
     "name": "stdout",
     "output_type": "stream",
     "text": [
      "Generazione 4000: Costo migliore corrente = 58773.51 | Costo migliore assoluto = 58773.51 | Tasso di mutazione = 0.100 | Valido = True\n"
     ]
    },
    {
     "name": "stderr",
     "output_type": "stream",
     "text": [
      " 17%|█▋        | 5005/30000 [05:29<19:40, 21.17it/s]"
     ]
    },
    {
     "name": "stdout",
     "output_type": "stream",
     "text": [
      "Generazione 5000: Costo migliore corrente = 58380.82 | Costo migliore assoluto = 58380.82 | Tasso di mutazione = 0.100 | Valido = True\n"
     ]
    },
    {
     "name": "stderr",
     "output_type": "stream",
     "text": [
      " 20%|██        | 6005/30000 [06:17<18:55, 21.12it/s]"
     ]
    },
    {
     "name": "stdout",
     "output_type": "stream",
     "text": [
      "Generazione 6000: Costo migliore corrente = 57902.61 | Costo migliore assoluto = 57902.61 | Tasso di mutazione = 0.100 | Valido = True\n"
     ]
    },
    {
     "name": "stderr",
     "output_type": "stream",
     "text": [
      " 23%|██▎       | 7004/30000 [07:05<18:35, 20.62it/s]"
     ]
    },
    {
     "name": "stdout",
     "output_type": "stream",
     "text": [
      "Generazione 7000: Costo migliore corrente = 57083.15 | Costo migliore assoluto = 57083.15 | Tasso di mutazione = 0.100 | Valido = True\n"
     ]
    },
    {
     "name": "stderr",
     "output_type": "stream",
     "text": [
      " 27%|██▋       | 8004/30000 [07:55<16:46, 21.85it/s]"
     ]
    },
    {
     "name": "stdout",
     "output_type": "stream",
     "text": [
      "Generazione 8000: Costo migliore corrente = 56525.04 | Costo migliore assoluto = 56525.04 | Tasso di mutazione = 0.100 | Valido = True\n"
     ]
    },
    {
     "name": "stderr",
     "output_type": "stream",
     "text": [
      " 30%|███       | 9004/30000 [08:45<18:42, 18.70it/s]"
     ]
    },
    {
     "name": "stdout",
     "output_type": "stream",
     "text": [
      "Generazione 9000: Costo migliore corrente = 55974.22 | Costo migliore assoluto = 55974.22 | Tasso di mutazione = 0.100 | Valido = True\n"
     ]
    },
    {
     "name": "stderr",
     "output_type": "stream",
     "text": [
      " 33%|███▎      | 10003/30000 [09:34<15:10, 21.97it/s]"
     ]
    },
    {
     "name": "stdout",
     "output_type": "stream",
     "text": [
      "Generazione 10000: Costo migliore corrente = 55569.56 | Costo migliore assoluto = 55569.56 | Tasso di mutazione = 0.100 | Valido = True\n"
     ]
    },
    {
     "name": "stderr",
     "output_type": "stream",
     "text": [
      " 37%|███▋      | 11004/30000 [10:32<18:39, 16.97it/s]"
     ]
    },
    {
     "name": "stdout",
     "output_type": "stream",
     "text": [
      "Generazione 11000: Costo migliore corrente = 55170.17 | Costo migliore assoluto = 55170.17 | Tasso di mutazione = 0.100 | Valido = True\n"
     ]
    },
    {
     "name": "stderr",
     "output_type": "stream",
     "text": [
      " 40%|████      | 12003/30000 [11:26<13:43, 21.85it/s]"
     ]
    },
    {
     "name": "stdout",
     "output_type": "stream",
     "text": [
      "Generazione 12000: Costo migliore corrente = 54964.75 | Costo migliore assoluto = 54964.75 | Tasso di mutazione = 0.100 | Valido = True\n"
     ]
    },
    {
     "name": "stderr",
     "output_type": "stream",
     "text": [
      " 43%|████▎     | 13003/30000 [12:13<12:41, 22.31it/s]"
     ]
    },
    {
     "name": "stdout",
     "output_type": "stream",
     "text": [
      "Generazione 13000: Costo migliore corrente = 54704.48 | Costo migliore assoluto = 54704.48 | Tasso di mutazione = 0.100 | Valido = True\n"
     ]
    },
    {
     "name": "stderr",
     "output_type": "stream",
     "text": [
      " 47%|████▋     | 14004/30000 [13:01<11:24, 23.35it/s]"
     ]
    },
    {
     "name": "stdout",
     "output_type": "stream",
     "text": [
      "Generazione 14000: Costo migliore corrente = 54501.26 | Costo migliore assoluto = 54501.26 | Tasso di mutazione = 0.100 | Valido = True\n"
     ]
    },
    {
     "name": "stderr",
     "output_type": "stream",
     "text": [
      " 50%|█████     | 15004/30000 [13:45<11:07, 22.45it/s]"
     ]
    },
    {
     "name": "stdout",
     "output_type": "stream",
     "text": [
      "Generazione 15000: Costo migliore corrente = 54239.42 | Costo migliore assoluto = 54239.42 | Tasso di mutazione = 0.100 | Valido = True\n"
     ]
    },
    {
     "name": "stderr",
     "output_type": "stream",
     "text": [
      " 53%|█████▎    | 16002/30000 [14:58<34:13,  6.82it/s]"
     ]
    },
    {
     "name": "stdout",
     "output_type": "stream",
     "text": [
      "Generazione 16000: Costo migliore corrente = 54111.06 | Costo migliore assoluto = 54111.06 | Tasso di mutazione = 0.100 | Valido = True\n"
     ]
    },
    {
     "name": "stderr",
     "output_type": "stream",
     "text": [
      " 57%|█████▋    | 17001/30000 [17:08<32:15,  6.72it/s]"
     ]
    },
    {
     "name": "stdout",
     "output_type": "stream",
     "text": [
      "Generazione 17000: Costo migliore corrente = 53855.13 | Costo migliore assoluto = 53855.13 | Tasso di mutazione = 0.100 | Valido = True\n"
     ]
    },
    {
     "name": "stderr",
     "output_type": "stream",
     "text": [
      " 60%|██████    | 18002/30000 [19:27<30:23,  6.58it/s]"
     ]
    },
    {
     "name": "stdout",
     "output_type": "stream",
     "text": [
      "Generazione 18000: Costo migliore corrente = 53746.38 | Costo migliore assoluto = 53746.38 | Tasso di mutazione = 0.100 | Valido = True\n"
     ]
    },
    {
     "name": "stderr",
     "output_type": "stream",
     "text": [
      " 63%|██████▎   | 19002/30000 [21:36<29:20,  6.25it/s]"
     ]
    },
    {
     "name": "stdout",
     "output_type": "stream",
     "text": [
      "Generazione 19000: Costo migliore corrente = 53490.34 | Costo migliore assoluto = 53490.34 | Tasso di mutazione = 0.100 | Valido = True\n"
     ]
    },
    {
     "name": "stderr",
     "output_type": "stream",
     "text": [
      " 67%|██████▋   | 20003/30000 [23:16<12:58, 12.84it/s]"
     ]
    },
    {
     "name": "stdout",
     "output_type": "stream",
     "text": [
      "Generazione 20000: Costo migliore corrente = 53396.36 | Costo migliore assoluto = 53396.36 | Tasso di mutazione = 0.100 | Valido = True\n"
     ]
    },
    {
     "name": "stderr",
     "output_type": "stream",
     "text": [
      " 70%|███████   | 21002/30000 [25:39<24:01,  6.24it/s]"
     ]
    },
    {
     "name": "stdout",
     "output_type": "stream",
     "text": [
      "Generazione 21000: Costo migliore corrente = 53337.70 | Costo migliore assoluto = 53337.70 | Tasso di mutazione = 0.105 | Valido = True\n"
     ]
    },
    {
     "name": "stderr",
     "output_type": "stream",
     "text": [
      " 73%|███████▎  | 22002/30000 [27:28<17:04,  7.81it/s]"
     ]
    },
    {
     "name": "stdout",
     "output_type": "stream",
     "text": [
      "Generazione 22000: Costo migliore corrente = 53222.87 | Costo migliore assoluto = 53222.87 | Tasso di mutazione = 0.100 | Valido = True\n"
     ]
    },
    {
     "name": "stderr",
     "output_type": "stream",
     "text": [
      " 77%|███████▋  | 23002/30000 [29:17<14:18,  8.16it/s]"
     ]
    },
    {
     "name": "stdout",
     "output_type": "stream",
     "text": [
      "Generazione 23000: Costo migliore corrente = 53141.61 | Costo migliore assoluto = 53141.61 | Tasso di mutazione = 0.100 | Valido = True\n"
     ]
    },
    {
     "name": "stderr",
     "output_type": "stream",
     "text": [
      " 80%|████████  | 24003/30000 [31:01<04:40, 21.36it/s]"
     ]
    },
    {
     "name": "stdout",
     "output_type": "stream",
     "text": [
      "Generazione 24000: Costo migliore corrente = 53070.61 | Costo migliore assoluto = 53070.61 | Tasso di mutazione = 0.100 | Valido = True\n"
     ]
    },
    {
     "name": "stderr",
     "output_type": "stream",
     "text": [
      " 83%|████████▎ | 25003/30000 [32:14<05:28, 15.21it/s]"
     ]
    },
    {
     "name": "stdout",
     "output_type": "stream",
     "text": [
      "Generazione 25000: Costo migliore corrente = 52966.54 | Costo migliore assoluto = 52966.54 | Tasso di mutazione = 0.100 | Valido = True\n"
     ]
    },
    {
     "name": "stderr",
     "output_type": "stream",
     "text": [
      " 87%|████████▋ | 26002/30000 [34:03<10:19,  6.46it/s]"
     ]
    },
    {
     "name": "stdout",
     "output_type": "stream",
     "text": [
      "Generazione 26000: Costo migliore corrente = 52899.85 | Costo migliore assoluto = 52899.85 | Tasso di mutazione = 0.100 | Valido = True\n"
     ]
    },
    {
     "name": "stderr",
     "output_type": "stream",
     "text": [
      " 90%|█████████ | 27001/30000 [35:50<05:02,  9.92it/s]"
     ]
    },
    {
     "name": "stdout",
     "output_type": "stream",
     "text": [
      "Generazione 27000: Costo migliore corrente = 52870.45 | Costo migliore assoluto = 52870.45 | Tasso di mutazione = 0.100 | Valido = True\n"
     ]
    },
    {
     "name": "stderr",
     "output_type": "stream",
     "text": [
      " 93%|█████████▎| 28002/30000 [37:30<05:17,  6.30it/s]"
     ]
    },
    {
     "name": "stdout",
     "output_type": "stream",
     "text": [
      "Generazione 28000: Costo migliore corrente = 52809.34 | Costo migliore assoluto = 52809.34 | Tasso di mutazione = 0.100 | Valido = True\n"
     ]
    },
    {
     "name": "stderr",
     "output_type": "stream",
     "text": [
      " 97%|█████████▋| 29002/30000 [39:15<01:20, 12.36it/s]"
     ]
    },
    {
     "name": "stdout",
     "output_type": "stream",
     "text": [
      "Generazione 29000: Costo migliore corrente = 52804.65 | Costo migliore assoluto = 52804.65 | Tasso di mutazione = 0.105 | Valido = True\n"
     ]
    },
    {
     "name": "stderr",
     "output_type": "stream",
     "text": [
      "100%|██████████| 30000/30000 [40:53<00:00, 12.23it/s]\n",
      "ic| best_cost: (np.float64(52760.00314631018), np.True_)\n",
      "    tsp_cost.calls: 7465568\n"
     ]
    },
    {
     "data": {
      "text/plain": [
       "((np.float64(52760.00314631018), np.True_), 7465568)"
      ]
     },
     "execution_count": 33,
     "metadata": {},
     "output_type": "execute_result"
    }
   ],
   "source": [
    "\n",
    "CITIES = pd.read_csv('./cities/china.csv', header=None, names=['name', 'lat', 'lon'])\n",
    "DIST_MATRIX = np.zeros((len(CITIES), len(CITIES)))\n",
    "for c1, c2 in combinations(CITIES.itertuples(), 2):\n",
    "    DIST_MATRIX[c1.Index, c2.Index] = DIST_MATRIX[c2.Index, c1.Index] = geodesic(\n",
    "        (c1.lat, c1.lon), (c2.lat, c2.lon)\n",
    "    ).km\n",
    "best_cost=genetic_algorithm_tsp_adaptive_mutation(\n",
    "    DIST_MATRIX,\n",
    "    num_generations=30000, \n",
    ")\n",
    "ic(best_cost,tsp_cost.calls)\n"
   ]
  },
  {
   "cell_type": "markdown",
   "metadata": {},
   "source": [
    "The proposed genetic algorithm addresses the traveling salesman problem (TSP) by integrating an adaptive mutation strategy and a restart mechanism based on Simulated Annealing (SA). Mutation is dynamically regulated: the rate increases if no improvement is observed for a given number of generations and decreases if progress is made, thus promoting a balance between exploration and exploitation.(Simulated anneling runs for a very short time allowing for a diverse initial population.)\n",
    "\n",
    "When the mutation rate exceeds a predefined threshold, the algorithm initiates a restart phase via SA, regenerating the population to avoid convergence to local minima. The approach uses tournament selection, permutation-specific crossover techniques of the TSP (inver-over), and an inversion-based mutation. This combination allows the algorithm to progressively improve the quality of the solution."
   ]
  }
 ],
 "metadata": {
  "kernelspec": {
   "display_name": ".venv",
   "language": "python",
   "name": "python3"
  },
  "language_info": {
   "codemirror_mode": {
    "name": "ipython",
    "version": 3
   },
   "file_extension": ".py",
   "mimetype": "text/x-python",
   "name": "python",
   "nbconvert_exporter": "python",
   "pygments_lexer": "ipython3",
   "version": "3.12.4"
  }
 },
 "nbformat": 4,
 "nbformat_minor": 2
}
