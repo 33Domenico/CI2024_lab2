{
 "cells": [
  {
   "cell_type": "code",
   "execution_count": 26,
   "metadata": {},
   "outputs": [],
   "source": [
    "import logging\n",
    "from itertools import combinations\n",
    "import pandas as pd\n",
    "import numpy as np\n",
    "from geopy.distance import geodesic\n",
    "import networkx as nx\n",
    "import random\n",
    "from icecream import ic\n",
    "from tqdm.auto import tqdm\n",
    "from matplotlib import pyplot as plt\n",
    "from itertools import accumulate"
   ]
  },
  {
   "cell_type": "code",
   "execution_count": 27,
   "metadata": {},
   "outputs": [],
   "source": [
    "logging.basicConfig(level=logging.DEBUG)"
   ]
  },
  {
   "cell_type": "markdown",
   "metadata": {},
   "source": [
    "## Nearest Neighbor (Greedy)"
   ]
  },
  {
   "cell_type": "code",
   "execution_count": 28,
   "metadata": {},
   "outputs": [],
   "source": [
    "def nearest_neighbor_tsp(start_city_index=0):\n",
    "    \"\"\"\n",
    "    Risolve il TSP utilizzando l'algoritmo Greedy di Nearest Neighbor.\n",
    "    :param start_city_index: Indice della città di partenza\n",
    "    :return: Lista dell'ordine delle città visitate e lunghezza totale del percorso\n",
    "    \"\"\"\n",
    "    dist_matrix=DIST_MATRIX.copy()\n",
    "    visited = np.full(len(CITIES), False)  # Array per tenere traccia delle città visitate\n",
    "    city = start_city_index  \n",
    "    visited[city] = True\n",
    "\n",
    "    tsp = [city]  # Lista per mantenere l'ordine delle città visitate\n",
    "\n",
    "    # Loop fino a quando tutte le città non sono state visitate\n",
    "    while not np.all(visited):\n",
    "        # Imposta le distanze delle città già visitate a infinito per escluderle dalla ricerca del più vicino\n",
    "        dist_matrix[:, city] = np.inf\n",
    "        # Trova la città più vicina che non è ancora stata visitata\n",
    "        closest_city = np.argmin(dist_matrix[city])\n",
    "        # Marca la città trovata come visitata\n",
    "        visited[closest_city] = True\n",
    "        # Aggiorna l'ordine delle città visitate\n",
    "        tsp.append(int(closest_city))\n",
    "        # Aggiorna la città corrente\n",
    "        city = closest_city\n",
    "\n",
    "    # Ritorna alla città di partenza\n",
    "    tsp.append(start_city_index)\n",
    "    \n",
    "    total_distance = tsp_cost(tsp,DIST_MATRIX)\n",
    "    \n",
    "    return tsp, total_distance"
   ]
  },
  {
   "cell_type": "code",
   "execution_count": 29,
   "metadata": {},
   "outputs": [],
   "source": [
    "def valid(tsp):\n",
    "    \"\"\"\n",
    "    Verifica la validità di un percorso TSP.\n",
    "    \"\"\"\n",
    "    tsp = np.array(tsp)\n",
    "    \n",
    "    if tsp[0] != tsp[-1]:\n",
    "        return False\n",
    "    \n",
    "    # Verifica che tutte le città siano visitate esattamente una volta\n",
    "    cities_visited = tsp[:-1]\n",
    "    expected_cities = np.arange(len(CITIES))\n",
    "    \n",
    "    return (len(np.unique(cities_visited)) == len(CITIES) and \n",
    "            np.all(np.isin(expected_cities, cities_visited)))\n",
    "\n",
    "def tsp_cost(route, dist_matrix):\n",
    "    \"\"\"Calcola il costo del percorso e la sua validità.\"\"\"\n",
    "    route = np.array(route)\n",
    "    # Calcola le distanze tra città consecutive\n",
    "    total_distance = np.sum([dist_matrix[route[i], route[i+1]] \n",
    "                           for i in range(len(route)-1)])\n",
    "    return (total_distance, valid(route))"
   ]
  },
  {
   "cell_type": "markdown",
   "metadata": {},
   "source": [
    "## Inversion mutation"
   ]
  },
  {
   "cell_type": "code",
   "execution_count": 30,
   "metadata": {},
   "outputs": [],
   "source": [
    "def tweak(tsp):\n",
    "    \"\"\"Esegue un'inversion mutation su una soluzione TSP\"\"\"\n",
    "    tsp = np.array(tsp)\n",
    "    # Seleziona due punti casuali nel percorso per eseguire l'inversione\n",
    "    a, b = sorted(np.random.choice(range(1, len(tsp) - 1), 2, replace=False))\n",
    "     # Inverte il sotto-percorso tra i due punti selezionati\n",
    "    tsp[a:b+1] = np.flip(tsp[a:b+1])\n",
    "    return tsp.tolist()\n"
   ]
  },
  {
   "cell_type": "markdown",
   "metadata": {},
   "source": [
    "##  Simulated Annealing (SA) by Initial Population."
   ]
  },
  {
   "cell_type": "code",
   "execution_count": 31,
   "metadata": {},
   "outputs": [],
   "source": [
    "def simulated_annealing_population(dist_matrix, initial_temp, cooling_rate, stop_temp, population_size=100):\n",
    "    \"\"\"Algoritmo di Simulated Annealing per generare una popolazione iniziale\"\"\"\n",
    "    dist_matrix = np.array(dist_matrix)\n",
    "    # Trova una soluzione iniziale con il metodo Greedy\n",
    "    current_solution, current_cost = nearest_neighbor_tsp(start_city_index=0)\n",
    "    best_solution = current_solution[:]\n",
    "    best_cost = current_cost\n",
    "\n",
    "    population = [(best_solution, best_cost)]\n",
    "    temperature = initial_temp\n",
    "\n",
    "    while temperature > stop_temp:\n",
    "        new_solution = tweak(current_solution[:])\n",
    "        new_cost = tsp_cost(new_solution, dist_matrix)\n",
    "\n",
    "        if (new_cost[0] < current_cost[0] or \n",
    "            np.random.random() < np.exp((current_cost[0] - new_cost[0]) / temperature)):\n",
    "            current_solution = new_solution\n",
    "            current_cost = new_cost\n",
    "\n",
    "            if new_cost[0] < best_cost[0]:\n",
    "                best_solution = new_solution\n",
    "                best_cost = new_cost\n",
    "    \n",
    "            population.append((current_solution, current_cost))\n",
    "            \n",
    "        temperature *= cooling_rate\n",
    "    # Ordina la popolazione per costo e restituisci i migliori 'population_size' individui    \n",
    "    population = np.array(population, dtype=object)\n",
    "    sorted_indices = np.argsort([cost[0] for _, cost in population])\n",
    "    population = population[sorted_indices]\n",
    "    \n",
    "    return population[:population_size].tolist()"
   ]
  },
  {
   "cell_type": "code",
   "execution_count": 32,
   "metadata": {},
   "outputs": [],
   "source": [
    "def initial_population(pop_size):\n",
    "    \"\"\"Inizializza la popolazione usando parametri predefiniti.\"\"\"\n",
    "    initial_temp = 1000\n",
    "    cooling_rate = 0.992\n",
    "    stop_temp = 1e-200\n",
    "    # Genera la popolazione iniziale con Simulated Annealing\n",
    "    return simulated_annealing_population(DIST_MATRIX, initial_temp,\n",
    "                                        cooling_rate, stop_temp, pop_size)\n"
   ]
  },
  {
   "cell_type": "markdown",
   "metadata": {},
   "source": [
    "##  Crossover Inver-Over"
   ]
  },
  {
   "cell_type": "code",
   "execution_count": 33,
   "metadata": {},
   "outputs": [],
   "source": [
    "def inver_over_crossover(parent1, parent2, num_iterations=1):\n",
    "    \"\"\"Applica il crossover inver-over \"\"\"\n",
    "    parent1, parent2 = np.array(parent1), np.array(parent2)\n",
    "    child = parent1.copy()\n",
    " # Esegui una serie di iterazioni di crossover per creare il figlio\n",
    "    for _ in range(num_iterations):\n",
    "        start_index = np.random.randint(1, len(child) - 2)\n",
    "        start_city = child[start_index]\n",
    "         # Seleziona casualmente una città di destinazione da uno dei genitori\n",
    "        if np.random.random() < 0.5:\n",
    "            valid_cities = child[1:-1][child[1:-1] != start_city]\n",
    "            end_city = np.random.choice(valid_cities)\n",
    "        else:\n",
    "            valid_cities = parent2[1:-1][parent2[1:-1] != start_city]\n",
    "            end_city = np.random.choice(valid_cities)\n",
    "        # Ottieni le posizioni della città di partenza e di destinazione nel figlio\n",
    "        start_pos = np.where(child == start_city)[0][0]\n",
    "        end_pos = np.where(child == end_city)[0][0]\n",
    "        \n",
    "        if start_pos > end_pos:\n",
    "            start_pos, end_pos = end_pos, start_pos\n",
    "          # Inverti il sotto-percorso tra le due posizioni\n",
    "        child[start_pos:end_pos + 1] = np.flip(child[start_pos:end_pos + 1])\n",
    "    # Assicurati che il figlio termini nella stessa città di partenza\n",
    "    if child[0] != child[-1]:\n",
    "        child = np.append(child, child[0])\n",
    "    \n",
    "    return child.tolist()"
   ]
  },
  {
   "cell_type": "code",
   "execution_count": 34,
   "metadata": {},
   "outputs": [],
   "source": [
    "def tournament_selection(population, k=5):\n",
    "    \"\"\"Selezione torneo usando NumPy.\"\"\"\n",
    "     # Seleziona casualmente 'k' individui dalla popolazione\n",
    "    selected_indices = np.random.choice(len(population), k, replace=False)\n",
    "    selected = np.array(population, dtype=object)[selected_indices]\n",
    "     # Ritorna l'individuo con il costo minore tra quelli selezionati\n",
    "    return min(selected, key=lambda x: x[1][0])  # x[1][0] accede al costo\n"
   ]
  },
  {
   "cell_type": "markdown",
   "metadata": {},
   "source": [
    "## Inversion mutation"
   ]
  },
  {
   "cell_type": "code",
   "execution_count": 35,
   "metadata": {},
   "outputs": [],
   "source": [
    "def inversion_mutation(tsp):\n",
    "    \"\"\"Esegue un'inversion mutation \"\"\"\n",
    "    tsp = np.array(tsp)\n",
    "    a, b = sorted(np.random.choice(range(1, len(tsp) - 1), 2, replace=False))\n",
    "    tsp[a:b+1] = np.flip(tsp[a:b+1])\n",
    "    return tsp.tolist()\n"
   ]
  },
  {
   "cell_type": "markdown",
   "metadata": {},
   "source": [
    "## EA with adaptive mutation and multiple restart with simulated anneling."
   ]
  },
  {
   "cell_type": "code",
   "execution_count": 36,
   "metadata": {},
   "outputs": [],
   "source": [
    "\n",
    "\n",
    "def genetic_algorithm_tsp_adaptive_mutation(\n",
    "    \n",
    "    dist_matrix,\n",
    "    population_size=100, \n",
    "    tournament_size=10, \n",
    "    num_generations=10000, \n",
    "    initial_mutation_rate=0.1, \n",
    "    crossover_iterations=1,\n",
    "    max_generations_without_improvement=500,\n",
    "    mutation_increase_factor=1.5,\n",
    "    mutation_decrease_factor=0.7,\n",
    "    mutation_threshold=1.3,  # Soglia per il riavvio\n",
    "    initial_temp=1000,      \n",
    "    cooling_rate=0.992,\n",
    "    stop_temp=1e-200,\n",
    "\n",
    "):\n",
    "    \"\"\"Risolve il TSP utilizzando un Algoritmo Genetico con mutazione adattiva.\"\"\"\n",
    "    dist_matrix = np.array(dist_matrix)\n",
    "    population = initial_population(population_size)\n",
    "    current_mutation_rate = initial_mutation_rate\n",
    "\n",
    "    best_solution, best_cost = min(population, key=lambda x: x[1][0])\n",
    "    all_time_best_solution = best_solution\n",
    "    all_time_best_cost = best_cost\n",
    "    generations_without_improvement = 0\n",
    "    \n",
    "\n",
    "    for generation in tqdm(range(num_generations)):\n",
    "        # Controlla se è necessario riavviare con SA\n",
    "        if current_mutation_rate > mutation_threshold:\n",
    "            print(f\"\\nMutation rate ({current_mutation_rate:.3f}) exceeded threshold ({mutation_threshold})\")\n",
    "            print(\"Restarting with Simulated Annealing...\")\n",
    "            \n",
    "            # Esegui SA e ottieni nuova popolazione\n",
    "            new_population = simulated_annealing_population(\n",
    "                dist_matrix, \n",
    "                initial_temp, \n",
    "                cooling_rate, \n",
    "                stop_temp, \n",
    "                population_size\n",
    "            )\n",
    "            population = sorted(new_population, key=lambda x: x[1][0])[:population_size]\n",
    "            # Reset del tasso di mutazione\n",
    "            current_mutation_rate = initial_mutation_rate\n",
    "            print(\"Population refreshed and mutation rate reset\")\n",
    "\n",
    "        new_population = []\n",
    "\n",
    "        while len(new_population) < population_size:\n",
    "            parent1 = tournament_selection(population, tournament_size)\n",
    "            parent2 = tournament_selection(population, tournament_size)\n",
    "            \n",
    "            child = inver_over_crossover(parent1[0], parent2[0], crossover_iterations)\n",
    "            \n",
    "            if np.random.random() < current_mutation_rate:\n",
    "                child = inversion_mutation(child)\n",
    "\n",
    "            child_cost = tsp_cost(child, dist_matrix)\n",
    "            new_population.append((child, child_cost))\n",
    "\n",
    "        combined_population = np.array(new_population + population, dtype=object)\n",
    "        sorted_indices = np.argsort([cost[0] for _, cost in combined_population])\n",
    "        population = combined_population[sorted_indices][:population_size].tolist()\n",
    "\n",
    "        new_best_solution, new_best_cost = min(population, key=lambda x: x[1][0])\n",
    "\n",
    "        # Aggiorna il miglior risultato di sempre se necessario\n",
    "        if new_best_cost[0] < all_time_best_cost[0]:\n",
    "            all_time_best_solution = new_best_solution\n",
    "            all_time_best_cost = new_best_cost\n",
    "\n",
    "        if new_best_cost[0] < best_cost[0]:\n",
    "            best_solution, best_cost = new_best_solution, new_best_cost\n",
    "            generations_without_improvement = 0\n",
    "            current_mutation_rate = max(initial_mutation_rate, \n",
    "                                     current_mutation_rate * mutation_decrease_factor)\n",
    "        else:\n",
    "            generations_without_improvement += 1\n",
    "\n",
    "        if generations_without_improvement > max_generations_without_improvement:\n",
    "            current_mutation_rate *= mutation_increase_factor\n",
    "            generations_without_improvement = 0\n",
    "\n",
    "        if generation % 1000 == 0:\n",
    "            print(f\"Generazione {generation}: \"\n",
    "                  f\"Costo migliore corrente = {best_cost[0]:.2f} | \"\n",
    "                  f\"Costo migliore assoluto = {all_time_best_cost[0]:.2f} | \"\n",
    "                  f\"Tasso di mutazione = {current_mutation_rate:.3f} | \"\n",
    "                  f\"Valido = {best_cost[1]}\")\n",
    "    \n",
    "    return all_time_best_solution, all_time_best_cost\n"
   ]
  },
  {
   "cell_type": "markdown",
   "metadata": {},
   "source": [
    "## Vanuatu"
   ]
  },
  {
   "cell_type": "code",
   "execution_count": 37,
   "metadata": {},
   "outputs": [
    {
     "name": "stderr",
     "output_type": "stream",
     "text": [
      "0it [00:00, ?it/s]\n"
     ]
    },
    {
     "data": {
      "text/plain": [
       "([0, 7, 1, 4, 3, 5, 6, 2, 0], (np.float64(1345.5449564733112), np.True_))"
      ]
     },
     "execution_count": 37,
     "metadata": {},
     "output_type": "execute_result"
    }
   ],
   "source": [
    "\n",
    "CITIES = pd.read_csv('./cities/vanuatu.csv', header=None, names=['name', 'lat', 'lon'])\n",
    "DIST_MATRIX = np.zeros((len(CITIES), len(CITIES)))\n",
    "for c1, c2 in combinations(CITIES.itertuples(), 2):\n",
    "    DIST_MATRIX[c1.Index, c2.Index] = DIST_MATRIX[c2.Index, c1.Index] = geodesic(\n",
    "        (c1.lat, c1.lon), (c2.lat, c2.lon)\n",
    "    ).km\n",
    "genetic_algorithm_tsp_adaptive_mutation(\n",
    "    DIST_MATRIX,\n",
    "    num_generations=0, \n",
    ")\n",
    "\n"
   ]
  },
  {
   "cell_type": "markdown",
   "metadata": {},
   "source": [
    "For vanuatu just applying simulated anneling to get the best solution is enough"
   ]
  },
  {
   "cell_type": "markdown",
   "metadata": {},
   "source": [
    "## Italy"
   ]
  },
  {
   "cell_type": "code",
   "execution_count": 42,
   "metadata": {},
   "outputs": [
    {
     "name": "stderr",
     "output_type": "stream",
     "text": [
      "  0%|          | 16/10000 [00:00<02:08, 77.69it/s]"
     ]
    },
    {
     "name": "stdout",
     "output_type": "stream",
     "text": [
      "Generazione 0: Costo migliore corrente = 4414.43 | Costo migliore assoluto = 4414.43 | Tasso di mutazione = 0.100 | Valido = True\n"
     ]
    },
    {
     "name": "stderr",
     "output_type": "stream",
     "text": [
      " 10%|█         | 1016/10000 [00:14<01:55, 77.73it/s]"
     ]
    },
    {
     "name": "stdout",
     "output_type": "stream",
     "text": [
      "Generazione 1000: Costo migliore corrente = 4181.62 | Costo migliore assoluto = 4181.62 | Tasso di mutazione = 0.130 | Valido = True\n"
     ]
    },
    {
     "name": "stderr",
     "output_type": "stream",
     "text": [
      " 20%|██        | 2009/10000 [00:28<01:51, 71.39it/s]"
     ]
    },
    {
     "name": "stdout",
     "output_type": "stream",
     "text": [
      "Generazione 2000: Costo migliore corrente = 4181.62 | Costo migliore assoluto = 4181.62 | Tasso di mutazione = 0.220 | Valido = True\n"
     ]
    },
    {
     "name": "stderr",
     "output_type": "stream",
     "text": [
      " 30%|███       | 3009/10000 [00:42<01:38, 70.94it/s]"
     ]
    },
    {
     "name": "stdout",
     "output_type": "stream",
     "text": [
      "Generazione 3000: Costo migliore corrente = 4181.62 | Costo migliore assoluto = 4181.62 | Tasso di mutazione = 0.371 | Valido = True\n"
     ]
    },
    {
     "name": "stderr",
     "output_type": "stream",
     "text": [
      " 40%|████      | 4009/10000 [00:56<01:24, 71.23it/s]"
     ]
    },
    {
     "name": "stdout",
     "output_type": "stream",
     "text": [
      "Generazione 4000: Costo migliore corrente = 4175.23 | Costo migliore assoluto = 4175.23 | Tasso di mutazione = 0.338 | Valido = True\n"
     ]
    },
    {
     "name": "stderr",
     "output_type": "stream",
     "text": [
      " 50%|█████     | 5015/10000 [01:10<01:08, 72.67it/s]"
     ]
    },
    {
     "name": "stdout",
     "output_type": "stream",
     "text": [
      "Generazione 5000: Costo migliore corrente = 4172.76 | Costo migliore assoluto = 4172.76 | Tasso di mutazione = 0.280 | Valido = True\n"
     ]
    },
    {
     "name": "stderr",
     "output_type": "stream",
     "text": [
      " 60%|██████    | 6013/10000 [01:24<00:55, 71.94it/s]"
     ]
    },
    {
     "name": "stdout",
     "output_type": "stream",
     "text": [
      "Generazione 6000: Costo migliore corrente = 4172.76 | Costo migliore assoluto = 4172.76 | Tasso di mutazione = 0.473 | Valido = True\n"
     ]
    },
    {
     "name": "stderr",
     "output_type": "stream",
     "text": [
      " 70%|███████   | 7011/10000 [01:38<00:45, 66.33it/s]"
     ]
    },
    {
     "name": "stdout",
     "output_type": "stream",
     "text": [
      "Generazione 7000: Costo migliore corrente = 4172.76 | Costo migliore assoluto = 4172.76 | Tasso di mutazione = 0.799 | Valido = True\n"
     ]
    },
    {
     "name": "stderr",
     "output_type": "stream",
     "text": [
      " 80%|███████▉  | 7982/10000 [01:53<00:31, 64.79it/s]"
     ]
    },
    {
     "name": "stdout",
     "output_type": "stream",
     "text": [
      "\n",
      "Mutation rate (1.351) exceeded threshold (1.3)\n",
      "Restarting with Simulated Annealing...\n"
     ]
    },
    {
     "name": "stderr",
     "output_type": "stream",
     "text": [
      " 80%|███████▉  | 7996/10000 [01:56<03:43,  8.95it/s]"
     ]
    },
    {
     "name": "stdout",
     "output_type": "stream",
     "text": [
      "Population refreshed and mutation rate reset\n"
     ]
    },
    {
     "name": "stderr",
     "output_type": "stream",
     "text": [
      " 80%|████████  | 8011/10000 [01:56<01:59, 16.62it/s]"
     ]
    },
    {
     "name": "stdout",
     "output_type": "stream",
     "text": [
      "Generazione 8000: Costo migliore corrente = 4172.76 | Costo migliore assoluto = 4172.76 | Tasso di mutazione = 0.100 | Valido = True\n"
     ]
    },
    {
     "name": "stderr",
     "output_type": "stream",
     "text": [
      " 90%|█████████ | 9013/10000 [02:10<00:13, 74.93it/s]"
     ]
    },
    {
     "name": "stdout",
     "output_type": "stream",
     "text": [
      "Generazione 9000: Costo migliore corrente = 4172.76 | Costo migliore assoluto = 4172.76 | Tasso di mutazione = 0.169 | Valido = True\n"
     ]
    },
    {
     "name": "stderr",
     "output_type": "stream",
     "text": [
      "100%|██████████| 10000/10000 [02:24<00:00, 69.33it/s]\n"
     ]
    },
    {
     "data": {
      "text/plain": [
       "([0,\n",
       "  27,\n",
       "  26,\n",
       "  39,\n",
       "  34,\n",
       "  15,\n",
       "  14,\n",
       "  21,\n",
       "  35,\n",
       "  11,\n",
       "  1,\n",
       "  2,\n",
       "  38,\n",
       "  17,\n",
       "  31,\n",
       "  37,\n",
       "  8,\n",
       "  24,\n",
       "  7,\n",
       "  36,\n",
       "  16,\n",
       "  10,\n",
       "  29,\n",
       "  4,\n",
       "  19,\n",
       "  32,\n",
       "  25,\n",
       "  28,\n",
       "  13,\n",
       "  42,\n",
       "  22,\n",
       "  18,\n",
       "  20,\n",
       "  3,\n",
       "  6,\n",
       "  44,\n",
       "  45,\n",
       "  40,\n",
       "  5,\n",
       "  41,\n",
       "  43,\n",
       "  23,\n",
       "  9,\n",
       "  30,\n",
       "  12,\n",
       "  33,\n",
       "  0],\n",
       " (np.float64(4172.7626139164095), np.True_))"
      ]
     },
     "execution_count": 42,
     "metadata": {},
     "output_type": "execute_result"
    }
   ],
   "source": [
    "\n",
    "CITIES = pd.read_csv('./cities/italy.csv', header=None, names=['name', 'lat', 'lon'])\n",
    "DIST_MATRIX = np.zeros((len(CITIES), len(CITIES)))\n",
    "for c1, c2 in combinations(CITIES.itertuples(), 2):\n",
    "    DIST_MATRIX[c1.Index, c2.Index] = DIST_MATRIX[c2.Index, c1.Index] = geodesic(\n",
    "        (c1.lat, c1.lon), (c2.lat, c2.lon)\n",
    "    ).km\n",
    "genetic_algorithm_tsp_adaptive_mutation(\n",
    "    DIST_MATRIX,\n",
    "    mutation_increase_factor=1.3,\n",
    "    mutation_decrease_factor=0.7\n",
    ")"
   ]
  },
  {
   "cell_type": "markdown",
   "metadata": {},
   "source": [
    "## Russia"
   ]
  },
  {
   "cell_type": "code",
   "execution_count": 39,
   "metadata": {},
   "outputs": [
    {
     "name": "stderr",
     "output_type": "stream",
     "text": [
      "  0%|          | 4/10000 [00:00<04:19, 38.57it/s]"
     ]
    },
    {
     "name": "stdout",
     "output_type": "stream",
     "text": [
      "Generazione 0: Costo migliore corrente = 35895.96 | Costo migliore assoluto = 35895.96 | Tasso di mutazione = 0.100 | Valido = True\n"
     ]
    },
    {
     "name": "stderr",
     "output_type": "stream",
     "text": [
      " 10%|█         | 1005/10000 [00:22<03:12, 46.82it/s]"
     ]
    },
    {
     "name": "stdout",
     "output_type": "stream",
     "text": [
      "Generazione 1000: Costo migliore corrente = 35659.46 | Costo migliore assoluto = 35659.46 | Tasso di mutazione = 0.100 | Valido = True\n"
     ]
    },
    {
     "name": "stderr",
     "output_type": "stream",
     "text": [
      " 20%|██        | 2006/10000 [00:44<02:46, 48.15it/s]"
     ]
    },
    {
     "name": "stdout",
     "output_type": "stream",
     "text": [
      "Generazione 2000: Costo migliore corrente = 35569.38 | Costo migliore assoluto = 35569.38 | Tasso di mutazione = 0.100 | Valido = True\n"
     ]
    },
    {
     "name": "stderr",
     "output_type": "stream",
     "text": [
      " 30%|███       | 3009/10000 [01:06<02:40, 43.48it/s]"
     ]
    },
    {
     "name": "stdout",
     "output_type": "stream",
     "text": [
      "Generazione 3000: Costo migliore corrente = 35546.38 | Costo migliore assoluto = 35546.38 | Tasso di mutazione = 0.150 | Valido = True\n"
     ]
    },
    {
     "name": "stderr",
     "output_type": "stream",
     "text": [
      " 40%|████      | 4008/10000 [01:27<02:11, 45.48it/s]"
     ]
    },
    {
     "name": "stdout",
     "output_type": "stream",
     "text": [
      "Generazione 4000: Costo migliore corrente = 35546.38 | Costo migliore assoluto = 35546.38 | Tasso di mutazione = 0.338 | Valido = True\n"
     ]
    },
    {
     "name": "stderr",
     "output_type": "stream",
     "text": [
      " 50%|█████     | 5005/10000 [01:50<02:04, 40.12it/s]"
     ]
    },
    {
     "name": "stdout",
     "output_type": "stream",
     "text": [
      "Generazione 5000: Costo migliore corrente = 35545.75 | Costo migliore assoluto = 35545.75 | Tasso di mutazione = 0.354 | Valido = True\n"
     ]
    },
    {
     "name": "stderr",
     "output_type": "stream",
     "text": [
      " 60%|██████    | 6008/10000 [02:14<01:18, 50.64it/s]"
     ]
    },
    {
     "name": "stdout",
     "output_type": "stream",
     "text": [
      "Generazione 6000: Costo migliore corrente = 35545.30 | Costo migliore assoluto = 35545.30 | Tasso di mutazione = 0.372 | Valido = True\n"
     ]
    },
    {
     "name": "stderr",
     "output_type": "stream",
     "text": [
      " 70%|███████   | 7011/10000 [02:35<00:59, 50.42it/s]"
     ]
    },
    {
     "name": "stdout",
     "output_type": "stream",
     "text": [
      "Generazione 7000: Costo migliore corrente = 35545.30 | Costo migliore assoluto = 35545.30 | Tasso di mutazione = 0.837 | Valido = True\n"
     ]
    },
    {
     "name": "stderr",
     "output_type": "stream",
     "text": [
      " 76%|███████▋  | 7628/10000 [02:48<00:49, 48.32it/s]"
     ]
    },
    {
     "name": "stdout",
     "output_type": "stream",
     "text": [
      "\n",
      "Mutation rate (1.884) exceeded threshold (1.3)\n",
      "Restarting with Simulated Annealing...\n"
     ]
    },
    {
     "name": "stderr",
     "output_type": "stream",
     "text": [
      " 76%|███████▋  | 7639/10000 [02:54<10:05,  3.90it/s]"
     ]
    },
    {
     "name": "stdout",
     "output_type": "stream",
     "text": [
      "Population refreshed and mutation rate reset\n"
     ]
    },
    {
     "name": "stderr",
     "output_type": "stream",
     "text": [
      " 80%|████████  | 8011/10000 [03:01<00:36, 54.06it/s]"
     ]
    },
    {
     "name": "stdout",
     "output_type": "stream",
     "text": [
      "Generazione 8000: Costo migliore corrente = 35216.50 | Costo migliore assoluto = 35216.50 | Tasso di mutazione = 0.100 | Valido = True\n"
     ]
    },
    {
     "name": "stderr",
     "output_type": "stream",
     "text": [
      " 90%|█████████ | 9007/10000 [03:19<00:17, 56.12it/s]"
     ]
    },
    {
     "name": "stdout",
     "output_type": "stream",
     "text": [
      "Generazione 9000: Costo migliore corrente = 35194.62 | Costo migliore assoluto = 35194.62 | Tasso di mutazione = 0.100 | Valido = True\n"
     ]
    },
    {
     "name": "stderr",
     "output_type": "stream",
     "text": [
      "100%|██████████| 10000/10000 [03:37<00:00, 45.89it/s]\n"
     ]
    },
    {
     "data": {
      "text/plain": [
       "([0,\n",
       "  54,\n",
       "  1,\n",
       "  40,\n",
       "  139,\n",
       "  124,\n",
       "  90,\n",
       "  58,\n",
       "  109,\n",
       "  86,\n",
       "  15,\n",
       "  11,\n",
       "  113,\n",
       "  97,\n",
       "  137,\n",
       "  142,\n",
       "  55,\n",
       "  36,\n",
       "  159,\n",
       "  105,\n",
       "  49,\n",
       "  20,\n",
       "  65,\n",
       "  166,\n",
       "  143,\n",
       "  131,\n",
       "  117,\n",
       "  62,\n",
       "  101,\n",
       "  91,\n",
       "  100,\n",
       "  99,\n",
       "  96,\n",
       "  118,\n",
       "  85,\n",
       "  134,\n",
       "  138,\n",
       "  25,\n",
       "  145,\n",
       "  119,\n",
       "  136,\n",
       "  103,\n",
       "  9,\n",
       "  120,\n",
       "  29,\n",
       "  37,\n",
       "  155,\n",
       "  153,\n",
       "  28,\n",
       "  8,\n",
       "  24,\n",
       "  38,\n",
       "  63,\n",
       "  42,\n",
       "  30,\n",
       "  73,\n",
       "  149,\n",
       "  72,\n",
       "  111,\n",
       "  45,\n",
       "  22,\n",
       "  76,\n",
       "  130,\n",
       "  5,\n",
       "  64,\n",
       "  128,\n",
       "  88,\n",
       "  53,\n",
       "  135,\n",
       "  12,\n",
       "  112,\n",
       "  84,\n",
       "  152,\n",
       "  125,\n",
       "  89,\n",
       "  13,\n",
       "  56,\n",
       "  129,\n",
       "  156,\n",
       "  59,\n",
       "  160,\n",
       "  102,\n",
       "  18,\n",
       "  127,\n",
       "  147,\n",
       "  34,\n",
       "  110,\n",
       "  148,\n",
       "  47,\n",
       "  116,\n",
       "  107,\n",
       "  67,\n",
       "  123,\n",
       "  4,\n",
       "  133,\n",
       "  44,\n",
       "  51,\n",
       "  158,\n",
       "  154,\n",
       "  21,\n",
       "  115,\n",
       "  141,\n",
       "  121,\n",
       "  69,\n",
       "  50,\n",
       "  126,\n",
       "  10,\n",
       "  164,\n",
       "  60,\n",
       "  66,\n",
       "  43,\n",
       "  163,\n",
       "  95,\n",
       "  108,\n",
       "  122,\n",
       "  94,\n",
       "  35,\n",
       "  140,\n",
       "  87,\n",
       "  114,\n",
       "  46,\n",
       "  165,\n",
       "  27,\n",
       "  81,\n",
       "  98,\n",
       "  150,\n",
       "  32,\n",
       "  52,\n",
       "  68,\n",
       "  7,\n",
       "  26,\n",
       "  80,\n",
       "  19,\n",
       "  83,\n",
       "  161,\n",
       "  39,\n",
       "  2,\n",
       "  77,\n",
       "  70,\n",
       "  74,\n",
       "  33,\n",
       "  104,\n",
       "  14,\n",
       "  79,\n",
       "  75,\n",
       "  132,\n",
       "  78,\n",
       "  93,\n",
       "  92,\n",
       "  82,\n",
       "  17,\n",
       "  157,\n",
       "  61,\n",
       "  106,\n",
       "  162,\n",
       "  48,\n",
       "  41,\n",
       "  71,\n",
       "  151,\n",
       "  6,\n",
       "  146,\n",
       "  16,\n",
       "  23,\n",
       "  144,\n",
       "  31,\n",
       "  3,\n",
       "  57,\n",
       "  0],\n",
       " (np.float64(35194.62280944803), np.True_))"
      ]
     },
     "execution_count": 39,
     "metadata": {},
     "output_type": "execute_result"
    }
   ],
   "source": [
    "\n",
    "CITIES = pd.read_csv('./cities/russia.csv', header=None, names=['name', 'lat', 'lon'])\n",
    "DIST_MATRIX = np.zeros((len(CITIES), len(CITIES)))\n",
    "for c1, c2 in combinations(CITIES.itertuples(), 2):\n",
    "    DIST_MATRIX[c1.Index, c2.Index] = DIST_MATRIX[c2.Index, c1.Index] = geodesic(\n",
    "        (c1.lat, c1.lon), (c2.lat, c2.lon)\n",
    "    ).km\n",
    "genetic_algorithm_tsp_adaptive_mutation(DIST_MATRIX)"
   ]
  },
  {
   "cell_type": "markdown",
   "metadata": {},
   "source": [
    "## Us"
   ]
  },
  {
   "cell_type": "code",
   "execution_count": 40,
   "metadata": {},
   "outputs": [
    {
     "name": "stderr",
     "output_type": "stream",
     "text": [
      "  0%|          | 3/10000 [00:00<06:23, 26.04it/s]"
     ]
    },
    {
     "name": "stdout",
     "output_type": "stream",
     "text": [
      "Generazione 0: Costo migliore corrente = 43138.94 | Costo migliore assoluto = 43138.94 | Tasso di mutazione = 0.100 | Valido = True\n"
     ]
    },
    {
     "name": "stderr",
     "output_type": "stream",
     "text": [
      " 10%|█         | 1008/10000 [00:27<03:50, 39.01it/s]"
     ]
    },
    {
     "name": "stdout",
     "output_type": "stream",
     "text": [
      "Generazione 1000: Costo migliore corrente = 42026.63 | Costo migliore assoluto = 42026.63 | Tasso di mutazione = 0.100 | Valido = True\n"
     ]
    },
    {
     "name": "stderr",
     "output_type": "stream",
     "text": [
      " 20%|██        | 2008/10000 [00:53<03:32, 37.62it/s]"
     ]
    },
    {
     "name": "stdout",
     "output_type": "stream",
     "text": [
      "Generazione 2000: Costo migliore corrente = 41000.97 | Costo migliore assoluto = 41000.97 | Tasso di mutazione = 0.100 | Valido = True\n"
     ]
    },
    {
     "name": "stderr",
     "output_type": "stream",
     "text": [
      " 30%|███       | 3004/10000 [01:19<02:59, 38.90it/s]"
     ]
    },
    {
     "name": "stdout",
     "output_type": "stream",
     "text": [
      "Generazione 3000: Costo migliore corrente = 40795.07 | Costo migliore assoluto = 40795.07 | Tasso di mutazione = 0.100 | Valido = True\n"
     ]
    },
    {
     "name": "stderr",
     "output_type": "stream",
     "text": [
      " 40%|████      | 4003/10000 [01:49<03:12, 31.22it/s]"
     ]
    },
    {
     "name": "stdout",
     "output_type": "stream",
     "text": [
      "Generazione 4000: Costo migliore corrente = 40688.58 | Costo migliore assoluto = 40688.58 | Tasso di mutazione = 0.100 | Valido = True\n"
     ]
    },
    {
     "name": "stderr",
     "output_type": "stream",
     "text": [
      " 50%|█████     | 5004/10000 [02:22<02:40, 31.12it/s]"
     ]
    },
    {
     "name": "stdout",
     "output_type": "stream",
     "text": [
      "Generazione 5000: Costo migliore corrente = 40637.19 | Costo migliore assoluto = 40637.19 | Tasso di mutazione = 0.100 | Valido = True\n"
     ]
    },
    {
     "name": "stderr",
     "output_type": "stream",
     "text": [
      " 60%|██████    | 6007/10000 [02:55<01:57, 34.02it/s]"
     ]
    },
    {
     "name": "stdout",
     "output_type": "stream",
     "text": [
      "Generazione 6000: Costo migliore corrente = 40595.23 | Costo migliore assoluto = 40595.23 | Tasso di mutazione = 0.100 | Valido = True\n"
     ]
    },
    {
     "name": "stderr",
     "output_type": "stream",
     "text": [
      " 70%|███████   | 7006/10000 [03:33<01:44, 28.79it/s]"
     ]
    },
    {
     "name": "stdout",
     "output_type": "stream",
     "text": [
      "Generazione 7000: Costo migliore corrente = 40562.50 | Costo migliore assoluto = 40562.50 | Tasso di mutazione = 0.100 | Valido = True\n"
     ]
    },
    {
     "name": "stderr",
     "output_type": "stream",
     "text": [
      " 80%|████████  | 8007/10000 [04:07<01:00, 32.97it/s]"
     ]
    },
    {
     "name": "stdout",
     "output_type": "stream",
     "text": [
      "Generazione 8000: Costo migliore corrente = 40505.92 | Costo migliore assoluto = 40505.92 | Tasso di mutazione = 0.100 | Valido = True\n"
     ]
    },
    {
     "name": "stderr",
     "output_type": "stream",
     "text": [
      " 90%|█████████ | 9005/10000 [04:37<00:25, 38.61it/s]"
     ]
    },
    {
     "name": "stdout",
     "output_type": "stream",
     "text": [
      "Generazione 9000: Costo migliore corrente = 40490.06 | Costo migliore assoluto = 40490.06 | Tasso di mutazione = 0.100 | Valido = True\n"
     ]
    },
    {
     "name": "stderr",
     "output_type": "stream",
     "text": [
      "100%|██████████| 10000/10000 [05:09<00:00, 32.36it/s]\n"
     ]
    },
    {
     "data": {
      "text/plain": [
       "([0,\n",
       "  162,\n",
       "  6,\n",
       "  205,\n",
       "  197,\n",
       "  33,\n",
       "  303,\n",
       "  320,\n",
       "  300,\n",
       "  206,\n",
       "  211,\n",
       "  152,\n",
       "  129,\n",
       "  139,\n",
       "  156,\n",
       "  112,\n",
       "  97,\n",
       "  29,\n",
       "  297,\n",
       "  317,\n",
       "  13,\n",
       "  145,\n",
       "  73,\n",
       "  43,\n",
       "  121,\n",
       "  58,\n",
       "  232,\n",
       "  242,\n",
       "  2,\n",
       "  177,\n",
       "  204,\n",
       "  86,\n",
       "  149,\n",
       "  302,\n",
       "  108,\n",
       "  172,\n",
       "  44,\n",
       "  295,\n",
       "  271,\n",
       "  223,\n",
       "  289,\n",
       "  119,\n",
       "  282,\n",
       "  150,\n",
       "  200,\n",
       "  288,\n",
       "  216,\n",
       "  87,\n",
       "  308,\n",
       "  258,\n",
       "  239,\n",
       "  96,\n",
       "  236,\n",
       "  226,\n",
       "  208,\n",
       "  138,\n",
       "  243,\n",
       "  184,\n",
       "  170,\n",
       "  186,\n",
       "  294,\n",
       "  88,\n",
       "  81,\n",
       "  51,\n",
       "  260,\n",
       "  39,\n",
       "  203,\n",
       "  63,\n",
       "  132,\n",
       "  265,\n",
       "  65,\n",
       "  127,\n",
       "  106,\n",
       "  209,\n",
       "  8,\n",
       "  104,\n",
       "  315,\n",
       "  85,\n",
       "  78,\n",
       "  76,\n",
       "  201,\n",
       "  158,\n",
       "  301,\n",
       "  131,\n",
       "  159,\n",
       "  36,\n",
       "  109,\n",
       "  217,\n",
       "  215,\n",
       "  146,\n",
       "  267,\n",
       "  274,\n",
       "  298,\n",
       "  212,\n",
       "  259,\n",
       "  268,\n",
       "  19,\n",
       "  310,\n",
       "  56,\n",
       "  102,\n",
       "  255,\n",
       "  263,\n",
       "  266,\n",
       "  287,\n",
       "  101,\n",
       "  118,\n",
       "  264,\n",
       "  202,\n",
       "  67,\n",
       "  262,\n",
       "  24,\n",
       "  241,\n",
       "  306,\n",
       "  269,\n",
       "  92,\n",
       "  305,\n",
       "  11,\n",
       "  182,\n",
       "  285,\n",
       "  84,\n",
       "  250,\n",
       "  248,\n",
       "  237,\n",
       "  277,\n",
       "  50,\n",
       "  89,\n",
       "  254,\n",
       "  123,\n",
       "  228,\n",
       "  115,\n",
       "  307,\n",
       "  291,\n",
       "  95,\n",
       "  140,\n",
       "  238,\n",
       "  23,\n",
       "  91,\n",
       "  272,\n",
       "  125,\n",
       "  9,\n",
       "  278,\n",
       "  279,\n",
       "  187,\n",
       "  171,\n",
       "  27,\n",
       "  256,\n",
       "  319,\n",
       "  316,\n",
       "  231,\n",
       "  25,\n",
       "  93,\n",
       "  275,\n",
       "  207,\n",
       "  74,\n",
       "  251,\n",
       "  280,\n",
       "  221,\n",
       "  68,\n",
       "  42,\n",
       "  246,\n",
       "  179,\n",
       "  252,\n",
       "  113,\n",
       "  178,\n",
       "  165,\n",
       "  247,\n",
       "  82,\n",
       "  17,\n",
       "  188,\n",
       "  137,\n",
       "  49,\n",
       "  276,\n",
       "  111,\n",
       "  147,\n",
       "  10,\n",
       "  71,\n",
       "  75,\n",
       "  312,\n",
       "  284,\n",
       "  35,\n",
       "  7,\n",
       "  290,\n",
       "  324,\n",
       "  161,\n",
       "  166,\n",
       "  163,\n",
       "  37,\n",
       "  28,\n",
       "  233,\n",
       "  32,\n",
       "  191,\n",
       "  230,\n",
       "  117,\n",
       "  314,\n",
       "  192,\n",
       "  31,\n",
       "  283,\n",
       "  235,\n",
       "  218,\n",
       "  325,\n",
       "  213,\n",
       "  199,\n",
       "  195,\n",
       "  136,\n",
       "  190,\n",
       "  83,\n",
       "  80,\n",
       "  5,\n",
       "  222,\n",
       "  20,\n",
       "  59,\n",
       "  313,\n",
       "  12,\n",
       "  3,\n",
       "  194,\n",
       "  116,\n",
       "  196,\n",
       "  309,\n",
       "  48,\n",
       "  234,\n",
       "  41,\n",
       "  94,\n",
       "  322,\n",
       "  45,\n",
       "  198,\n",
       "  270,\n",
       "  135,\n",
       "  105,\n",
       "  210,\n",
       "  214,\n",
       "  229,\n",
       "  318,\n",
       "  62,\n",
       "  227,\n",
       "  98,\n",
       "  124,\n",
       "  120,\n",
       "  175,\n",
       "  176,\n",
       "  180,\n",
       "  220,\n",
       "  69,\n",
       "  153,\n",
       "  38,\n",
       "  144,\n",
       "  30,\n",
       "  244,\n",
       "  293,\n",
       "  253,\n",
       "  54,\n",
       "  281,\n",
       "  292,\n",
       "  181,\n",
       "  183,\n",
       "  60,\n",
       "  164,\n",
       "  15,\n",
       "  261,\n",
       "  14,\n",
       "  16,\n",
       "  46,\n",
       "  61,\n",
       "  323,\n",
       "  122,\n",
       "  114,\n",
       "  77,\n",
       "  245,\n",
       "  224,\n",
       "  1,\n",
       "  55,\n",
       "  299,\n",
       "  99,\n",
       "  130,\n",
       "  70,\n",
       "  52,\n",
       "  155,\n",
       "  160,\n",
       "  90,\n",
       "  53,\n",
       "  189,\n",
       "  185,\n",
       "  142,\n",
       "  47,\n",
       "  128,\n",
       "  26,\n",
       "  169,\n",
       "  157,\n",
       "  134,\n",
       "  193,\n",
       "  174,\n",
       "  21,\n",
       "  143,\n",
       "  22,\n",
       "  273,\n",
       "  304,\n",
       "  57,\n",
       "  296,\n",
       "  126,\n",
       "  151,\n",
       "  219,\n",
       "  286,\n",
       "  64,\n",
       "  34,\n",
       "  79,\n",
       "  167,\n",
       "  148,\n",
       "  257,\n",
       "  18,\n",
       "  249,\n",
       "  141,\n",
       "  311,\n",
       "  100,\n",
       "  110,\n",
       "  133,\n",
       "  66,\n",
       "  173,\n",
       "  107,\n",
       "  240,\n",
       "  225,\n",
       "  4,\n",
       "  168,\n",
       "  103,\n",
       "  40,\n",
       "  154,\n",
       "  72,\n",
       "  321,\n",
       "  0],\n",
       " (np.float64(40479.406494662384), np.True_))"
      ]
     },
     "execution_count": 40,
     "metadata": {},
     "output_type": "execute_result"
    }
   ],
   "source": [
    "\n",
    "CITIES = pd.read_csv('./cities/us.csv', header=None, names=['name', 'lat', 'lon'])\n",
    "DIST_MATRIX = np.zeros((len(CITIES), len(CITIES)))\n",
    "for c1, c2 in combinations(CITIES.itertuples(), 2):\n",
    "    DIST_MATRIX[c1.Index, c2.Index] = DIST_MATRIX[c2.Index, c1.Index] = geodesic(\n",
    "        (c1.lat, c1.lon), (c2.lat, c2.lon)\n",
    "    ).km\n",
    "genetic_algorithm_tsp_adaptive_mutation(DIST_MATRIX)"
   ]
  },
  {
   "cell_type": "markdown",
   "metadata": {},
   "source": [
    "## China"
   ]
  },
  {
   "cell_type": "code",
   "execution_count": 41,
   "metadata": {},
   "outputs": [
    {
     "name": "stderr",
     "output_type": "stream",
     "text": [
      "  0%|          | 3/10000 [00:00<08:05, 20.57it/s]"
     ]
    },
    {
     "name": "stdout",
     "output_type": "stream",
     "text": [
      "Generazione 0: Costo migliore corrente = 63962.92 | Costo migliore assoluto = 63962.92 | Tasso di mutazione = 0.100 | Valido = True\n"
     ]
    },
    {
     "name": "stderr",
     "output_type": "stream",
     "text": [
      " 10%|█         | 1004/10000 [00:58<07:49, 19.16it/s]"
     ]
    },
    {
     "name": "stdout",
     "output_type": "stream",
     "text": [
      "Generazione 1000: Costo migliore corrente = 61298.43 | Costo migliore assoluto = 61298.43 | Tasso di mutazione = 0.100 | Valido = True\n"
     ]
    },
    {
     "name": "stderr",
     "output_type": "stream",
     "text": [
      " 20%|██        | 2003/10000 [01:50<06:03, 21.99it/s]"
     ]
    },
    {
     "name": "stdout",
     "output_type": "stream",
     "text": [
      "Generazione 2000: Costo migliore corrente = 60138.75 | Costo migliore assoluto = 60138.75 | Tasso di mutazione = 0.100 | Valido = True\n"
     ]
    },
    {
     "name": "stderr",
     "output_type": "stream",
     "text": [
      " 30%|███       | 3002/10000 [02:40<06:15, 18.65it/s]"
     ]
    },
    {
     "name": "stdout",
     "output_type": "stream",
     "text": [
      "Generazione 3000: Costo migliore corrente = 59046.49 | Costo migliore assoluto = 59046.49 | Tasso di mutazione = 0.100 | Valido = True\n"
     ]
    },
    {
     "name": "stderr",
     "output_type": "stream",
     "text": [
      " 40%|████      | 4004/10000 [03:35<06:40, 14.96it/s]"
     ]
    },
    {
     "name": "stdout",
     "output_type": "stream",
     "text": [
      "Generazione 4000: Costo migliore corrente = 58104.30 | Costo migliore assoluto = 58104.30 | Tasso di mutazione = 0.100 | Valido = True\n"
     ]
    },
    {
     "name": "stderr",
     "output_type": "stream",
     "text": [
      " 50%|█████     | 5004/10000 [04:32<04:23, 18.95it/s]"
     ]
    },
    {
     "name": "stdout",
     "output_type": "stream",
     "text": [
      "Generazione 5000: Costo migliore corrente = 57073.20 | Costo migliore assoluto = 57073.20 | Tasso di mutazione = 0.100 | Valido = True\n"
     ]
    },
    {
     "name": "stderr",
     "output_type": "stream",
     "text": [
      " 60%|██████    | 6003/10000 [05:29<04:13, 15.77it/s]"
     ]
    },
    {
     "name": "stdout",
     "output_type": "stream",
     "text": [
      "Generazione 6000: Costo migliore corrente = 56738.41 | Costo migliore assoluto = 56738.41 | Tasso di mutazione = 0.100 | Valido = True\n"
     ]
    },
    {
     "name": "stderr",
     "output_type": "stream",
     "text": [
      " 70%|███████   | 7004/10000 [06:23<02:35, 19.28it/s]"
     ]
    },
    {
     "name": "stdout",
     "output_type": "stream",
     "text": [
      "Generazione 7000: Costo migliore corrente = 56538.59 | Costo migliore assoluto = 56538.59 | Tasso di mutazione = 0.100 | Valido = True\n"
     ]
    },
    {
     "name": "stderr",
     "output_type": "stream",
     "text": [
      " 80%|████████  | 8005/10000 [07:18<02:01, 16.45it/s]"
     ]
    },
    {
     "name": "stdout",
     "output_type": "stream",
     "text": [
      "Generazione 8000: Costo migliore corrente = 56324.02 | Costo migliore assoluto = 56324.02 | Tasso di mutazione = 0.100 | Valido = True\n"
     ]
    },
    {
     "name": "stderr",
     "output_type": "stream",
     "text": [
      " 90%|█████████ | 9004/10000 [08:15<00:56, 17.77it/s]"
     ]
    },
    {
     "name": "stdout",
     "output_type": "stream",
     "text": [
      "Generazione 9000: Costo migliore corrente = 56113.07 | Costo migliore assoluto = 56113.07 | Tasso di mutazione = 0.100 | Valido = True\n"
     ]
    },
    {
     "name": "stderr",
     "output_type": "stream",
     "text": [
      "100%|██████████| 10000/10000 [09:02<00:00, 18.43it/s]\n"
     ]
    },
    {
     "data": {
      "text/plain": [
       "([0,\n",
       "  186,\n",
       "  505,\n",
       "  570,\n",
       "  481,\n",
       "  414,\n",
       "  173,\n",
       "  396,\n",
       "  397,\n",
       "  198,\n",
       "  290,\n",
       "  101,\n",
       "  451,\n",
       "  395,\n",
       "  233,\n",
       "  23,\n",
       "  507,\n",
       "  240,\n",
       "  191,\n",
       "  133,\n",
       "  544,\n",
       "  644,\n",
       "  399,\n",
       "  539,\n",
       "  516,\n",
       "  174,\n",
       "  28,\n",
       "  573,\n",
       "  192,\n",
       "  239,\n",
       "  154,\n",
       "  382,\n",
       "  685,\n",
       "  235,\n",
       "  172,\n",
       "  629,\n",
       "  681,\n",
       "  358,\n",
       "  450,\n",
       "  232,\n",
       "  412,\n",
       "  207,\n",
       "  696,\n",
       "  5,\n",
       "  457,\n",
       "  469,\n",
       "  356,\n",
       "  554,\n",
       "  16,\n",
       "  532,\n",
       "  434,\n",
       "  435,\n",
       "  514,\n",
       "  699,\n",
       "  506,\n",
       "  545,\n",
       "  33,\n",
       "  139,\n",
       "  34,\n",
       "  59,\n",
       "  340,\n",
       "  66,\n",
       "  61,\n",
       "  724,\n",
       "  346,\n",
       "  531,\n",
       "  183,\n",
       "  530,\n",
       "  143,\n",
       "  535,\n",
       "  309,\n",
       "  218,\n",
       "  716,\n",
       "  123,\n",
       "  388,\n",
       "  52,\n",
       "  509,\n",
       "  470,\n",
       "  637,\n",
       "  549,\n",
       "  31,\n",
       "  688,\n",
       "  603,\n",
       "  553,\n",
       "  277,\n",
       "  206,\n",
       "  24,\n",
       "  128,\n",
       "  88,\n",
       "  510,\n",
       "  666,\n",
       "  623,\n",
       "  634,\n",
       "  668,\n",
       "  282,\n",
       "  528,\n",
       "  168,\n",
       "  262,\n",
       "  237,\n",
       "  370,\n",
       "  129,\n",
       "  335,\n",
       "  211,\n",
       "  180,\n",
       "  542,\n",
       "  22,\n",
       "  185,\n",
       "  560,\n",
       "  92,\n",
       "  90,\n",
       "  26,\n",
       "  310,\n",
       "  161,\n",
       "  361,\n",
       "  537,\n",
       "  169,\n",
       "  426,\n",
       "  630,\n",
       "  672,\n",
       "  120,\n",
       "  342,\n",
       "  576,\n",
       "  572,\n",
       "  176,\n",
       "  503,\n",
       "  89,\n",
       "  647,\n",
       "  339,\n",
       "  585,\n",
       "  439,\n",
       "  25,\n",
       "  705,\n",
       "  19,\n",
       "  102,\n",
       "  312,\n",
       "  347,\n",
       "  612,\n",
       "  580,\n",
       "  267,\n",
       "  692,\n",
       "  288,\n",
       "  258,\n",
       "  673,\n",
       "  115,\n",
       "  179,\n",
       "  3,\n",
       "  555,\n",
       "  394,\n",
       "  134,\n",
       "  49,\n",
       "  496,\n",
       "  303,\n",
       "  556,\n",
       "  298,\n",
       "  522,\n",
       "  39,\n",
       "  653,\n",
       "  15,\n",
       "  299,\n",
       "  474,\n",
       "  210,\n",
       "  2,\n",
       "  1,\n",
       "  551,\n",
       "  300,\n",
       "  552,\n",
       "  155,\n",
       "  602,\n",
       "  314,\n",
       "  78,\n",
       "  72,\n",
       "  367,\n",
       "  376,\n",
       "  466,\n",
       "  333,\n",
       "  512,\n",
       "  272,\n",
       "  153,\n",
       "  297,\n",
       "  71,\n",
       "  110,\n",
       "  122,\n",
       "  30,\n",
       "  446,\n",
       "  406,\n",
       "  202,\n",
       "  304,\n",
       "  163,\n",
       "  165,\n",
       "  32,\n",
       "  45,\n",
       "  371,\n",
       "  675,\n",
       "  150,\n",
       "  697,\n",
       "  511,\n",
       "  604,\n",
       "  499,\n",
       "  80,\n",
       "  598,\n",
       "  489,\n",
       "  245,\n",
       "  296,\n",
       "  383,\n",
       "  152,\n",
       "  227,\n",
       "  571,\n",
       "  694,\n",
       "  322,\n",
       "  317,\n",
       "  107,\n",
       "  449,\n",
       "  336,\n",
       "  86,\n",
       "  104,\n",
       "  473,\n",
       "  584,\n",
       "  558,\n",
       "  447,\n",
       "  565,\n",
       "  633,\n",
       "  632,\n",
       "  118,\n",
       "  525,\n",
       "  526,\n",
       "  713,\n",
       "  704,\n",
       "  162,\n",
       "  130,\n",
       "  221,\n",
       "  441,\n",
       "  379,\n",
       "  649,\n",
       "  75,\n",
       "  684,\n",
       "  498,\n",
       "  106,\n",
       "  236,\n",
       "  493,\n",
       "  84,\n",
       "  427,\n",
       "  231,\n",
       "  373,\n",
       "  203,\n",
       "  170,\n",
       "  483,\n",
       "  260,\n",
       "  259,\n",
       "  228,\n",
       "  368,\n",
       "  431,\n",
       "  263,\n",
       "  482,\n",
       "  175,\n",
       "  389,\n",
       "  63,\n",
       "  4,\n",
       "  60,\n",
       "  219,\n",
       "  386,\n",
       "  201,\n",
       "  607,\n",
       "  465,\n",
       "  144,\n",
       "  405,\n",
       "  410,\n",
       "  484,\n",
       "  315,\n",
       "  325,\n",
       "  205,\n",
       "  586,\n",
       "  664,\n",
       "  488,\n",
       "  319,\n",
       "  323,\n",
       "  364,\n",
       "  47,\n",
       "  280,\n",
       "  687,\n",
       "  284,\n",
       "  215,\n",
       "  547,\n",
       "  209,\n",
       "  164,\n",
       "  354,\n",
       "  658,\n",
       "  188,\n",
       "  269,\n",
       "  17,\n",
       "  611,\n",
       "  13,\n",
       "  442,\n",
       "  167,\n",
       "  295,\n",
       "  137,\n",
       "  116,\n",
       "  352,\n",
       "  624,\n",
       "  455,\n",
       "  279,\n",
       "  381,\n",
       "  301,\n",
       "  707,\n",
       "  678,\n",
       "  362,\n",
       "  9,\n",
       "  171,\n",
       "  420,\n",
       "  601,\n",
       "  698,\n",
       "  574,\n",
       "  37,\n",
       "  458,\n",
       "  725,\n",
       "  67,\n",
       "  377,\n",
       "  661,\n",
       "  76,\n",
       "  244,\n",
       "  69,\n",
       "  29,\n",
       "  189,\n",
       "  413,\n",
       "  719,\n",
       "  641,\n",
       "  321,\n",
       "  117,\n",
       "  628,\n",
       "  448,\n",
       "  70,\n",
       "  113,\n",
       "  422,\n",
       "  99,\n",
       "  249,\n",
       "  390,\n",
       "  495,\n",
       "  391,\n",
       "  159,\n",
       "  62,\n",
       "  385,\n",
       "  721,\n",
       "  517,\n",
       "  401,\n",
       "  158,\n",
       "  226,\n",
       "  135,\n",
       "  402,\n",
       "  119,\n",
       "  330,\n",
       "  559,\n",
       "  7,\n",
       "  608,\n",
       "  596,\n",
       "  588,\n",
       "  564,\n",
       "  477,\n",
       "  337,\n",
       "  662,\n",
       "  674,\n",
       "  471,\n",
       "  646,\n",
       "  638,\n",
       "  156,\n",
       "  599,\n",
       "  94,\n",
       "  468,\n",
       "  423,\n",
       "  575,\n",
       "  372,\n",
       "  715,\n",
       "  682,\n",
       "  411,\n",
       "  96,\n",
       "  313,\n",
       "  83,\n",
       "  502,\n",
       "  591,\n",
       "  643,\n",
       "  652,\n",
       "  706,\n",
       "  274,\n",
       "  82,\n",
       "  642,\n",
       "  702,\n",
       "  703,\n",
       "  275,\n",
       "  490,\n",
       "  515,\n",
       "  43,\n",
       "  461,\n",
       "  670,\n",
       "  501,\n",
       "  665,\n",
       "  656,\n",
       "  392,\n",
       "  53,\n",
       "  353,\n",
       "  590,\n",
       "  428,\n",
       "  331,\n",
       "  717,\n",
       "  592,\n",
       "  485,\n",
       "  593,\n",
       "  200,\n",
       "  437,\n",
       "  51,\n",
       "  316,\n",
       "  64,\n",
       "  720,\n",
       "  271,\n",
       "  241,\n",
       "  621,\n",
       "  691,\n",
       "  145,\n",
       "  400,\n",
       "  141,\n",
       "  334,\n",
       "  651,\n",
       "  166,\n",
       "  486,\n",
       "  583,\n",
       "  251,\n",
       "  250,\n",
       "  407,\n",
       "  472,\n",
       "  659,\n",
       "  689,\n",
       "  363,\n",
       "  693,\n",
       "  357,\n",
       "  587,\n",
       "  398,\n",
       "  500,\n",
       "  440,\n",
       "  278,\n",
       "  453,\n",
       "  20,\n",
       "  432,\n",
       "  409,\n",
       "  136,\n",
       "  50,\n",
       "  416,\n",
       "  131,\n",
       "  132,\n",
       "  463,\n",
       "  568,\n",
       "  669,\n",
       "  567,\n",
       "  374,\n",
       "  253,\n",
       "  224,\n",
       "  341,\n",
       "  491,\n",
       "  351,\n",
       "  663,\n",
       "  311,\n",
       "  276,\n",
       "  456,\n",
       "  246,\n",
       "  479,\n",
       "  98,\n",
       "  320,\n",
       "  270,\n",
       "  195,\n",
       "  286,\n",
       "  582,\n",
       "  464,\n",
       "  222,\n",
       "  242,\n",
       "  714,\n",
       "  654,\n",
       "  111,\n",
       "  332,\n",
       "  140,\n",
       "  184,\n",
       "  97,\n",
       "  238,\n",
       "  579,\n",
       "  257,\n",
       "  548,\n",
       "  74,\n",
       "  415,\n",
       "  127,\n",
       "  710,\n",
       "  679,\n",
       "  487,\n",
       "  480,\n",
       "  177,\n",
       "  425,\n",
       "  476,\n",
       "  524,\n",
       "  302,\n",
       "  54,\n",
       "  408,\n",
       "  686,\n",
       "  273,\n",
       "  248,\n",
       "  581,\n",
       "  57,\n",
       "  462,\n",
       "  527,\n",
       "  247,\n",
       "  529,\n",
       "  243,\n",
       "  635,\n",
       "  701,\n",
       "  657,\n",
       "  293,\n",
       "  676,\n",
       "  85,\n",
       "  281,\n",
       "  355,\n",
       "  655,\n",
       "  417,\n",
       "  625,\n",
       "  546,\n",
       "  68,\n",
       "  10,\n",
       "  541,\n",
       "  369,\n",
       "  58,\n",
       "  578,\n",
       "  378,\n",
       "  404,\n",
       "  73,\n",
       "  393,\n",
       "  35,\n",
       "  216,\n",
       "  125,\n",
       "  190,\n",
       "  365,\n",
       "  380,\n",
       "  225,\n",
       "  121,\n",
       "  223,\n",
       "  91,\n",
       "  594,\n",
       "  65,\n",
       "  348,\n",
       "  208,\n",
       "  595,\n",
       "  436,\n",
       "  536,\n",
       "  648,\n",
       "  8,\n",
       "  160,\n",
       "  597,\n",
       "  181,\n",
       "  577,\n",
       "  518,\n",
       "  619,\n",
       "  261,\n",
       "  709,\n",
       "  626,\n",
       "  48,\n",
       "  622,\n",
       "  680,\n",
       "  615,\n",
       "  610,\n",
       "  700,\n",
       "  294,\n",
       "  563,\n",
       "  618,\n",
       "  230,\n",
       "  256,\n",
       "  387,\n",
       "  291,\n",
       "  445,\n",
       "  268,\n",
       "  149,\n",
       "  56,\n",
       "  350,\n",
       "  187,\n",
       "  14,\n",
       "  569,\n",
       "  345,\n",
       "  182,\n",
       "  475,\n",
       "  609,\n",
       "  100,\n",
       "  344,\n",
       "  403,\n",
       "  292,\n",
       "  199,\n",
       "  494,\n",
       "  613,\n",
       "  147,\n",
       "  366,\n",
       "  497,\n",
       "  375,\n",
       "  614,\n",
       "  103,\n",
       "  6,\n",
       "  21,\n",
       "  459,\n",
       "  27,\n",
       "  146,\n",
       "  194,\n",
       "  41,\n",
       "  44,\n",
       "  220,\n",
       "  318,\n",
       "  38,\n",
       "  112,\n",
       "  196,\n",
       "  504,\n",
       "  645,\n",
       "  443,\n",
       "  718,\n",
       "  708,\n",
       "  690,\n",
       "  40,\n",
       "  305,\n",
       "  617,\n",
       "  523,\n",
       "  266,\n",
       "  326,\n",
       "  478,\n",
       "  433,\n",
       "  589,\n",
       "  204,\n",
       "  42,\n",
       "  660,\n",
       "  214,\n",
       "  521,\n",
       "  627,\n",
       "  600,\n",
       "  667,\n",
       "  723,\n",
       "  640,\n",
       "  454,\n",
       "  722,\n",
       "  533,\n",
       "  683,\n",
       "  124,\n",
       "  349,\n",
       "  193,\n",
       "  324,\n",
       "  620,\n",
       "  429,\n",
       "  520,\n",
       "  213,\n",
       "  217,\n",
       "  534,\n",
       "  151,\n",
       "  606,\n",
       "  109,\n",
       "  77,\n",
       "  631,\n",
       "  460,\n",
       "  712,\n",
       "  11,\n",
       "  561,\n",
       "  55,\n",
       "  424,\n",
       "  308,\n",
       "  695,\n",
       "  421,\n",
       "  639,\n",
       "  562,\n",
       "  566,\n",
       "  467,\n",
       "  178,\n",
       "  438,\n",
       "  255,\n",
       "  148,\n",
       "  254,\n",
       "  265,\n",
       "  306,\n",
       "  307,\n",
       "  452,\n",
       "  360,\n",
       "  444,\n",
       "  605,\n",
       "  234,\n",
       "  283,\n",
       "  338,\n",
       "  616,\n",
       "  538,\n",
       "  540,\n",
       "  138,\n",
       "  108,\n",
       "  492,\n",
       "  671,\n",
       "  519,\n",
       "  95,\n",
       "  327,\n",
       "  287,\n",
       "  12,\n",
       "  329,\n",
       "  418,\n",
       "  650,\n",
       "  87,\n",
       "  142,\n",
       "  557,\n",
       "  430,\n",
       "  79,\n",
       "  711,\n",
       "  105,\n",
       "  81,\n",
       "  126,\n",
       "  36,\n",
       "  543,\n",
       "  18,\n",
       "  343,\n",
       "  197,\n",
       "  359,\n",
       "  229,\n",
       "  550,\n",
       "  636,\n",
       "  114,\n",
       "  252,\n",
       "  212,\n",
       "  419,\n",
       "  384,\n",
       "  328,\n",
       "  513,\n",
       "  157,\n",
       "  46,\n",
       "  289,\n",
       "  93,\n",
       "  285,\n",
       "  264,\n",
       "  508,\n",
       "  677,\n",
       "  0],\n",
       " (np.float64(55799.09434787245), np.True_))"
      ]
     },
     "execution_count": 41,
     "metadata": {},
     "output_type": "execute_result"
    }
   ],
   "source": [
    "\n",
    "CITIES = pd.read_csv('./cities/china.csv', header=None, names=['name', 'lat', 'lon'])\n",
    "DIST_MATRIX = np.zeros((len(CITIES), len(CITIES)))\n",
    "for c1, c2 in combinations(CITIES.itertuples(), 2):\n",
    "    DIST_MATRIX[c1.Index, c2.Index] = DIST_MATRIX[c2.Index, c1.Index] = geodesic(\n",
    "        (c1.lat, c1.lon), (c2.lat, c2.lon)\n",
    "    ).km\n",
    "genetic_algorithm_tsp_adaptive_mutation(\n",
    "    DIST_MATRIX,\n",
    "    num_generations=20000, \n",
    ")"
   ]
  }
 ],
 "metadata": {
  "kernelspec": {
   "display_name": ".venv",
   "language": "python",
   "name": "python3"
  },
  "language_info": {
   "codemirror_mode": {
    "name": "ipython",
    "version": 3
   },
   "file_extension": ".py",
   "mimetype": "text/x-python",
   "name": "python",
   "nbconvert_exporter": "python",
   "pygments_lexer": "ipython3",
   "version": "3.12.4"
  }
 },
 "nbformat": 4,
 "nbformat_minor": 2
}
