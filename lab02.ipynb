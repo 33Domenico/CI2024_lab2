{
 "cells": [
  {
   "cell_type": "code",
   "execution_count": 17,
   "metadata": {},
   "outputs": [],
   "source": [
    "import logging\n",
    "from itertools import combinations\n",
    "import pandas as pd\n",
    "import numpy as np\n",
    "from geopy.distance import geodesic\n",
    "import networkx as nx\n",
    "import random\n",
    "from icecream import ic\n",
    "from tqdm.auto import tqdm\n",
    "from matplotlib import pyplot as plt\n",
    "from itertools import accumulate"
   ]
  },
  {
   "cell_type": "code",
   "execution_count": 18,
   "metadata": {},
   "outputs": [],
   "source": [
    "logging.basicConfig(level=logging.DEBUG)"
   ]
  },
  {
   "cell_type": "markdown",
   "metadata": {},
   "source": [
    "## Nearest Neighbor (Greedy)"
   ]
  },
  {
   "cell_type": "code",
   "execution_count": 19,
   "metadata": {},
   "outputs": [],
   "source": [
    "def nearest_neighbor_tsp(start_city_index=0):\n",
    "    \"\"\"\n",
    "    Risolve il TSP utilizzando l'algoritmo Greedy di Nearest Neighbor.\n",
    "    :param start_city_index: Indice della città di partenza\n",
    "    :return: Lista dell'ordine delle città visitate e lunghezza totale del percorso\n",
    "    \"\"\"\n",
    "    dist_matrix=DIST_MATRIX.copy()\n",
    "    visited = np.full(len(CITIES), False)  # Array per tenere traccia delle città visitate\n",
    "    city = start_city_index  \n",
    "    visited[city] = True\n",
    "\n",
    "    tsp = [city]  # Lista per mantenere l'ordine delle città visitate\n",
    "\n",
    "    # Loop fino a quando tutte le città non sono state visitate\n",
    "    while not np.all(visited):\n",
    "        # Imposta le distanze delle città già visitate a infinito per escluderle dalla ricerca del più vicino\n",
    "        dist_matrix[:, city] = np.inf\n",
    "        # Trova la città più vicina che non è ancora stata visitata\n",
    "        closest_city = np.argmin(dist_matrix[city])\n",
    "        # Marca la città trovata come visitata\n",
    "        visited[closest_city] = True\n",
    "        # Aggiorna l'ordine delle città visitate\n",
    "        tsp.append(int(closest_city))\n",
    "        # Aggiorna la città corrente\n",
    "        city = closest_city\n",
    "\n",
    "    # Ritorna alla città di partenza\n",
    "    tsp.append(start_city_index)\n",
    "    \n",
    "    total_distance = tsp_cost(tsp,DIST_MATRIX)\n",
    "    \n",
    "    return tsp, total_distance"
   ]
  },
  {
   "cell_type": "code",
   "execution_count": 20,
   "metadata": {},
   "outputs": [],
   "source": [
    "def valid(tsp):\n",
    "    \"\"\"\n",
    "    Verifica la validità di un percorso TSP.\n",
    "    \"\"\"\n",
    "    tsp = np.array(tsp)\n",
    "    \n",
    "    if tsp[0] != tsp[-1]:\n",
    "        return False\n",
    "    \n",
    "    # Verifica che tutte le città siano visitate esattamente una volta\n",
    "    cities_visited = tsp[:-1]\n",
    "    expected_cities = np.arange(len(CITIES))\n",
    "    \n",
    "    return (len(np.unique(cities_visited)) == len(CITIES) and \n",
    "            np.all(np.isin(expected_cities, cities_visited)))\n",
    "\n",
    "def tsp_cost(route, dist_matrix):\n",
    "    \"\"\"Calcola il costo del percorso e la sua validità.\"\"\"\n",
    "    route = np.array(route)\n",
    "    # Calcola le distanze tra città consecutive\n",
    "    total_distance = np.sum([dist_matrix[route[i], route[i+1]] \n",
    "                           for i in range(len(route)-1)])\n",
    "    return (total_distance, valid(route))"
   ]
  },
  {
   "cell_type": "markdown",
   "metadata": {},
   "source": [
    "## Inversion mutation"
   ]
  },
  {
   "cell_type": "code",
   "execution_count": 21,
   "metadata": {},
   "outputs": [],
   "source": [
    "def tweak(tsp):\n",
    "    \"\"\"Esegue un'inversion mutation su una soluzione TSP\"\"\"\n",
    "    tsp = np.array(tsp)\n",
    "    # Seleziona due punti casuali nel percorso per eseguire l'inversione\n",
    "    a, b = sorted(np.random.choice(range(1, len(tsp) - 1), 2, replace=False))\n",
    "     # Inverte il sotto-percorso tra i due punti selezionati\n",
    "    tsp[a:b+1] = np.flip(tsp[a:b+1])\n",
    "    return tsp.tolist()\n"
   ]
  },
  {
   "cell_type": "markdown",
   "metadata": {},
   "source": [
    "##  Simulated Annealing (SA) by Initial Population."
   ]
  },
  {
   "cell_type": "code",
   "execution_count": 22,
   "metadata": {},
   "outputs": [],
   "source": [
    "def simulated_annealing_population(dist_matrix, initial_temp, cooling_rate, stop_temp, population_size=100):\n",
    "    \"\"\"Algoritmo di Simulated Annealing per generare una popolazione iniziale\"\"\"\n",
    "    dist_matrix = np.array(dist_matrix)\n",
    "    # Trova una soluzione iniziale con il metodo Greedy\n",
    "    current_solution, current_cost = nearest_neighbor_tsp(start_city_index=0)\n",
    "    best_solution = current_solution[:]\n",
    "    best_cost = current_cost\n",
    "\n",
    "    population = [(best_solution, best_cost)]\n",
    "    temperature = initial_temp\n",
    "\n",
    "    while temperature > stop_temp:\n",
    "        new_solution = tweak(current_solution[:])\n",
    "        new_cost = tsp_cost(new_solution, dist_matrix)\n",
    "\n",
    "        if (new_cost[0] < current_cost[0] or \n",
    "            np.random.random() < np.exp((current_cost[0] - new_cost[0]) / temperature)):\n",
    "            current_solution = new_solution\n",
    "            current_cost = new_cost\n",
    "\n",
    "            if new_cost[0] < best_cost[0]:\n",
    "                best_solution = new_solution\n",
    "                best_cost = new_cost\n",
    "    \n",
    "            population.append((current_solution, current_cost))\n",
    "            \n",
    "        temperature *= cooling_rate\n",
    "    # Ordina la popolazione per costo e restituisci i migliori 'population_size' individui    \n",
    "    population = np.array(population, dtype=object)\n",
    "    sorted_indices = np.argsort([cost[0] for _, cost in population])\n",
    "    population = population[sorted_indices]\n",
    "    \n",
    "    return population[:population_size].tolist()"
   ]
  },
  {
   "cell_type": "code",
   "execution_count": 23,
   "metadata": {},
   "outputs": [],
   "source": [
    "def initial_population(pop_size):\n",
    "    \"\"\"Inizializza la popolazione usando parametri predefiniti.\"\"\"\n",
    "    initial_temp = 1000\n",
    "    cooling_rate = 0.992\n",
    "    stop_temp = 1e-200\n",
    "    # Genera la popolazione iniziale con Simulated Annealing\n",
    "    return simulated_annealing_population(DIST_MATRIX, initial_temp,\n",
    "                                        cooling_rate, stop_temp, pop_size)\n"
   ]
  },
  {
   "cell_type": "markdown",
   "metadata": {},
   "source": [
    "##  Crossover Inver-Over"
   ]
  },
  {
   "cell_type": "code",
   "execution_count": 24,
   "metadata": {},
   "outputs": [],
   "source": [
    "def inver_over_crossover(parent1, parent2, num_iterations=1):\n",
    "    \"\"\"Applica il crossover inver-over \"\"\"\n",
    "    parent1, parent2 = np.array(parent1), np.array(parent2)\n",
    "    child = parent1.copy()\n",
    " # Esegui una serie di iterazioni di crossover per creare il figlio\n",
    "    for _ in range(num_iterations):\n",
    "        start_index = np.random.randint(1, len(child) - 2)\n",
    "        start_city = child[start_index]\n",
    "         # Seleziona casualmente una città di destinazione da uno dei genitori\n",
    "        if np.random.random() < 0.5:\n",
    "            valid_cities = child[1:-1][child[1:-1] != start_city]\n",
    "            end_city = np.random.choice(valid_cities)\n",
    "        else:\n",
    "            valid_cities = parent2[1:-1][parent2[1:-1] != start_city]\n",
    "            end_city = np.random.choice(valid_cities)\n",
    "        # Ottieni le posizioni della città di partenza e di destinazione nel figlio\n",
    "        start_pos = np.where(child == start_city)[0][0]\n",
    "        end_pos = np.where(child == end_city)[0][0]\n",
    "        \n",
    "        if start_pos > end_pos:\n",
    "            start_pos, end_pos = end_pos, start_pos\n",
    "          # Inverti il sotto-percorso tra le due posizioni\n",
    "        child[start_pos:end_pos + 1] = np.flip(child[start_pos:end_pos + 1])\n",
    "    # Assicurati che il figlio termini nella stessa città di partenza\n",
    "    if child[0] != child[-1]:\n",
    "        child = np.append(child, child[0])\n",
    "    \n",
    "    return child.tolist()"
   ]
  },
  {
   "cell_type": "code",
   "execution_count": 25,
   "metadata": {},
   "outputs": [],
   "source": [
    "def tournament_selection(population, k=5):\n",
    "    \"\"\"Selezione torneo usando NumPy.\"\"\"\n",
    "     # Seleziona casualmente 'k' individui dalla popolazione\n",
    "    selected_indices = np.random.choice(len(population), k, replace=False)\n",
    "    selected = np.array(population, dtype=object)[selected_indices]\n",
    "     # Ritorna l'individuo con il costo minore tra quelli selezionati\n",
    "    return min(selected, key=lambda x: x[1][0])  # x[1][0] accede al costo\n"
   ]
  },
  {
   "cell_type": "markdown",
   "metadata": {},
   "source": [
    "## Inversion mutation"
   ]
  },
  {
   "cell_type": "code",
   "execution_count": 26,
   "metadata": {},
   "outputs": [],
   "source": [
    "def inversion_mutation(tsp):\n",
    "    \"\"\"Esegue un'inversion mutation \"\"\"\n",
    "    tsp = np.array(tsp)\n",
    "    a, b = sorted(np.random.choice(range(1, len(tsp) - 1), 2, replace=False))\n",
    "    tsp[a:b+1] = np.flip(tsp[a:b+1])\n",
    "    return tsp.tolist()\n"
   ]
  },
  {
   "cell_type": "markdown",
   "metadata": {},
   "source": [
    "## EA with adaptive mutation and multiple restart with simulated anneling."
   ]
  },
  {
   "cell_type": "code",
   "execution_count": 27,
   "metadata": {},
   "outputs": [],
   "source": [
    "\n",
    "\n",
    "def genetic_algorithm_tsp_adaptive_mutation(\n",
    "    \n",
    "    dist_matrix,\n",
    "    population_size=100, \n",
    "    tournament_size=10, \n",
    "    num_generations=10000, \n",
    "    initial_mutation_rate=0.1, \n",
    "    crossover_iterations=1,\n",
    "    max_generations_without_improvement=500,\n",
    "    mutation_increase_factor=1.5,\n",
    "    mutation_decrease_factor=0.7,\n",
    "    mutation_threshold=1.3,  # Soglia per il riavvio\n",
    "    initial_temp=1000,      \n",
    "    cooling_rate=0.992,\n",
    "    stop_temp=1e-200,\n",
    "\n",
    "):\n",
    "    \"\"\"Risolve il TSP utilizzando un Algoritmo Genetico con mutazione adattiva.\"\"\"\n",
    "    dist_matrix = np.array(dist_matrix)\n",
    "    population = initial_population(population_size)\n",
    "    current_mutation_rate = initial_mutation_rate\n",
    "\n",
    "    best_solution, best_cost = min(population, key=lambda x: x[1][0])\n",
    "    all_time_best_solution = best_solution\n",
    "    all_time_best_cost = best_cost\n",
    "    generations_without_improvement = 0\n",
    "    \n",
    "\n",
    "    for generation in tqdm(range(num_generations)):\n",
    "        # Controlla se è necessario riavviare con SA\n",
    "        if current_mutation_rate > mutation_threshold:\n",
    "            print(f\"\\nMutation rate ({current_mutation_rate:.3f}) exceeded threshold ({mutation_threshold})\")\n",
    "            print(\"Restarting with Simulated Annealing...\")\n",
    "            \n",
    "            # Esegui SA e ottieni nuova popolazione\n",
    "            new_population = simulated_annealing_population(\n",
    "                dist_matrix, \n",
    "                initial_temp, \n",
    "                cooling_rate, \n",
    "                stop_temp, \n",
    "                population_size\n",
    "            )\n",
    "            population = sorted(new_population, key=lambda x: x[1][0])[:population_size]\n",
    "            # Reset del tasso di mutazione\n",
    "            current_mutation_rate = initial_mutation_rate\n",
    "            print(\"Population refreshed and mutation rate reset\")\n",
    "\n",
    "        new_population = []\n",
    "\n",
    "        while len(new_population) < population_size:\n",
    "            parent1 = tournament_selection(population, tournament_size)\n",
    "            parent2 = tournament_selection(population, tournament_size)\n",
    "            \n",
    "            child = inver_over_crossover(parent1[0], parent2[0], crossover_iterations)\n",
    "            \n",
    "            if np.random.random() < current_mutation_rate:\n",
    "                child = inversion_mutation(child)\n",
    "\n",
    "            child_cost = tsp_cost(child, dist_matrix)\n",
    "            new_population.append((child, child_cost))\n",
    "\n",
    "        combined_population = np.array(new_population + population, dtype=object)\n",
    "        sorted_indices = np.argsort([cost[0] for _, cost in combined_population])\n",
    "        population = combined_population[sorted_indices][:population_size].tolist()\n",
    "\n",
    "        new_best_solution, new_best_cost = min(population, key=lambda x: x[1][0])\n",
    "\n",
    "        # Aggiorna il miglior risultato di sempre se necessario\n",
    "        if new_best_cost[0] < all_time_best_cost[0]:\n",
    "            all_time_best_solution = new_best_solution\n",
    "            all_time_best_cost = new_best_cost\n",
    "\n",
    "        if new_best_cost[0] < best_cost[0]:\n",
    "            best_solution, best_cost = new_best_solution, new_best_cost\n",
    "            generations_without_improvement = 0\n",
    "            current_mutation_rate = max(initial_mutation_rate, \n",
    "                                     current_mutation_rate * mutation_decrease_factor)\n",
    "        else:\n",
    "            generations_without_improvement += 1\n",
    "\n",
    "        if generations_without_improvement > max_generations_without_improvement:\n",
    "            current_mutation_rate *= mutation_increase_factor\n",
    "            generations_without_improvement = 0\n",
    "\n",
    "        if generation % 1000 == 0:\n",
    "            print(f\"Generazione {generation}: \"\n",
    "                  f\"Costo migliore corrente = {best_cost[0]:.2f} | \"\n",
    "                  f\"Costo migliore assoluto = {all_time_best_cost[0]:.2f} | \"\n",
    "                  f\"Tasso di mutazione = {current_mutation_rate:.3f} | \"\n",
    "                  f\"Valido = {best_cost[1]}\")\n",
    "    \n",
    "    return all_time_best_cost\n"
   ]
  },
  {
   "cell_type": "markdown",
   "metadata": {},
   "source": [
    "## Vanuatu"
   ]
  },
  {
   "cell_type": "code",
   "execution_count": 28,
   "metadata": {},
   "outputs": [
    {
     "name": "stderr",
     "output_type": "stream",
     "text": [
      "0it [00:00, ?it/s]\n"
     ]
    },
    {
     "data": {
      "text/plain": [
       "(np.float64(1345.5449564733112), np.True_)"
      ]
     },
     "execution_count": 28,
     "metadata": {},
     "output_type": "execute_result"
    }
   ],
   "source": [
    "\n",
    "CITIES = pd.read_csv('./cities/vanuatu.csv', header=None, names=['name', 'lat', 'lon'])\n",
    "DIST_MATRIX = np.zeros((len(CITIES), len(CITIES)))\n",
    "for c1, c2 in combinations(CITIES.itertuples(), 2):\n",
    "    DIST_MATRIX[c1.Index, c2.Index] = DIST_MATRIX[c2.Index, c1.Index] = geodesic(\n",
    "        (c1.lat, c1.lon), (c2.lat, c2.lon)\n",
    "    ).km\n",
    "genetic_algorithm_tsp_adaptive_mutation(\n",
    "    DIST_MATRIX,\n",
    "    num_generations=0, \n",
    ")\n",
    "\n"
   ]
  },
  {
   "cell_type": "markdown",
   "metadata": {},
   "source": [
    "For vanuatu just applying simulated anneling to get the best solution is enough"
   ]
  },
  {
   "cell_type": "markdown",
   "metadata": {},
   "source": [
    "## Italy"
   ]
  },
  {
   "cell_type": "code",
   "execution_count": 29,
   "metadata": {},
   "outputs": [
    {
     "name": "stderr",
     "output_type": "stream",
     "text": [
      "  0%|          | 8/10000 [00:00<02:22, 70.15it/s]"
     ]
    },
    {
     "name": "stdout",
     "output_type": "stream",
     "text": [
      "Generazione 0: Costo migliore corrente = 4436.03 | Costo migliore assoluto = 4436.03 | Tasso di mutazione = 0.100 | Valido = True\n"
     ]
    },
    {
     "name": "stderr",
     "output_type": "stream",
     "text": [
      " 10%|█         | 1011/10000 [00:14<02:04, 72.45it/s]"
     ]
    },
    {
     "name": "stdout",
     "output_type": "stream",
     "text": [
      "Generazione 1000: Costo migliore corrente = 4258.07 | Costo migliore assoluto = 4258.07 | Tasso di mutazione = 0.130 | Valido = True\n"
     ]
    },
    {
     "name": "stderr",
     "output_type": "stream",
     "text": [
      " 20%|██        | 2009/10000 [00:28<01:53, 70.68it/s]"
     ]
    },
    {
     "name": "stdout",
     "output_type": "stream",
     "text": [
      "Generazione 2000: Costo migliore corrente = 4258.07 | Costo migliore assoluto = 4258.07 | Tasso di mutazione = 0.220 | Valido = True\n"
     ]
    },
    {
     "name": "stderr",
     "output_type": "stream",
     "text": [
      " 30%|███       | 3013/10000 [00:43<01:39, 70.53it/s]"
     ]
    },
    {
     "name": "stdout",
     "output_type": "stream",
     "text": [
      "Generazione 3000: Costo migliore corrente = 4258.07 | Costo migliore assoluto = 4258.07 | Tasso di mutazione = 0.371 | Valido = True\n"
     ]
    },
    {
     "name": "stderr",
     "output_type": "stream",
     "text": [
      " 40%|████      | 4013/10000 [00:57<01:25, 70.36it/s]"
     ]
    },
    {
     "name": "stdout",
     "output_type": "stream",
     "text": [
      "Generazione 4000: Costo migliore corrente = 4258.07 | Costo migliore assoluto = 4258.07 | Tasso di mutazione = 0.627 | Valido = True\n"
     ]
    },
    {
     "name": "stderr",
     "output_type": "stream",
     "text": [
      " 50%|█████     | 5010/10000 [01:12<01:32, 54.01it/s]"
     ]
    },
    {
     "name": "stdout",
     "output_type": "stream",
     "text": [
      "Generazione 5000: Costo migliore corrente = 4258.07 | Costo migliore assoluto = 4258.07 | Tasso di mutazione = 1.060 | Valido = True\n"
     ]
    },
    {
     "name": "stderr",
     "output_type": "stream",
     "text": [
      " 52%|█████▏    | 5181/10000 [01:16<01:24, 56.71it/s]"
     ]
    },
    {
     "name": "stdout",
     "output_type": "stream",
     "text": [
      "\n",
      "Mutation rate (1.379) exceeded threshold (1.3)\n",
      "Restarting with Simulated Annealing...\n"
     ]
    },
    {
     "name": "stderr",
     "output_type": "stream",
     "text": [
      " 52%|█████▏    | 5193/10000 [01:21<14:33,  5.50it/s]"
     ]
    },
    {
     "name": "stdout",
     "output_type": "stream",
     "text": [
      "Population refreshed and mutation rate reset\n"
     ]
    },
    {
     "name": "stderr",
     "output_type": "stream",
     "text": [
      " 60%|██████    | 6005/10000 [01:35<01:05, 60.56it/s]"
     ]
    },
    {
     "name": "stdout",
     "output_type": "stream",
     "text": [
      "Generazione 6000: Costo migliore corrente = 4172.76 | Costo migliore assoluto = 4172.76 | Tasso di mutazione = 0.100 | Valido = True\n"
     ]
    },
    {
     "name": "stderr",
     "output_type": "stream",
     "text": [
      " 70%|███████   | 7013/10000 [01:51<00:41, 72.75it/s]"
     ]
    },
    {
     "name": "stdout",
     "output_type": "stream",
     "text": [
      "Generazione 7000: Costo migliore corrente = 4172.76 | Costo migliore assoluto = 4172.76 | Tasso di mutazione = 0.169 | Valido = True\n"
     ]
    },
    {
     "name": "stderr",
     "output_type": "stream",
     "text": [
      " 80%|████████  | 8012/10000 [02:07<00:31, 63.72it/s]"
     ]
    },
    {
     "name": "stdout",
     "output_type": "stream",
     "text": [
      "Generazione 8000: Costo migliore corrente = 4172.76 | Costo migliore assoluto = 4172.76 | Tasso di mutazione = 0.286 | Valido = True\n"
     ]
    },
    {
     "name": "stderr",
     "output_type": "stream",
     "text": [
      " 90%|█████████ | 9009/10000 [02:26<00:19, 50.09it/s]"
     ]
    },
    {
     "name": "stdout",
     "output_type": "stream",
     "text": [
      "Generazione 9000: Costo migliore corrente = 4172.76 | Costo migliore assoluto = 4172.76 | Tasso di mutazione = 0.483 | Valido = True\n"
     ]
    },
    {
     "name": "stderr",
     "output_type": "stream",
     "text": [
      "100%|██████████| 10000/10000 [02:45<00:00, 60.40it/s]\n"
     ]
    },
    {
     "data": {
      "text/plain": [
       "(np.float64(4172.7626139164095), np.True_)"
      ]
     },
     "execution_count": 29,
     "metadata": {},
     "output_type": "execute_result"
    }
   ],
   "source": [
    "\n",
    "CITIES = pd.read_csv('./cities/italy.csv', header=None, names=['name', 'lat', 'lon'])\n",
    "DIST_MATRIX = np.zeros((len(CITIES), len(CITIES)))\n",
    "for c1, c2 in combinations(CITIES.itertuples(), 2):\n",
    "    DIST_MATRIX[c1.Index, c2.Index] = DIST_MATRIX[c2.Index, c1.Index] = geodesic(\n",
    "        (c1.lat, c1.lon), (c2.lat, c2.lon)\n",
    "    ).km\n",
    "genetic_algorithm_tsp_adaptive_mutation(\n",
    "    DIST_MATRIX,\n",
    "    mutation_increase_factor=1.3,\n",
    "    mutation_decrease_factor=0.7\n",
    ")"
   ]
  },
  {
   "cell_type": "markdown",
   "metadata": {},
   "source": [
    "## Russia"
   ]
  },
  {
   "cell_type": "code",
   "execution_count": 30,
   "metadata": {},
   "outputs": [
    {
     "name": "stderr",
     "output_type": "stream",
     "text": [
      "  0%|          | 9/10000 [00:00<03:39, 45.53it/s]"
     ]
    },
    {
     "name": "stdout",
     "output_type": "stream",
     "text": [
      "Generazione 0: Costo migliore corrente = 34870.45 | Costo migliore assoluto = 34870.45 | Tasso di mutazione = 0.100 | Valido = True\n"
     ]
    },
    {
     "name": "stderr",
     "output_type": "stream",
     "text": [
      " 10%|█         | 1005/10000 [00:22<02:48, 53.24it/s]"
     ]
    },
    {
     "name": "stdout",
     "output_type": "stream",
     "text": [
      "Generazione 1000: Costo migliore corrente = 33564.66 | Costo migliore assoluto = 33564.66 | Tasso di mutazione = 0.100 | Valido = True\n"
     ]
    },
    {
     "name": "stderr",
     "output_type": "stream",
     "text": [
      " 20%|██        | 2007/10000 [00:41<02:31, 52.76it/s]"
     ]
    },
    {
     "name": "stdout",
     "output_type": "stream",
     "text": [
      "Generazione 2000: Costo migliore corrente = 33451.91 | Costo migliore assoluto = 33451.91 | Tasso di mutazione = 0.100 | Valido = True\n"
     ]
    },
    {
     "name": "stderr",
     "output_type": "stream",
     "text": [
      " 30%|███       | 3006/10000 [01:00<02:11, 53.08it/s]"
     ]
    },
    {
     "name": "stdout",
     "output_type": "stream",
     "text": [
      "Generazione 3000: Costo migliore corrente = 33441.18 | Costo migliore assoluto = 33441.18 | Tasso di mutazione = 0.100 | Valido = True\n"
     ]
    },
    {
     "name": "stderr",
     "output_type": "stream",
     "text": [
      " 40%|████      | 4008/10000 [01:19<01:55, 51.80it/s]"
     ]
    },
    {
     "name": "stdout",
     "output_type": "stream",
     "text": [
      "Generazione 4000: Costo migliore corrente = 33441.18 | Costo migliore assoluto = 33441.18 | Tasso di mutazione = 0.225 | Valido = True\n"
     ]
    },
    {
     "name": "stderr",
     "output_type": "stream",
     "text": [
      " 50%|█████     | 5009/10000 [01:39<01:37, 51.15it/s]"
     ]
    },
    {
     "name": "stdout",
     "output_type": "stream",
     "text": [
      "Generazione 5000: Costo migliore corrente = 33441.18 | Costo migliore assoluto = 33441.18 | Tasso di mutazione = 0.506 | Valido = True\n"
     ]
    },
    {
     "name": "stderr",
     "output_type": "stream",
     "text": [
      " 60%|██████    | 6007/10000 [01:59<01:25, 46.92it/s]"
     ]
    },
    {
     "name": "stdout",
     "output_type": "stream",
     "text": [
      "Generazione 6000: Costo migliore corrente = 33441.18 | Costo migliore assoluto = 33441.18 | Tasso di mutazione = 1.139 | Valido = True\n"
     ]
    },
    {
     "name": "stderr",
     "output_type": "stream",
     "text": [
      " 63%|██████▎   | 6338/10000 [02:06<01:16, 47.61it/s]"
     ]
    },
    {
     "name": "stdout",
     "output_type": "stream",
     "text": [
      "\n",
      "Mutation rate (1.709) exceeded threshold (1.3)\n",
      "Restarting with Simulated Annealing...\n"
     ]
    },
    {
     "name": "stderr",
     "output_type": "stream",
     "text": [
      " 63%|██████▎   | 6349/10000 [02:13<17:42,  3.44it/s]"
     ]
    },
    {
     "name": "stdout",
     "output_type": "stream",
     "text": [
      "Population refreshed and mutation rate reset\n"
     ]
    },
    {
     "name": "stderr",
     "output_type": "stream",
     "text": [
      " 70%|███████   | 7007/10000 [02:30<01:11, 42.08it/s]"
     ]
    },
    {
     "name": "stdout",
     "output_type": "stream",
     "text": [
      "Generazione 7000: Costo migliore corrente = 33441.18 | Costo migliore assoluto = 33441.18 | Tasso di mutazione = 0.150 | Valido = True\n"
     ]
    },
    {
     "name": "stderr",
     "output_type": "stream",
     "text": [
      " 80%|████████  | 8005/10000 [02:55<00:41, 47.77it/s]"
     ]
    },
    {
     "name": "stdout",
     "output_type": "stream",
     "text": [
      "Generazione 8000: Costo migliore corrente = 33441.18 | Costo migliore assoluto = 33441.18 | Tasso di mutazione = 0.338 | Valido = True\n"
     ]
    },
    {
     "name": "stderr",
     "output_type": "stream",
     "text": [
      " 90%|█████████ | 9008/10000 [03:18<00:24, 40.12it/s]"
     ]
    },
    {
     "name": "stdout",
     "output_type": "stream",
     "text": [
      "Generazione 9000: Costo migliore corrente = 33441.18 | Costo migliore assoluto = 33441.18 | Tasso di mutazione = 0.759 | Valido = True\n"
     ]
    },
    {
     "name": "stderr",
     "output_type": "stream",
     "text": [
      " 98%|█████████▊| 9844/10000 [03:38<00:03, 40.50it/s]"
     ]
    },
    {
     "name": "stdout",
     "output_type": "stream",
     "text": [
      "\n",
      "Mutation rate (1.709) exceeded threshold (1.3)\n",
      "Restarting with Simulated Annealing...\n"
     ]
    },
    {
     "name": "stderr",
     "output_type": "stream",
     "text": [
      " 99%|█████████▊| 9854/10000 [03:45<00:46,  3.11it/s]"
     ]
    },
    {
     "name": "stdout",
     "output_type": "stream",
     "text": [
      "Population refreshed and mutation rate reset\n"
     ]
    },
    {
     "name": "stderr",
     "output_type": "stream",
     "text": [
      "100%|██████████| 10000/10000 [03:49<00:00, 43.58it/s]\n"
     ]
    },
    {
     "data": {
      "text/plain": [
       "(np.float64(33441.17816395336), np.True_)"
      ]
     },
     "execution_count": 30,
     "metadata": {},
     "output_type": "execute_result"
    }
   ],
   "source": [
    "\n",
    "CITIES = pd.read_csv('./cities/russia.csv', header=None, names=['name', 'lat', 'lon'])\n",
    "DIST_MATRIX = np.zeros((len(CITIES), len(CITIES)))\n",
    "for c1, c2 in combinations(CITIES.itertuples(), 2):\n",
    "    DIST_MATRIX[c1.Index, c2.Index] = DIST_MATRIX[c2.Index, c1.Index] = geodesic(\n",
    "        (c1.lat, c1.lon), (c2.lat, c2.lon)\n",
    "    ).km\n",
    "genetic_algorithm_tsp_adaptive_mutation(DIST_MATRIX)"
   ]
  },
  {
   "cell_type": "markdown",
   "metadata": {},
   "source": [
    "## Us"
   ]
  },
  {
   "cell_type": "code",
   "execution_count": 31,
   "metadata": {},
   "outputs": [
    {
     "name": "stderr",
     "output_type": "stream",
     "text": [
      "  0%|          | 5/10000 [00:00<04:05, 40.70it/s]"
     ]
    },
    {
     "name": "stdout",
     "output_type": "stream",
     "text": [
      "Generazione 0: Costo migliore corrente = 43226.50 | Costo migliore assoluto = 43226.50 | Tasso di mutazione = 0.100 | Valido = True\n"
     ]
    },
    {
     "name": "stderr",
     "output_type": "stream",
     "text": [
      " 10%|█         | 1002/10000 [00:31<04:20, 34.53it/s]"
     ]
    },
    {
     "name": "stdout",
     "output_type": "stream",
     "text": [
      "Generazione 1000: Costo migliore corrente = 41706.29 | Costo migliore assoluto = 41706.29 | Tasso di mutazione = 0.100 | Valido = True\n"
     ]
    },
    {
     "name": "stderr",
     "output_type": "stream",
     "text": [
      " 20%|██        | 2006/10000 [01:07<04:09, 32.08it/s]"
     ]
    },
    {
     "name": "stdout",
     "output_type": "stream",
     "text": [
      "Generazione 2000: Costo migliore corrente = 40360.84 | Costo migliore assoluto = 40360.84 | Tasso di mutazione = 0.100 | Valido = True\n"
     ]
    },
    {
     "name": "stderr",
     "output_type": "stream",
     "text": [
      " 30%|███       | 3004/10000 [01:41<04:04, 28.63it/s]"
     ]
    },
    {
     "name": "stdout",
     "output_type": "stream",
     "text": [
      "Generazione 3000: Costo migliore corrente = 40117.45 | Costo migliore assoluto = 40117.45 | Tasso di mutazione = 0.100 | Valido = True\n"
     ]
    },
    {
     "name": "stderr",
     "output_type": "stream",
     "text": [
      " 40%|████      | 4004/10000 [02:12<03:03, 32.60it/s]"
     ]
    },
    {
     "name": "stdout",
     "output_type": "stream",
     "text": [
      "Generazione 4000: Costo migliore corrente = 39991.44 | Costo migliore assoluto = 39991.44 | Tasso di mutazione = 0.100 | Valido = True\n"
     ]
    },
    {
     "name": "stderr",
     "output_type": "stream",
     "text": [
      " 50%|█████     | 5004/10000 [02:45<02:28, 33.60it/s]"
     ]
    },
    {
     "name": "stdout",
     "output_type": "stream",
     "text": [
      "Generazione 5000: Costo migliore corrente = 39951.85 | Costo migliore assoluto = 39951.85 | Tasso di mutazione = 0.100 | Valido = True\n"
     ]
    },
    {
     "name": "stderr",
     "output_type": "stream",
     "text": [
      " 60%|██████    | 6005/10000 [03:21<02:19, 28.72it/s]"
     ]
    },
    {
     "name": "stdout",
     "output_type": "stream",
     "text": [
      "Generazione 6000: Costo migliore corrente = 39923.25 | Costo migliore assoluto = 39923.25 | Tasso di mutazione = 0.100 | Valido = True\n"
     ]
    },
    {
     "name": "stderr",
     "output_type": "stream",
     "text": [
      " 70%|███████   | 7005/10000 [03:54<01:47, 27.83it/s]"
     ]
    },
    {
     "name": "stdout",
     "output_type": "stream",
     "text": [
      "Generazione 7000: Costo migliore corrente = 39900.58 | Costo migliore assoluto = 39900.58 | Tasso di mutazione = 0.100 | Valido = True\n"
     ]
    },
    {
     "name": "stderr",
     "output_type": "stream",
     "text": [
      " 80%|████████  | 8006/10000 [04:28<00:59, 33.35it/s]"
     ]
    },
    {
     "name": "stdout",
     "output_type": "stream",
     "text": [
      "Generazione 8000: Costo migliore corrente = 39891.44 | Costo migliore assoluto = 39891.44 | Tasso di mutazione = 0.100 | Valido = True\n"
     ]
    },
    {
     "name": "stderr",
     "output_type": "stream",
     "text": [
      " 90%|█████████ | 9006/10000 [05:02<00:32, 30.77it/s]"
     ]
    },
    {
     "name": "stdout",
     "output_type": "stream",
     "text": [
      "Generazione 9000: Costo migliore corrente = 39871.46 | Costo migliore assoluto = 39871.46 | Tasso di mutazione = 0.100 | Valido = True\n"
     ]
    },
    {
     "name": "stderr",
     "output_type": "stream",
     "text": [
      "100%|██████████| 10000/10000 [05:34<00:00, 29.89it/s]\n"
     ]
    },
    {
     "data": {
      "text/plain": [
       "(np.float64(39858.250617746125), np.True_)"
      ]
     },
     "execution_count": 31,
     "metadata": {},
     "output_type": "execute_result"
    }
   ],
   "source": [
    "\n",
    "CITIES = pd.read_csv('./cities/us.csv', header=None, names=['name', 'lat', 'lon'])\n",
    "DIST_MATRIX = np.zeros((len(CITIES), len(CITIES)))\n",
    "for c1, c2 in combinations(CITIES.itertuples(), 2):\n",
    "    DIST_MATRIX[c1.Index, c2.Index] = DIST_MATRIX[c2.Index, c1.Index] = geodesic(\n",
    "        (c1.lat, c1.lon), (c2.lat, c2.lon)\n",
    "    ).km\n",
    "genetic_algorithm_tsp_adaptive_mutation(DIST_MATRIX)"
   ]
  },
  {
   "cell_type": "markdown",
   "metadata": {},
   "source": [
    "## China"
   ]
  },
  {
   "cell_type": "code",
   "execution_count": 32,
   "metadata": {},
   "outputs": [
    {
     "name": "stderr",
     "output_type": "stream",
     "text": [
      "  0%|          | 3/20000 [00:00<16:48, 19.82it/s]"
     ]
    },
    {
     "name": "stdout",
     "output_type": "stream",
     "text": [
      "Generazione 0: Costo migliore corrente = 63962.92 | Costo migliore assoluto = 63962.92 | Tasso di mutazione = 0.100 | Valido = True\n"
     ]
    },
    {
     "name": "stderr",
     "output_type": "stream",
     "text": [
      "  5%|▌         | 1004/20000 [00:52<15:23, 20.58it/s]"
     ]
    },
    {
     "name": "stdout",
     "output_type": "stream",
     "text": [
      "Generazione 1000: Costo migliore corrente = 61845.85 | Costo migliore assoluto = 61845.85 | Tasso di mutazione = 0.100 | Valido = True\n"
     ]
    },
    {
     "name": "stderr",
     "output_type": "stream",
     "text": [
      " 10%|█         | 2003/20000 [01:42<14:55, 20.11it/s]"
     ]
    },
    {
     "name": "stdout",
     "output_type": "stream",
     "text": [
      "Generazione 2000: Costo migliore corrente = 60666.36 | Costo migliore assoluto = 60666.36 | Tasso di mutazione = 0.100 | Valido = True\n"
     ]
    },
    {
     "name": "stderr",
     "output_type": "stream",
     "text": [
      " 15%|█▌        | 3005/20000 [02:37<13:25, 21.10it/s]"
     ]
    },
    {
     "name": "stdout",
     "output_type": "stream",
     "text": [
      "Generazione 3000: Costo migliore corrente = 59305.02 | Costo migliore assoluto = 59305.02 | Tasso di mutazione = 0.100 | Valido = True\n"
     ]
    },
    {
     "name": "stderr",
     "output_type": "stream",
     "text": [
      " 20%|██        | 4003/20000 [03:33<16:12, 16.45it/s]"
     ]
    },
    {
     "name": "stdout",
     "output_type": "stream",
     "text": [
      "Generazione 4000: Costo migliore corrente = 58571.94 | Costo migliore assoluto = 58571.94 | Tasso di mutazione = 0.100 | Valido = True\n"
     ]
    },
    {
     "name": "stderr",
     "output_type": "stream",
     "text": [
      " 25%|██▌       | 5004/20000 [04:27<12:02, 20.75it/s]"
     ]
    },
    {
     "name": "stdout",
     "output_type": "stream",
     "text": [
      "Generazione 5000: Costo migliore corrente = 57920.47 | Costo migliore assoluto = 57920.47 | Tasso di mutazione = 0.100 | Valido = True\n"
     ]
    },
    {
     "name": "stderr",
     "output_type": "stream",
     "text": [
      " 30%|███       | 6004/20000 [05:24<12:39, 18.43it/s]"
     ]
    },
    {
     "name": "stdout",
     "output_type": "stream",
     "text": [
      "Generazione 6000: Costo migliore corrente = 57350.44 | Costo migliore assoluto = 57350.44 | Tasso di mutazione = 0.100 | Valido = True\n"
     ]
    },
    {
     "name": "stderr",
     "output_type": "stream",
     "text": [
      " 35%|███▌      | 7003/20000 [06:25<13:33, 15.98it/s]"
     ]
    },
    {
     "name": "stdout",
     "output_type": "stream",
     "text": [
      "Generazione 7000: Costo migliore corrente = 56862.55 | Costo migliore assoluto = 56862.55 | Tasso di mutazione = 0.100 | Valido = True\n"
     ]
    },
    {
     "name": "stderr",
     "output_type": "stream",
     "text": [
      " 40%|████      | 8003/20000 [07:31<12:24, 16.12it/s]"
     ]
    },
    {
     "name": "stdout",
     "output_type": "stream",
     "text": [
      "Generazione 8000: Costo migliore corrente = 56403.01 | Costo migliore assoluto = 56403.01 | Tasso di mutazione = 0.100 | Valido = True\n"
     ]
    },
    {
     "name": "stderr",
     "output_type": "stream",
     "text": [
      " 45%|████▌     | 9003/20000 [08:27<14:27, 12.67it/s]"
     ]
    },
    {
     "name": "stdout",
     "output_type": "stream",
     "text": [
      "Generazione 9000: Costo migliore corrente = 55731.77 | Costo migliore assoluto = 55731.77 | Tasso di mutazione = 0.100 | Valido = True\n"
     ]
    },
    {
     "name": "stderr",
     "output_type": "stream",
     "text": [
      " 50%|█████     | 10004/20000 [09:34<10:08, 16.44it/s]"
     ]
    },
    {
     "name": "stdout",
     "output_type": "stream",
     "text": [
      "Generazione 10000: Costo migliore corrente = 55352.71 | Costo migliore assoluto = 55352.71 | Tasso di mutazione = 0.100 | Valido = True\n"
     ]
    },
    {
     "name": "stderr",
     "output_type": "stream",
     "text": [
      " 55%|█████▌    | 11003/20000 [10:30<08:04, 18.58it/s]"
     ]
    },
    {
     "name": "stdout",
     "output_type": "stream",
     "text": [
      "Generazione 11000: Costo migliore corrente = 55183.31 | Costo migliore assoluto = 55183.31 | Tasso di mutazione = 0.100 | Valido = True\n"
     ]
    },
    {
     "name": "stderr",
     "output_type": "stream",
     "text": [
      " 60%|██████    | 12002/20000 [11:21<06:06, 21.82it/s]"
     ]
    },
    {
     "name": "stdout",
     "output_type": "stream",
     "text": [
      "Generazione 12000: Costo migliore corrente = 54980.68 | Costo migliore assoluto = 54980.68 | Tasso di mutazione = 0.100 | Valido = True\n"
     ]
    },
    {
     "name": "stderr",
     "output_type": "stream",
     "text": [
      " 65%|██████▌   | 13003/20000 [12:09<05:04, 22.97it/s]"
     ]
    },
    {
     "name": "stdout",
     "output_type": "stream",
     "text": [
      "Generazione 13000: Costo migliore corrente = 54873.42 | Costo migliore assoluto = 54873.42 | Tasso di mutazione = 0.100 | Valido = True\n"
     ]
    },
    {
     "name": "stderr",
     "output_type": "stream",
     "text": [
      " 70%|███████   | 14005/20000 [12:53<04:22, 22.87it/s]"
     ]
    },
    {
     "name": "stdout",
     "output_type": "stream",
     "text": [
      "Generazione 14000: Costo migliore corrente = 54727.25 | Costo migliore assoluto = 54727.25 | Tasso di mutazione = 0.100 | Valido = True\n"
     ]
    },
    {
     "name": "stderr",
     "output_type": "stream",
     "text": [
      " 75%|███████▌  | 15004/20000 [13:37<03:42, 22.46it/s]"
     ]
    },
    {
     "name": "stdout",
     "output_type": "stream",
     "text": [
      "Generazione 15000: Costo migliore corrente = 54528.55 | Costo migliore assoluto = 54528.55 | Tasso di mutazione = 0.100 | Valido = True\n"
     ]
    },
    {
     "name": "stderr",
     "output_type": "stream",
     "text": [
      " 80%|████████  | 16003/20000 [14:36<03:02, 21.86it/s]"
     ]
    },
    {
     "name": "stdout",
     "output_type": "stream",
     "text": [
      "Generazione 16000: Costo migliore corrente = 54449.86 | Costo migliore assoluto = 54449.86 | Tasso di mutazione = 0.100 | Valido = True\n"
     ]
    },
    {
     "name": "stderr",
     "output_type": "stream",
     "text": [
      " 85%|████████▌ | 17005/20000 [15:22<02:15, 22.17it/s]"
     ]
    },
    {
     "name": "stdout",
     "output_type": "stream",
     "text": [
      "Generazione 17000: Costo migliore corrente = 54326.93 | Costo migliore assoluto = 54326.93 | Tasso di mutazione = 0.100 | Valido = True\n"
     ]
    },
    {
     "name": "stderr",
     "output_type": "stream",
     "text": [
      " 90%|█████████ | 18004/20000 [16:07<01:30, 22.18it/s]"
     ]
    },
    {
     "name": "stdout",
     "output_type": "stream",
     "text": [
      "Generazione 18000: Costo migliore corrente = 54243.14 | Costo migliore assoluto = 54243.14 | Tasso di mutazione = 0.100 | Valido = True\n"
     ]
    },
    {
     "name": "stderr",
     "output_type": "stream",
     "text": [
      " 95%|█████████▌| 19003/20000 [16:53<00:50, 19.78it/s]"
     ]
    },
    {
     "name": "stdout",
     "output_type": "stream",
     "text": [
      "Generazione 19000: Costo migliore corrente = 54161.25 | Costo migliore assoluto = 54161.25 | Tasso di mutazione = 0.100 | Valido = True\n"
     ]
    },
    {
     "name": "stderr",
     "output_type": "stream",
     "text": [
      "100%|██████████| 20000/20000 [17:39<00:00, 18.88it/s]\n"
     ]
    },
    {
     "data": {
      "text/plain": [
       "(np.float64(54028.37760265771), np.True_)"
      ]
     },
     "execution_count": 32,
     "metadata": {},
     "output_type": "execute_result"
    }
   ],
   "source": [
    "\n",
    "CITIES = pd.read_csv('./cities/china.csv', header=None, names=['name', 'lat', 'lon'])\n",
    "DIST_MATRIX = np.zeros((len(CITIES), len(CITIES)))\n",
    "for c1, c2 in combinations(CITIES.itertuples(), 2):\n",
    "    DIST_MATRIX[c1.Index, c2.Index] = DIST_MATRIX[c2.Index, c1.Index] = geodesic(\n",
    "        (c1.lat, c1.lon), (c2.lat, c2.lon)\n",
    "    ).km\n",
    "genetic_algorithm_tsp_adaptive_mutation(\n",
    "    DIST_MATRIX,\n",
    "    num_generations=20000, \n",
    ")"
   ]
  }
 ],
 "metadata": {
  "kernelspec": {
   "display_name": ".venv",
   "language": "python",
   "name": "python3"
  },
  "language_info": {
   "codemirror_mode": {
    "name": "ipython",
    "version": 3
   },
   "file_extension": ".py",
   "mimetype": "text/x-python",
   "name": "python",
   "nbconvert_exporter": "python",
   "pygments_lexer": "ipython3",
   "version": "3.12.4"
  }
 },
 "nbformat": 4,
 "nbformat_minor": 2
}
